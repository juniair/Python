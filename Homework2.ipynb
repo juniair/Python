{
 "cells": [
  {
   "cell_type": "markdown",
   "metadata": {
    "collapsed": true
   },
   "source": [
    "#Homework2"
   ]
  },
  {
   "cell_type": "markdown",
   "metadata": {
    "collapsed": true
   },
   "source": [
    "####1. 다음 6 개의 Expression에 대해 Evaluation 결과 값을 출력하고, 해당 결과가 나온 이유에 대해 설명하시오.   "
   ]
  },
  {
   "cell_type": "markdown",
   "metadata": {},
   "source": [
    "- 1 and 2 and 3 and 4\n",
    "- 1 or 2 or 3 or 4\n",
    "- 1 and 2 or 3 and 4\n",
    "- (1 and 2) or (3 and 4)\n",
    "- 1 or 2 and 3 or 4\n",
    "- (1 or 2) and (3 or 4)"
   ]
  },
  {
   "cell_type": "code",
   "execution_count": 1,
   "metadata": {
    "collapsed": false
   },
   "outputs": [
    {
     "name": "stdout",
     "output_type": "stream",
     "text": [
      "4\n"
     ]
    }
   ],
   "source": [
    "print 1 and 2 and 3 and 4"
   ]
  },
  {
   "cell_type": "markdown",
   "metadata": {},
   "source": [
    "해설 : 앞이 참이여도 and 연산자는 뒤의 항목도 보아야한다. 2,3 도 계속 참으로 인식하여 마지막의 4를 출력을하게 됩니다.\n"
   ]
  },
  {
   "cell_type": "code",
   "execution_count": 2,
   "metadata": {
    "collapsed": false
   },
   "outputs": [
    {
     "name": "stdout",
     "output_type": "stream",
     "text": [
      "1\n"
     ]
    }
   ],
   "source": [
    "print 1 or 2 or 3 or 4"
   ]
  },
  {
   "cell_type": "markdown",
   "metadata": {},
   "source": [
    "해설 : or 연산은 앞에 결과가 참이면 뒤에 결과에 관계없이 참으로 인식하기 때문에 처음 1을 출력하게 됩니다."
   ]
  },
  {
   "cell_type": "code",
   "execution_count": 3,
   "metadata": {
    "collapsed": false
   },
   "outputs": [
    {
     "name": "stdout",
     "output_type": "stream",
     "text": [
      "2\n"
     ]
    }
   ],
   "source": [
    "print 1 and 2 or 3 and 4"
   ]
  },
  {
   "cell_type": "markdown",
   "metadata": {},
   "source": [
    "해설 : 앞의 and가 1을 본 뒤 2를 봐서 참 값이 나왔으므로 or 뒤에와는 관계 없이 참이게 됩니다. 그러므로 2를 출력하게 됩니다."
   ]
  },
  {
   "cell_type": "code",
   "execution_count": 4,
   "metadata": {
    "collapsed": false
   },
   "outputs": [
    {
     "name": "stdout",
     "output_type": "stream",
     "text": [
      "2\n"
     ]
    }
   ],
   "source": [
    "print (1 and 2) or (3 and 4)"
   ]
  },
  {
   "cell_type": "markdown",
   "metadata": {},
   "source": [
    "해설 : (1 and 2)부분에서 둘다 참이라서 뒤의 2를 가르키고 or기 때문에 앞의 2를 출력한다. 하지만 이 때 3 and 4도 계산이 됩니다."
   ]
  },
  {
   "cell_type": "code",
   "execution_count": 5,
   "metadata": {
    "collapsed": false
   },
   "outputs": [
    {
     "name": "stdout",
     "output_type": "stream",
     "text": [
      "1\n"
     ]
    }
   ],
   "source": [
    "print 1 or 2 and 3 or 4"
   ]
  },
  {
   "cell_type": "markdown",
   "metadata": {},
   "source": [
    "해설 : 앞에 or연산자를 사용 하였기 때문에 1이 참이므로 1을 출력 하게 됩니다."
   ]
  },
  {
   "cell_type": "code",
   "execution_count": 6,
   "metadata": {
    "collapsed": false
   },
   "outputs": [
    {
     "name": "stdout",
     "output_type": "stream",
     "text": [
      "3\n"
     ]
    }
   ],
   "source": [
    "print (1 or 2) and (3 or 4)"
   ]
  },
  {
   "cell_type": "markdown",
   "metadata": {},
   "source": [
    "해설 : (1 or 2)에서 1이 참이므로 이 부분에서 결과는 1이고 그 뒤 and 연산자이기 때문에 뒤에 (3 or 4)를 연산 결과인 3을 보게 되어 3을 출력합니다."
   ]
  },
  {
   "cell_type": "markdown",
   "metadata": {},
   "source": [
    "####2. 키보드로 정수값을 입력 받고 그 값이 양수인지 음수인지를 비트 연산자를 이용하여 판단하는 프로그램을 작성하시오 .\n",
    "- [참고] 가장 왼쪽에 있는 비트가 0이면 양수이며, 1이면 음수이다."
   ]
  },
  {
   "cell_type": "code",
   "execution_count": 7,
   "metadata": {
    "collapsed": false
   },
   "outputs": [
    {
     "name": "stdout",
     "output_type": "stream",
     "text": [
      "Number = -3\n",
      "입력한 정수는 음수입니다.\n"
     ]
    }
   ],
   "source": [
    "number = input(\"Number = \")\n",
    "\n",
    "if ((number >> 32) == 0):\n",
    "    print '입력한 정수는 양수입니다.'\n",
    "else :\n",
    "    print '입력한 정수는 음수입니다.'\n"
   ]
  },
  {
   "cell_type": "markdown",
   "metadata": {},
   "source": [
    "해설 : 정수를 입력받고 MSB(최상위 비트)가 right shift 연산으로 2**0 자리에 왔을때 결과 값이 0이면 양수를 출력하고 1이면 음수를 출력하게 만들었습니다."
   ]
  },
  {
   "cell_type": "markdown",
   "metadata": {},
   "source": [
    "####3. 경로에 해당하는 문자열 1개를 입력 받아 그 안에 디렉토리 경로명과 파일명을 분리하여 리스트로 반환하는 함수 div_path(s)를 작성하시오."
   ]
  },
  {
   "cell_type": "markdown",
   "metadata": {},
   "source": [
    "   - 인자로 전달하는 문자열은 경로만 들어간다고 가정한다.\n",
    "   - 각 디렉토리와 파일을 구분하는 문자는 '/'로 가정한다.\n",
    "   - 반환하는 리스트의 첫번째 원소는 디렉토리이고 두번째 원소는 파일명이다.\n",
    "   - 다음과 같은 실행 및 출력 결과가 도출되어야 한다.\n",
    "        - div_path('/usr/local/bin/python')\n",
    "        - ['/usr/local/bin', 'python']\n",
    "        - div_path('/home/chulsoo/test.txt')\n",
    "        - ['/home/chulsoo', 'test.txt']\n",
    "   - [참고] 리스트(l) 내에 새로운 정수값 (예를 들어 10)을 넣는 방법은 l.append(10) 이다."
   ]
  },
  {
   "cell_type": "code",
   "execution_count": 8,
   "metadata": {
    "collapsed": false
   },
   "outputs": [
    {
     "name": "stdout",
     "output_type": "stream",
     "text": [
      "['/usr/local/bin', 'python']\n",
      "['/home/chulsoo', 'test.txt']\n"
     ]
    }
   ],
   "source": [
    "def div_path(path):\n",
    "    \n",
    "        result = []\n",
    "        delimiterCount = path.count('/')\n",
    "        stringIndex = 0\n",
    "        temp = ''\n",
    "        \n",
    "        while delimiterCount != 0:\n",
    "                        \n",
    "            if path[stringIndex] == '/':\n",
    "                delimiterCount -= 1\n",
    "            temp += path[stringIndex]\n",
    "            stringIndex += 1\n",
    "            \n",
    "        result.append(temp[:stringIndex-1])\n",
    "        result.append(path[stringIndex:])\n",
    "        \n",
    "        return result\n",
    "        \n",
    "print div_path('/usr/local/bin/python')\n",
    "print div_path('/home/chulsoo/test.txt')\n",
    "        \n",
    "        "
   ]
  },
  {
   "cell_type": "markdown",
   "metadata": {},
   "source": [
    "###해설 \n",
    " - div_path에서 문자열 path에 있는 '/ ' 의 갯수를 저장을 합니다.\n",
    " - while문을 통해서 '/ '가 기존에 알고 있는 갯수 만큼 발견될때 까지 수행을 합니다.\n",
    " - 발견하는 방법은 path에 문자 하나씩 읽어 '/ '가 발견되면 하나씩 감소 시킵니다.\n",
    " - 그 뒤 읽은 문자를 임시 문자열에 저장을 하고 다음 문자를 읽을 준비를 합니다.\n",
    " - while문으로 디렉토리 위치를 모두 알아내면 작업이  result에 디렉토리와 파일명을 append로 추가합니다.\n",
    " - 일때 디렉토리에 맨 마지막 문자인 '/ ' 제거 하고 추가하기 위해 임시 문자열을 슬라이싱으로 '/ '을 제거하여 추가를 합니다.\n",
    " - 파일명은 현재 path에서 읽을 위치부터 끝까지 읽어서 추가를 합니다."
   ]
  },
  {
   "cell_type": "markdown",
   "metadata": {},
   "source": [
    "####4. 두 개의 리스트를 인자로 받아서 그 두 개의 리스트에 대한 '합집합'을 반환하는 함수 list_union(lista, listb)를 작성하시오.\n",
    "   - 인자로 전달하는 리스트 2 개에는 정수값만 들어간다고 가정하자.\n",
    "   - 함수 내에서 새로운 리스트를 만들어 그 리스트 내에 인자로 받은 두 리스트의 모든 원소를 넣어 반환한다.\n",
    "   - 반환하는 리스트에는 절대로 중복된 원소가 들어 있으면 안된다 (집합의 조건).\n",
    "   - 반환하는 리스트는 정렬이 되어 있어야 한다.\n",
    "   - 다음과 같은 실행 및 출력 결과가 도출되어야 한다.\n",
    "    - list_union([1, 2, 3], [1, 2, 4])\n",
    "        - [1, 2, 3, 4]\n",
    "    - list_union([-10, -5, 0, -1], [100, 9, 0, 9])\n",
    "        - [-10, -5, -1, 0, 9, 100]\n",
    "    - list_union([0, 1, 2], [0, 1, 2])\n",
    "        - [0, 1, 2]\n",
    "   - [참고] 리스트(l) 내에 새로운 정수값 (예를 들어 10)을 넣는 방법은 l.append(10) 이다.\n",
    "   - [참고] 임의의 정수값 (x)이 리스트 (l) 내에 존재하는지 판단하는 방법은 x in l 이다."
   ]
  },
  {
   "cell_type": "code",
   "execution_count": 9,
   "metadata": {
    "collapsed": false
   },
   "outputs": [
    {
     "name": "stdout",
     "output_type": "stream",
     "text": [
      "[1, 2, 3, 4]\n",
      "[-10, -5, -1, 0, 9, 100]\n",
      "[0, 1, 2]\n"
     ]
    }
   ],
   "source": [
    "def list_union(lista, listb):\n",
    "        \n",
    "        result = lista\n",
    "        \n",
    "        for index in range(len(listb)):\n",
    "            if listb[index] in result:\n",
    "                continue\n",
    "            result.append(listb[index])\n",
    "            \n",
    "        result.sort()\n",
    "        \n",
    "        return result\n",
    "    \n",
    "print list_union([1, 2, 3], [1, 2, 4])\n",
    "print list_union([-10, -5, 0, -1], [100, 9, 0, 9])\n",
    "print list_union([0, 1, 2], [0, 1, 2])"
   ]
  },
  {
   "cell_type": "markdown",
   "metadata": {},
   "source": [
    "###해설\n",
    "   - result에 lista를 가르킨다.\n",
    "   - 이미 lista의 값은 result에 들어 있기 때문에 listb에 값 중에서 중복 된 것이 있는지 검사를 한다.\n",
    "   - 중복 된 것이 있으면 continue문으로 추가 작업을 하지 않고 다른 원소를 검사한다.\n",
    "   - 중복된 원소없이 저장된 list를 sort 메소드를 활용하여 정렬을 한다."
   ]
  },
  {
   "cell_type": "markdown",
   "metadata": {},
   "source": [
    "####6. 앞에서부터 읽을 때나 뒤에서부터 읽을 때나 모양이 같은 수를 대칭수(palindrome)라고 부릅니다. 두 자리 수를 곱해 만들 수 있는 대칭수 중 가장 큰 수는 9009 (= 91 × 99) 입니다. 세 자리 수를 곱해 만들 수 있는 가장 큰 대칭수는 얼마입니까?"
   ]
  },
  {
   "cell_type": "code",
   "execution_count": 10,
   "metadata": {
    "collapsed": false
   },
   "outputs": [
    {
     "name": "stdout",
     "output_type": "stream",
     "text": [
      "906609\n"
     ]
    }
   ],
   "source": [
    "solutionNumber = 0;\n",
    "\n",
    "for i in range(100, 1000):\n",
    "    for j in range(i, 1000):\n",
    "        caseNumber = i * j\n",
    "        stringNumber = str(caseNumber)\n",
    "        if stringNumber == stringNumber[::-1] and caseNumber > solutionNumber:\n",
    "            solutionNumber = caseNumber\n",
    "\n",
    "print solutionNumber"
   ]
  },
  {
   "cell_type": "markdown",
   "metadata": {
    "collapsed": false
   },
   "source": [
    "###해설\n",
    "   - 이중 for문을 활용하여 현재 얻은 결과값을 문자열로 치환합니다.\n",
    "   - 치환된 문자열이 역순으로 해도 일치하는지 비교합니다.\n",
    "   - 일치가 되면 현재 얻은 답이 이전에 발견된 답보다 정답에 가까우면 그 답을 해결된 답으로 바꿉니다.\n",
    "   - 반복문이 모두 완료가 되면 최종적으로 얻은 결과를 출력합니다."
   ]
  },
  {
   "cell_type": "markdown",
   "metadata": {
    "collapsed": true
   },
   "source": [
    "####7. 1 ~ 10 사이의 어떤 수로도 나누어 떨어지는 가장 작은 수는 2520입니다. 그러면 1 ~ 20 사이의 어떤 수로도 나누어 떨어지는 가장 작은 수는 얼마입니까?"
   ]
  },
  {
   "cell_type": "code",
   "execution_count": 13,
   "metadata": {
    "collapsed": false
   },
   "outputs": [
    {
     "name": "stdout",
     "output_type": "stream",
     "text": [
      "232792560\n"
     ]
    }
   ],
   "source": [
    "def isPromisimg(n):\n",
    "        switch = True\n",
    "        i = 2\n",
    "        while i < 21 and switch:\n",
    "            if n % i != 0:\n",
    "                switch = False\n",
    "            i += 1\n",
    "            \n",
    "        return switch\n",
    "    \n",
    "def leastCommonMultiple():\n",
    "    \n",
    "        number = 1\n",
    "        \n",
    "        while True:    \n",
    "            \n",
    "            if isPromisimg(number):\n",
    "                return number\n",
    "            number +=1\n",
    "            \n",
    "print leastCommonMultiple()\n"
   ]
  },
  {
   "cell_type": "markdown",
   "metadata": {},
   "source": [
    "###해설\n",
    "   - 선택한 숫자가 문제를 해결하는데 적절한 숫지인지 검사를 합니다.\n",
    "   - 우선 선택된 숫자가 가능성 있는 숫자라고 가정을 합니다.\n",
    "   - 그 숫자는 1은 무조건 나누면 나머지가 0이므로 2부터 나누기 시작합니다.\n",
    "   - 20까지 나누어 나머지가 있으면 그 숫자는 유망하지 않는 숫자로 반별하여 1을 증가 시키고 다시 그 숫자가 유망한지 반복을 합니다.\n",
    "   - 모든 조건에 만족하면 그 숫자는 해답이므로 출력을 합니다."
   ]
  },
  {
   "cell_type": "markdown",
   "metadata": {},
   "source": [
    "####8. 1부터 100까지 자연수에 대해 \"합의 제곱\"과 \"제곱의 합\"의 차이는 얼마입니까?"
   ]
  },
  {
   "cell_type": "code",
   "execution_count": 22,
   "metadata": {
    "collapsed": false
   },
   "outputs": [
    {
     "name": "stdout",
     "output_type": "stream",
     "text": [
      "25164150\n"
     ]
    }
   ],
   "source": [
    "import math\n",
    "\n",
    "n = 100\n",
    "\n",
    "sumOfSquare = (n * (n + 1) * (2*n + 1)) / 6\n",
    "squareOfSum = ((n * (n + 1)) / 2) ** 2\n",
    "    \n",
    "print squareOfSum - sumOfSquare"
   ]
  },
  {
   "cell_type": "markdown",
   "metadata": {},
   "source": [
    "###해설\n",
    "   - 자연수의 합과 자연수 제곱의 합의 공식을 활용 하여 문제의 답을 출력하였습니다."
   ]
  },
  {
   "cell_type": "markdown",
   "metadata": {},
   "source": [
    "####9 . [Incremental Project] 웹 URL로 지정된 웹페이지를 문자열로 가져와 \n",
    "- ####1) 모든 HTML 태그를 제외한 순수 텍스트 문자열만을 걸러내고\n",
    "- ####2) 그 순수 텍스트 문자열 안에 존재하는 단어가 총 몇개인지 출력하는 프로그램을 작성하시오.\n",
    "   - HTML 태그는 다음 조건을 가지는 것이다.\n",
    "    - < 로 시작하여 >로 끝난다.\n",
    "    - 예를 들어, 아래와 같은 HTML 내용 내에 한 줄이 있다고 가정하자.  \n",
    "        <label for=\"keep_signed\">로그인 유지</label>\n",
    "    - 위 소스에서 HTML 태그를 제외한 순수 텍스트 문자열은 아래와 같다.  \n",
    "      로그인 유지\n",
    "    - 한편, 아래와 같은 HTML 한 줄이 있다고 가정하자.  \n",
    "      '< link rel=\"stylesheet\" href=\"/common/css/xe.min.css?20150910092654\" >'\n",
    "     - 위 소스는 HTML 태그로만 구성된 것이며 걸러낼 수 있는 순수 텍스 문자열은 존재하지 않는다.\n",
    "   - 단어를 나누는 기준은 오로지 공백문자 (whitespace)이다.\n",
    "       - 즉, 위 순수 텍스트 문자열인 \"로그인 유지\"에서 분리한 단어는 \"로그인\"과 \"유지\"이다.\n",
    "   - 다음은 URL로 지정된 웹페이지를 특정 문자열로 가져오는 코드이다.\n",
    "      - 즉, 숙제 코드는 아래 코드로 부터 시작해야 한다."
   ]
  },
  {
   "cell_type": "code",
   "execution_count": 10,
   "metadata": {
    "collapsed": false,
    "scrolled": false
   },
   "outputs": [
    {
     "name": "stdout",
     "output_type": "stream",
     "text": [
      "\n",
      "1 컴퓨터공학부\n",
      "2 Schoolfun\n",
      "3 -\n",
      "4 Study\n",
      "5 and\n",
      "6 Fun\n",
      "7 로그인\n",
      "8 로그인\n",
      "9 아이디\n",
      "10 비밀번호\n",
      "11 로그인\n",
      "12 유지\n",
      "13 브라우저를\n",
      "14 닫더라도\n",
      "15 로그인이\n",
      "16 계속\n",
      "17 유지될\n",
      "18 수\n",
      "19 있습니다.\n",
      "20 로그인\n",
      "21 유지\n",
      "22 기능을\n",
      "23 사용할\n",
      "24 경우\n",
      "25 다음\n",
      "26 접속부터는\n",
      "27 로그인할\n",
      "28 필요가\n",
      "29 없습니다.\n",
      "30 단,\n",
      "31 게임방,\n",
      "32 학교\n",
      "33 등\n",
      "34 공공장소에서\n",
      "35 이용\n",
      "36 시\n",
      "37 개인정보가\n",
      "38 유출될\n",
      "39 수\n",
      "40 있으니\n",
      "41 꼭\n",
      "42 로그아웃을\n",
      "43 해주세요.\n",
      "44 회원가입\n",
      "45 ID/PW\n",
      "46 찾기\n",
      "47 IT\n",
      "48 교육의\n",
      "49 글로벌\n",
      "50 메카!한국기술교육대학교\n",
      "51 컴퓨터공학부\n",
      "52 Close\n",
      "53 소개\n",
      "54 구성원소개\n",
      "55 학사안내\n",
      "56 입학\n",
      "57 학부\n",
      "58 대학원\n",
      "59 학부광장\n",
      "60 자료실\n",
      "61 대학원\n",
      "62 공학교육인증\n",
      "63 Registration\n",
      "64 컴퓨터공학부\n",
      "65 School\n",
      "66 of\n",
      "67 Computer\n",
      "68 Science\n",
      "69 and\n",
      "70 Engineering\n",
      "71 IT\n",
      "72 융합소프트웨어\n",
      "73 인력양성사업\n",
      "74 CK\n",
      "75 (Creative\n",
      "76 Korea)-I\n",
      "77 교육역량강화사업\n",
      "78 온라인\n",
      "79 컨텐츠\n",
      "80 Online\n",
      "81 Contents\n",
      "82 for\n",
      "83 Education\n",
      "84 Capability\n",
      "85 Empowerment\n",
      "86 IT\n",
      "87 교육의\n",
      "88 글로벌\n",
      "89 메카\n",
      "90 한국기술교육대학교\n",
      "91 컴퓨터공학부\n",
      "92 홈페이지에\n",
      "93 오신\n",
      "94 것을환영합니다!\n",
      "95 IT\n",
      "96 융합소프트웨어\n",
      "97 인력양성사업\n",
      "98 글로벌\n",
      "99 수준의\n",
      "100 IT전문인력\n",
      "101 양성\n",
      "102 IT융합분야에\n",
      "103 대한\n",
      "104 국제적인\n",
      "105 경쟁력\n",
      "106 고취\n",
      "107 바로가기\n",
      "108 교육역량강화사업\n",
      "109 컨텐츠\n",
      "110 교육역량강화사업\n",
      "111 온라인\n",
      "112 컨텐츠를\n",
      "113 소개합니다.\n",
      "114 바로가기\n",
      "115 공지사항\n",
      "116 졸업생\n",
      "117 멘토\n",
      "118 연계\n",
      "119 졸업작품\n",
      "120 운영팀\n",
      "121 모집\n",
      "122 공고(3학년팀...\n",
      "123 2015-10-02\n",
      "124 13:37\n",
      "125 13:37\n",
      "126 [특강안내]\n",
      "127 영화를\n",
      "128 활용한\n",
      "129 IoT\n",
      "130 교육\n",
      "131 2015-10-01\n",
      "132 15:38\n",
      "133 15:38\n",
      "134 졸업작품\n",
      "135 포스터\n",
      "136 출력\n",
      "137 파일\n",
      "138 작성\n",
      "139 안내\n",
      "140 2015-10-01\n",
      "141 15:00\n",
      "142 15:00\n",
      "143 Spark\n",
      "144 +\n",
      "145 Python\n",
      "146 을\n",
      "147 활용한\n",
      "148 빅데이터\n",
      "149 분석\n",
      "150 특강\n",
      "151 공지\n",
      "152 2015-10-01\n",
      "153 10:55\n",
      "154 10:55\n",
      "155 2015\n",
      "156 졸업연구작품\n",
      "157 최종심사\n",
      "158 결과\n",
      "159 공지!!\n",
      "160 2015-09-30\n",
      "161 20:33\n",
      "162 20:33\n",
      "163 자유게시판\n",
      "164 [채용연계]취업지원\n",
      "165 NCS교육\n",
      "166 무료교육생\n",
      "167 모집\n",
      "168 안내(웹...\n",
      "169 2015-10-04\n",
      "170 13:21\n",
      "171 13:21\n",
      "172 (주)\n",
      "173 엔에스이\n",
      "174 에서\n",
      "175 개발자를\n",
      "176 모집합니다.\n",
      "177 2015-09-30\n",
      "178 13:30\n",
      "179 13:30\n",
      "180 졸업작품\n",
      "181 전시회\n",
      "182 컴퓨터공학부\n",
      "183 인기상\n",
      "184 투표\n",
      "185 이벤트\n",
      "186 2015-09-25\n",
      "187 01:21\n",
      "188 01:21\n",
      "189 삼성\n",
      "190 대학생\n",
      "191 프로그래밍\n",
      "192 경진대회\n",
      "193 2015-09-15\n",
      "194 11:17\n",
      "195 11:17\n",
      "196 2015년\n",
      "197 4차\n",
      "198 모의토익\n",
      "199 지원\n",
      "200 2015-09-09\n",
      "201 23:34\n",
      "202 23:34\n",
      "203 취업게시판\n",
      "204 ㈜인젠트\n",
      "205 기술연구소\n",
      "206 전문연구요원\n",
      "207 모집\n",
      "208 2015-09-14\n",
      "209 11:54\n",
      "210 11:54\n",
      "211 펜타인\n",
      "212 2015년도\n",
      "213 신입사원\n",
      "214 채용공고\n",
      "215 2015-09-03\n",
      "216 16:16\n",
      "217 16:16\n",
      "218 LIG인베니아\n",
      "219 (코스닥상장\n",
      "220 LIG그룹사\n",
      "221 디스플레이장비전...\n",
      "222 2015-09-03\n",
      "223 14:01\n",
      "224 14:01\n",
      "225 ㈜\n",
      "226 한울\n",
      "227 소프트웨어\n",
      "228 개발자\n",
      "229 2015-06-18\n",
      "230 10:28\n",
      "231 10:28\n",
      "232 부국산업(본사\n",
      "233 :\n",
      "234 울산소재)\n",
      "235 전산직\n",
      "236 신입사원\n",
      "237 모집\n",
      "238 2015-06-09\n",
      "239 14:04\n",
      "240 14:04\n",
      "241 VENTURESQUARE\n",
      "242 [지킬과하이드]\n",
      "243 지킬편::\n",
      "244 왜\n",
      "245 현대\n",
      "246 기업에서\n",
      "247 여성\n",
      "248 관리...\n",
      "249 2015-10-02\n",
      "250 19:43\n",
      "251 19:43\n",
      "252 [찾아가는\n",
      "253 인터뷰\n",
      "254 44]\n",
      "255 “집안일은\n",
      "256 ‘홈클’에\n",
      "257 맡기고,\n",
      "258 소...\n",
      "259 2015-10-02\n",
      "260 18:14\n",
      "261 18:14\n",
      "262 [펀다\n",
      "263 매거진]\n",
      "264 핀테크,\n",
      "265 금융과\n",
      "266 기술의\n",
      "267 만남\n",
      "268 #4\n",
      "269 2015-10-02\n",
      "270 17:30\n",
      "271 17:30\n",
      "272 판도라티비\n",
      "273 플럽\n",
      "274 아시아\n",
      "275 4개국으로\n",
      "276 글로벌\n",
      "277 서비스\n",
      "278 확대\n",
      "279 2015-10-02\n",
      "280 16:32\n",
      "281 16:32\n",
      "282 1천억원\n",
      "283 창업기업\n",
      "284 지원\n",
      "285 특례보증\n",
      "286 시행!\n",
      "287 2015-10-02\n",
      "288 14:14\n",
      "289 14:14\n",
      "290 전자신문\n",
      "291 [기고]25년\n",
      "292 역사\n",
      "293 IEEE\n",
      "294 802.11이\n",
      "295 가져올\n",
      "296 놀라운\n",
      "297 변화\n",
      "298 2015-10-04\n",
      "299 18:00\n",
      "300 18:00\n",
      "301 [해설]TDD\n",
      "302 급부상\n",
      "303 왜...데이터전송\n",
      "304 효율적이고\n",
      "305 해외\n",
      "306 시...\n",
      "307 2015-10-04\n",
      "308 18:00\n",
      "309 18:00\n",
      "310 통신품질측정\n",
      "311 놓고\n",
      "312 통신업계\n",
      "313 신경전\n",
      "314 가열···평균\n",
      "315 속도...\n",
      "316 2015-10-04\n",
      "317 18:00\n",
      "318 18:00\n",
      "319 [월요논단]지역\n",
      "320 문화\n",
      "321 전파자,\n",
      "322 케이블TV\n",
      "323 방송\n",
      "324 2015-10-04\n",
      "325 18:00\n",
      "326 18:00\n",
      "327 모바일\n",
      "328 트래픽\n",
      "329 폭증...TDD,\n",
      "330 이동통신\n",
      "331 대안으로\n",
      "332 급부상\n",
      "333 2015-10-04\n",
      "334 18:00\n",
      "335 18:00\n",
      "336 RE/CODE\n",
      "337 Why\n",
      "338 Is\n",
      "339 Everybody\n",
      "340 Talking\n",
      "341 About\n",
      "342 Mars?\n",
      "343 2015-10-04\n",
      "344 03:30\n",
      "345 03:30\n",
      "346 LinkedIn\n",
      "347 Settles\n",
      "348 Lawsuit,\n",
      "349 Will\n",
      "350 Pay\n",
      "351 $13\n",
      "352 Million...\n",
      "353 2015-10-04\n",
      "354 01:13\n",
      "355 01:13\n",
      "356 ‘The\n",
      "357 Martian’\n",
      "358 Movie’s\n",
      "359 Nerd\n",
      "360 Appeal\n",
      "361 Could\n",
      "362 Bring\n",
      "363 ...\n",
      "364 2015-10-04\n",
      "365 00:30\n",
      "366 00:30\n",
      "367 Wishbone\n",
      "368 App\n",
      "369 Hopes\n",
      "370 the\n",
      "371 ‘Hot\n",
      "372 or\n",
      "373 Not’\n",
      "374 Business\n",
      "375 M...\n",
      "376 2015-10-03\n",
      "377 22:41\n",
      "378 22:41\n",
      "379 Technology\n",
      "380 and\n",
      "381 Worship\n",
      "382 —\n",
      "383 And\n",
      "384 Worshipping\n",
      "385 Techn...\n",
      "386 2015-10-03\n",
      "387 07:49\n",
      "388 07:49\n",
      "389 Quick\n",
      "390 Navigation\n",
      "391 한국기술교육대학교\n",
      "392 홈페이지\n",
      "393 한국기술교육대학교\n",
      "394 WEBMAIL\n",
      "395 한국기술교육대학교\n",
      "396 온라인\n",
      "397 평생교육원\n",
      "398 교육역량강화사업\n",
      "399 온라인\n",
      "400 컨텐츠\n",
      "401 IT\n",
      "402 융합소프트웨어\n",
      "403 인력양성사업\n",
      "404 Campus\n",
      "405 Location\n",
      "406 Contact\n",
      "407 CSE\n",
      "408 충청남도\n",
      "409 천안시\n",
      "410 동남구\n",
      "411 병천면\n",
      "412 충절로\n",
      "413 1600한국기술교육대학교\n",
      "414 컴퓨터공학부\n",
      "415 학과사무실\n",
      "416 TEL\n",
      "417 (041)\n",
      "418 560\n",
      "419 1460~1461\n",
      "420 FAX\n",
      "421 (041)\n",
      "422 560\n",
      "423 1462\n",
      "424 Facebook\n",
      "425 Twitter\n",
      "426 Google\n",
      "427 Plus\n",
      "428 Linkedin\n",
      "429 (31253)\n",
      "430 충청남도\n",
      "431 천안시\n",
      "432 동남구\n",
      "433 병천면\n",
      "434 충절로\n",
      "435 1600\n",
      "436 (가전리,\n",
      "437 한국기술교육대학교)\n",
      "438 컴퓨터공학부\n",
      "439 Copyright\n",
      "440 ©\n",
      "441 2015.\n",
      "442 All\n",
      "443 rights\n",
      "444 reserved\n",
      "\n",
      "\n",
      "Total pure words is 444 words\n"
     ]
    }
   ],
   "source": [
    "import urllib2\n",
    "\n",
    "source = urllib2.urlopen(\"http://cse.kut.ac.kr/\").read()\n",
    "\n",
    "\n",
    "\n",
    "#print source # 추후 숙제 답안 제출 때엔 왼쪽 라인은 주석처리할 것\n",
    "from bs4 import BeautifulSoup\n",
    "print\n",
    "soup = BeautifulSoup(source)\n",
    "pureWords = soup.text.replace(\"//\",\"\")\n",
    "startTagCDATA = pureWords.find('<')\n",
    "endTagCDATA = pureWords.find('>')\n",
    "pureWords = pureWords[0:startTagCDATA] + pureWords[endTagCDATA+1:]\n",
    "\n",
    "wordCount = pureWords.split()\n",
    "\n",
    "for i in range(len(wordCount)):\n",
    "    print i+1, wordCount[i]\n",
    "print '\\n'\n",
    "print 'Total pure words is ' + str(len(wordCount)) +' words'"
   ]
  },
  {
   "cell_type": "markdown",
   "metadata": {},
   "source": [
    "###해설\n",
    "   - BeautifulSoup 라이브러리를 활용하여 HTML태그를 삭제 했습니다.\n",
    "   - 라이브러리에 source에 있는 부분중 HTML 태그를 제거 시키고 보니까 그 부분들이 개행문자만 남고 탭문자와 띄어쓰기가 되어 있는 부분이 있어서 replace로 모두 제거 했습니다."
   ]
  },
  {
   "cell_type": "markdown",
   "metadata": {},
   "source": [
    "#고찰"
   ]
  },
  {
   "cell_type": "markdown",
   "metadata": {},
   "source": [
    "   - 이번 과제를 통하여 and, or에 대해 이해와 문자열 메소드가 어떤 기능이 있는지 알수 있었던 과제 였습니다. 하지만 마지막 문제인 HTML 파싱 문제는 처음에 기존에 문자열 메소드를 활용하였던니 앞에 일부분과 뒤에 일부분만 제거 된 상태로 출력이 되었습니다. 그러다가 인터넷에 파이썬 HTML 파싱을 찾다가 BeauitfulSoup이라는 오픈소스 라이브러리가 있어서 사용을 하였습니다. 작년에 윈도우 프로그래밍을 할때에도 텀프로젝트로 DB와 OpneAPI를 활용하여 할때 mySQL프로그램 안에 c++을 위한 해더파일을 가지고 있는 것을 보고 아직 프로그래밍 실력이 부족할 때는 오픈 소스 라이브러리를 사용하는 것도 나쁘지 않다는 느낌이였습니다."
   ]
  }
 ],
 "metadata": {
  "kernelspec": {
   "display_name": "Python 2",
   "language": "python",
   "name": "python2"
  },
  "language_info": {
   "codemirror_mode": {
    "name": "ipython",
    "version": 2
   },
   "file_extension": ".py",
   "mimetype": "text/x-python",
   "name": "python",
   "nbconvert_exporter": "python",
   "pygments_lexer": "ipython2",
   "version": "2.7.9"
  }
 },
 "nbformat": 4,
 "nbformat_minor": 0
}
