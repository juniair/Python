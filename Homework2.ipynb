{
 "cells": [
  {
   "cell_type": "markdown",
   "metadata": {
    "collapsed": true
   },
   "source": [
    "#Homework2"
   ]
  },
  {
   "cell_type": "markdown",
   "metadata": {
    "collapsed": true
   },
   "source": [
    "####1. 다음 6 개의 Expression에 대해 Evaluation 결과 값을 출력하고, 해당 결과가 나온 이유에 대해 설명하시오.   "
   ]
  },
  {
   "cell_type": "markdown",
   "metadata": {},
   "source": [
    "- 1 and 2 and 3 and 4\n",
    "- 1 or 2 or 3 or 4\n",
    "- 1 and 2 or 3 and 4\n",
    "- (1 and 2) or (3 and 4)\n",
    "- 1 or 2 and 3 or 4\n",
    "- (1 or 2) and (3 or 4)"
   ]
  },
  {
   "cell_type": "code",
   "execution_count": 1,
   "metadata": {
    "collapsed": false
   },
   "outputs": [
    {
     "name": "stdout",
     "output_type": "stream",
     "text": [
      "4\n"
     ]
    }
   ],
   "source": [
    "print 1 and 2 and 3 and 4"
   ]
  },
  {
   "cell_type": "markdown",
   "metadata": {},
   "source": [
    "해설 : 앞이 참이여도 and 연산자는 뒤의 항목도 보아야한다. 2,3 도 계속 참으로 인식하여 마지막의 4를 출력을하게 됩니다.\n"
   ]
  },
  {
   "cell_type": "code",
   "execution_count": 2,
   "metadata": {
    "collapsed": false
   },
   "outputs": [
    {
     "name": "stdout",
     "output_type": "stream",
     "text": [
      "1\n"
     ]
    }
   ],
   "source": [
    "print 1 or 2 or 3 or 4"
   ]
  },
  {
   "cell_type": "markdown",
   "metadata": {},
   "source": [
    "해설 : or 연산은 앞에 결과가 참이면 뒤에 결과에 관계없이 참으로 인식하기 때문에 처음 1을 출력하게 됩니다."
   ]
  },
  {
   "cell_type": "code",
   "execution_count": 3,
   "metadata": {
    "collapsed": false
   },
   "outputs": [
    {
     "name": "stdout",
     "output_type": "stream",
     "text": [
      "2\n"
     ]
    }
   ],
   "source": [
    "print 1 and 2 or 3 and 4"
   ]
  },
  {
   "cell_type": "markdown",
   "metadata": {},
   "source": [
    "해설 : 앞의 and가 1을 본 뒤 2를 봐서 참 값이 나왔으므로 or 뒤에와는 관계 없이 참이게 됩니다. 그러므로 2를 출력하게 됩니다."
   ]
  },
  {
   "cell_type": "code",
   "execution_count": 4,
   "metadata": {
    "collapsed": false
   },
   "outputs": [
    {
     "name": "stdout",
     "output_type": "stream",
     "text": [
      "2\n"
     ]
    }
   ],
   "source": [
    "print (1 and 2) or (3 and 4)"
   ]
  },
  {
   "cell_type": "markdown",
   "metadata": {},
   "source": [
    "해설 : (1 and 2)부분에서 둘다 참이라서 뒤의 2를 가르키고 or기 때문에 앞의 2를 출력한다. 하지만 이 때 3 and 4도 계산이 됩니다."
   ]
  },
  {
   "cell_type": "code",
   "execution_count": 5,
   "metadata": {
    "collapsed": false
   },
   "outputs": [
    {
     "name": "stdout",
     "output_type": "stream",
     "text": [
      "1\n"
     ]
    }
   ],
   "source": [
    "print 1 or 2 and 3 or 4"
   ]
  },
  {
   "cell_type": "markdown",
   "metadata": {},
   "source": [
    "해설 : 앞에 or연산자를 사용 하였기 때문에 1이 참이므로 1을 출력 하게 됩니다."
   ]
  },
  {
   "cell_type": "code",
   "execution_count": 6,
   "metadata": {
    "collapsed": false
   },
   "outputs": [
    {
     "name": "stdout",
     "output_type": "stream",
     "text": [
      "3\n"
     ]
    }
   ],
   "source": [
    "print (1 or 2) and (3 or 4)"
   ]
  },
  {
   "cell_type": "markdown",
   "metadata": {},
   "source": [
    "해설 : (1 or 2)에서 1이 참이므로 이 부분에서 결과는 1이고 그 뒤 and 연산자이기 때문에 뒤에 (3 or 4)를 연산 결과인 3을 보게 되어 3을 출력합니다."
   ]
  },
  {
   "cell_type": "markdown",
   "metadata": {},
   "source": [
    "####2. 키보드로 정수값을 입력 받고 그 값이 양수인지 음수인지를 비트 연산자를 이용하여 판단하는 프로그램을 작성하시오 .\n",
    "- [참고] 가장 왼쪽에 있는 비트가 0이면 양수이며, 1이면 음수이다."
   ]
  },
  {
   "cell_type": "code",
   "execution_count": 7,
   "metadata": {
    "collapsed": false
   },
   "outputs": [
    {
     "name": "stdout",
     "output_type": "stream",
     "text": [
      "Number = -3\n",
      "입력한 정수는 음수입니다.\n"
     ]
    }
   ],
   "source": [
    "number = input(\"Number = \")\n",
    "\n",
    "if ((number >> 32) == 0):\n",
    "    print '입력한 정수는 양수입니다.'\n",
    "else :\n",
    "    print '입력한 정수는 음수입니다.'\n"
   ]
  },
  {
   "cell_type": "markdown",
   "metadata": {},
   "source": [
    "해설 : 정수를 입력받고 MSB(최상위 비트)가 right shift 연산으로 2**0 자리에 왔을때 결과 값이 0이면 양수를 출력하고 1이면 음수를 출력하게 만들었습니다."
   ]
  },
  {
   "cell_type": "markdown",
   "metadata": {},
   "source": [
    "####3. 경로에 해당하는 문자열 1개를 입력 받아 그 안에 디렉토리 경로명과 파일명을 분리하여 리스트로 반환하는 함수 div_path(s)를 작성하시오."
   ]
  },
  {
   "cell_type": "markdown",
   "metadata": {},
   "source": [
    "   - 인자로 전달하는 문자열은 경로만 들어간다고 가정한다.\n",
    "   - 각 디렉토리와 파일을 구분하는 문자는 '/'로 가정한다.\n",
    "   - 반환하는 리스트의 첫번째 원소는 디렉토리이고 두번째 원소는 파일명이다.\n",
    "   - 다음과 같은 실행 및 출력 결과가 도출되어야 한다.\n",
    "        - div_path('/usr/local/bin/python')\n",
    "        - ['/usr/local/bin', 'python']\n",
    "        - div_path('/home/chulsoo/test.txt')\n",
    "        - ['/home/chulsoo', 'test.txt']\n",
    "   - [참고] 리스트(l) 내에 새로운 정수값 (예를 들어 10)을 넣는 방법은 l.append(10) 이다."
   ]
  },
  {
   "cell_type": "code",
   "execution_count": 8,
   "metadata": {
    "collapsed": false
   },
   "outputs": [
    {
     "name": "stdout",
     "output_type": "stream",
     "text": [
      "['/usr/local/bin', 'python']\n",
      "['/home/chulsoo', 'test.txt']\n"
     ]
    }
   ],
   "source": [
    "def div_path(path):\n",
    "    \n",
    "        result = []\n",
    "        delimiterCount = path.count('/')\n",
    "        stringIndex = 0\n",
    "        temp = ''\n",
    "        \n",
    "        while delimiterCount != 0:\n",
    "                        \n",
    "            if path[stringIndex] == '/':\n",
    "                delimiterCount -= 1\n",
    "            temp += path[stringIndex]\n",
    "            stringIndex += 1\n",
    "            \n",
    "        result.append(temp[:stringIndex-1])\n",
    "        result.append(path[stringIndex:])\n",
    "        \n",
    "        return result\n",
    "        \n",
    "print div_path('/usr/local/bin/python')\n",
    "print div_path('/home/chulsoo/test.txt')\n",
    "        \n",
    "        "
   ]
  },
  {
   "cell_type": "markdown",
   "metadata": {},
   "source": [
    "###해설 \n",
    " - div_path에서 문자열 path에 있는 '/ ' 의 갯수를 저장을 합니다.\n",
    " - while문을 통해서 '/ '가 기존에 알고 있는 갯수 만큼 발견될때 까지 수행을 합니다.\n",
    " - 발견하는 방법은 path에 문자 하나씩 읽어 '/ '가 발견되면 하나씩 감소 시킵니다.\n",
    " - 그 뒤 읽은 문자를 임시 문자열에 저장을 하고 다음 문자를 읽을 준비를 합니다.\n",
    " - while문으로 디렉토리 위치를 모두 알아내면 작업이  result에 디렉토리와 파일명을 append로 추가합니다.\n",
    " - 일때 디렉토리에 맨 마지막 문자인 '/ ' 제거 하고 추가하기 위해 임시 문자열을 슬라이싱으로 '/ '을 제거하여 추가를 합니다.\n",
    " - 파일명은 현재 path에서 읽을 위치부터 끝까지 읽어서 추가를 합니다."
   ]
  },
  {
   "cell_type": "markdown",
   "metadata": {},
   "source": [
    "####4. 두 개의 리스트를 인자로 받아서 그 두 개의 리스트에 대한 '합집합'을 반환하는 함수 list_union(lista, listb)를 작성하시오.\n",
    "   - 인자로 전달하는 리스트 2 개에는 정수값만 들어간다고 가정하자.\n",
    "   - 함수 내에서 새로운 리스트를 만들어 그 리스트 내에 인자로 받은 두 리스트의 모든 원소를 넣어 반환한다.\n",
    "   - 반환하는 리스트에는 절대로 중복된 원소가 들어 있으면 안된다 (집합의 조건).\n",
    "   - 반환하는 리스트는 정렬이 되어 있어야 한다.\n",
    "   - 다음과 같은 실행 및 출력 결과가 도출되어야 한다.\n",
    "    - list_union([1, 2, 3], [1, 2, 4])\n",
    "        - [1, 2, 3, 4]\n",
    "    - list_union([-10, -5, 0, -1], [100, 9, 0, 9])\n",
    "        - [-10, -5, -1, 0, 9, 100]\n",
    "    - list_union([0, 1, 2], [0, 1, 2])\n",
    "        - [0, 1, 2]\n",
    "   - [참고] 리스트(l) 내에 새로운 정수값 (예를 들어 10)을 넣는 방법은 l.append(10) 이다.\n",
    "   - [참고] 임의의 정수값 (x)이 리스트 (l) 내에 존재하는지 판단하는 방법은 x in l 이다."
   ]
  },
  {
   "cell_type": "code",
   "execution_count": 9,
   "metadata": {
    "collapsed": false
   },
   "outputs": [
    {
     "name": "stdout",
     "output_type": "stream",
     "text": [
      "[1, 2, 3, 4]\n",
      "[-10, -5, -1, 0, 9, 100]\n",
      "[0, 1, 2]\n"
     ]
    }
   ],
   "source": [
    "def list_union(lista, listb):\n",
    "        \n",
    "        result = lista\n",
    "        \n",
    "        for index in range(len(listb)):\n",
    "            if listb[index] in result:\n",
    "                continue\n",
    "            result.append(listb[index])\n",
    "            \n",
    "        result.sort()\n",
    "        \n",
    "        return result\n",
    "    \n",
    "print list_union([1, 2, 3], [1, 2, 4])\n",
    "print list_union([-10, -5, 0, -1], [100, 9, 0, 9])\n",
    "print list_union([0, 1, 2], [0, 1, 2])"
   ]
  },
  {
   "cell_type": "markdown",
   "metadata": {},
   "source": [
    "###해설\n",
    "   - result에 lista를 가르킨다.\n",
    "   - 이미 lista의 값은 result에 들어 있기 때문에 listb에 값 중에서 중복 된 것이 있는지 검사를 한다.\n",
    "   - 중복 된 것이 있으면 continue문으로 추가 작업을 하지 않고 다른 원소를 검사한다.\n",
    "   - 중복된 원소없이 저장된 list를 sort 메소드를 활용하여 정렬을 한다."
   ]
  },
  {
   "cell_type": "markdown",
   "metadata": {},
   "source": [
    "####6. 앞에서부터 읽을 때나 뒤에서부터 읽을 때나 모양이 같은 수를 대칭수(palindrome)라고 부릅니다. 두 자리 수를 곱해 만들 수 있는 대칭수 중 가장 큰 수는 9009 (= 91 × 99) 입니다. 세 자리 수를 곱해 만들 수 있는 가장 큰 대칭수는 얼마입니까?"
   ]
  },
  {
   "cell_type": "code",
   "execution_count": 10,
   "metadata": {
    "collapsed": false
   },
   "outputs": [
    {
     "name": "stdout",
     "output_type": "stream",
     "text": [
      "906609\n"
     ]
    }
   ],
   "source": [
    "solutionNumber = 0;\n",
    "\n",
    "for i in range(100, 1000):\n",
    "    for j in range(i, 1000):\n",
    "        caseNumber = i * j\n",
    "        stringNumber = str(caseNumber)\n",
    "        if stringNumber == stringNumber[::-1] and caseNumber > solutionNumber:\n",
    "            solutionNumber = caseNumber\n",
    "\n",
    "print solutionNumber"
   ]
  },
  {
   "cell_type": "markdown",
   "metadata": {
    "collapsed": false
   },
   "source": [
    "###해설\n",
    "   - 이중 for문을 활용하여 현재 얻은 결과값을 문자열로 치환합니다.\n",
    "   - 치환된 문자열이 역순으로 해도 일치하는지 비교합니다.\n",
    "   - 일치가 되면 현재 얻은 답이 이전에 발견된 답보다 정답에 가까우면 그 답을 해결된 답으로 바꿉니다.\n",
    "   - 반복문이 모두 완료가 되면 최종적으로 얻은 결과를 출력합니다."
   ]
  },
  {
   "cell_type": "markdown",
   "metadata": {
    "collapsed": true
   },
   "source": [
    "####7. 1 ~ 10 사이의 어떤 수로도 나누어 떨어지는 가장 작은 수는 2520입니다. 그러면 1 ~ 20 사이의 어떤 수로도 나누어 떨어지는 가장 작은 수는 얼마입니까?"
   ]
  },
  {
   "cell_type": "code",
   "execution_count": 13,
   "metadata": {
    "collapsed": false
   },
   "outputs": [
    {
     "name": "stdout",
     "output_type": "stream",
     "text": [
      "232792560\n"
     ]
    }
   ],
   "source": [
    "def isPromisimg(n):\n",
    "        switch = True\n",
    "        i = 2\n",
    "        while i < 21 and switch:\n",
    "            if n % i != 0:\n",
    "                switch = False\n",
    "            i += 1\n",
    "            \n",
    "        return switch\n",
    "    \n",
    "def leastCommonMultiple():\n",
    "    \n",
    "        number = 1\n",
    "        \n",
    "        while True:    \n",
    "            \n",
    "            if isPromisimg(number):\n",
    "                return number\n",
    "            number +=1\n",
    "            \n",
    "print leastCommonMultiple()\n"
   ]
  },
  {
   "cell_type": "markdown",
   "metadata": {},
   "source": [
    "###해설\n",
    "   - 선택한 숫자가 문제를 해결하는데 적절한 숫지인지 검사를 합니다.\n",
    "   - 우선 선택된 숫자가 가능성 있는 숫자라고 가정을 합니다.\n",
    "   - 그 숫자는 1은 무조건 나누면 나머지가 0이므로 2부터 나누기 시작합니다.\n",
    "   - 20까지 나누어 나머지가 있으면 그 숫자는 유망하지 않는 숫자로 반별하여 1을 증가 시키고 다시 그 숫자가 유망한지 반복을 합니다.\n",
    "   - 모든 조건에 만족하면 그 숫자는 해답이므로 출력을 합니다."
   ]
  },
  {
   "cell_type": "markdown",
   "metadata": {},
   "source": [
    "####8. 1부터 100까지 자연수에 대해 \"합의 제곱\"과 \"제곱의 합\"의 차이는 얼마입니까?"
   ]
  },
  {
   "cell_type": "code",
   "execution_count": 22,
   "metadata": {
    "collapsed": false
   },
   "outputs": [
    {
     "name": "stdout",
     "output_type": "stream",
     "text": [
      "25164150\n"
     ]
    }
   ],
   "source": [
    "import math\n",
    "\n",
    "n = 100\n",
    "\n",
    "sumOfSquare = (n * (n + 1) * (2*n + 1)) / 6\n",
    "squareOfSum = ((n * (n + 1)) / 2) ** 2\n",
    "    \n",
    "print squareOfSum - sumOfSquare"
   ]
  },
  {
   "cell_type": "markdown",
   "metadata": {},
   "source": [
    "###해설\n",
    "   - 자연수의 합과 자연수 제곱의 합의 공식을 활용 하여 문제의 답을 출력하였습니다."
   ]
  },
  {
   "cell_type": "markdown",
   "metadata": {},
   "source": [
    "####9 . [Incremental Project] 웹 URL로 지정된 웹페이지를 문자열로 가져와 1) 모든 HTML 태그를 제외한 순수 텍스트 문자열만을 걸러내고, 2) 그 순수 텍스트 문자열 안에 존재하는 단어가 총 몇개인지 출력하는 프로그램을 작성하시오.\n",
    "   - HTML 태그는 다음 조건을 가지는 것이다.\n",
    "    - < 로 시작하여 >로 끝난다.\n",
    "    - 예를 들어, 아래와 같은 HTML 내용 내에 한 줄이 있다고 가정하자.  \n",
    "        <label for=\"keep_signed\">로그인 유지</label>\n",
    "    - 위 소스에서 HTML 태그를 제외한 순수 텍스트 문자열은 아래와 같다.  \n",
    "      로그인 유지\n",
    "    - 한편, 아래와 같은 HTML 한 줄이 있다고 가정하자.  \n",
    "      '< link rel=\"stylesheet\" href=\"/common/css/xe.min.css?20150910092654\" >'\n",
    "     - 위 소스는 HTML 태그로만 구성된 것이며 걸러낼 수 있는 순수 텍스 문자열은 존재하지 않는다.\n",
    "   - 단어를 나누는 기준은 오로지 공백문자 (whitespace)이다.\n",
    "       - 즉, 위 순수 텍스트 문자열인 \"로그인 유지\"에서 분리한 단어는 \"로그인\"과 \"유지\"이다.\n",
    "   - 다음은 URL로 지정된 웹페이지를 특정 문자열로 가져오는 코드이다.\n",
    "      - 즉, 숙제 코드는 아래 코드로 부터 시작해야 한다."
   ]
  },
  {
   "cell_type": "code",
   "execution_count": 7,
   "metadata": {
    "collapsed": false
   },
   "outputs": [
    {
     "name": "stdout",
     "output_type": "stream",
     "text": [
      "\n",
      "컴퓨터공학부//<![CDATA[var current_url = \"https://cse.kut.ac.kr/\";var request_uri = \"https://cse.kut.ac.kr/\";var current_mid = \"home_2015\";var waiting_message = \"서버에 요청 중입니다. 잠시만 기다려주세요.\";var ssl_actions = new Array();var default_url = \"https://cse.koreatech.ac.kr/\";var enforce_ssl = true;xe.current_lang = \"ko\";xe.cmd_find = \"찾기\";xe.cmd_cancel = \"취소\";xe.cmd_confirm = \"확인\";xe.msg_no_root = \"루트는 선택 할 수 없습니다.\";xe.msg_no_shortcut = \"바로가기는 선택 할 수 없습니다.\";xe.msg_select_menu = \"대상 메뉴 선택\";//]]>Schoolfun - Study and Fun로그인로그인아이디비밀번호로그인 유지브라우저를 닫더라도 로그인이 계속 유지될 수 있습니다. 로그인 유지 기능을 사용할 경우 다음 접속부터는 로그인할 필요가 없습니다. 단, 게임방, 학교 등 공공장소에서 이용 시 개인정보가 유출될 수 있으니 꼭 로그아웃을 해주세요.회원가입ID/PW 찾기IT 교육의 글로벌 메카!한국기술교육대학교 컴퓨터공학부Close소개구성원소개학사안내입학학부대학원학부광장자료실대학원공학교육인증Registration컴퓨터공학부School of Computer Science and EngineeringIT 융합소프트웨어 인력양성사업CK (Creative Korea)-I교육역량강화사업 온라인 컨텐츠Online Contents for Education Capability EmpowermentIT 교육의 글로벌 메카한국기술교육대학교 컴퓨터공학부 홈페이지에 오신 것을환영합니다!IT 융합소프트웨어 인력양성사업글로벌 수준의 IT전문인력 양성IT융합분야에 대한 국제적인 경쟁력 고취바로가기교육역량강화사업 컨텐츠교육역량강화사업 온라인 컨텐츠를 소개합니다.바로가기공지사항졸업생 멘토 연계 졸업작품 운영팀 모집 공고(3학년팀...2015-10-02 13:37 13:37[특강안내] 영화를 활용한 IoT 교육2015-10-01 15:38 15:38졸업작품 포스터 출력 파일 작성 안내2015-10-01 15:00 15:00Spark + Python 을 활용한 빅데이터 분석 특강 공지2015-10-01 10:55 10:552015 졸업연구작품 최종심사 결과 공지!!2015-09-30 20:33 20:33자유게시판(주) 엔에스이 에서 개발자를 모집합니다.2015-09-30 13:30 13:30졸업작품 전시회 컴퓨터공학부 인기상 투표 이벤트2015-09-25 01:21 01:21삼성 대학생 프로그래밍 경진대회2015-09-15 11:17 11:172015년 4차 모의토익 지원2015-09-09 23:34 23:34난 괜찮아, 돌아가면 되지~2015-09-09 15:51 15:51취업게시판㈜인젠트 기술연구소 전문연구요원 모집2015-09-14 11:54 11:54펜타인 2015년도 신입사원 채용공고2015-09-03 16:16 16:16LIG인베니아 (코스닥상장 LIG그룹사 디스플레이장비전...2015-09-03 14:01 14:01㈜ 한울 소프트웨어 개발자2015-06-18 10:28 10:28부국산업(본사 : 울산소재) 전산직 신입사원 모집2015-06-09 14:04 14:04VENTURESQUARE[지킬과하이드] 지킬편:: 왜 현대 기업에서 여성 관리...2015-10-02 19:43 19:43[찾아가는 인터뷰 44] “집안일은 ‘홈클’에 맡기고, 소...2015-10-02 18:14 18:14[펀다 매거진] 핀테크, 금융과 기술의 만남 #42015-10-02 17:30 17:30판도라티비 플럽 아시아 4개국으로 글로벌 서비스 확대2015-10-02 16:32 16:321천억원 창업기업 지원 특례보증 시행!2015-10-02 14:14 14:14전자신문경기 침체기 B2B가 핵심 `2015 B2B 디지털 임팩트` 10...2015-10-03 08:45 08:45LG V10, 버라이즌·AT&T;·T모바일서 우선 판매···T모바일...2015-10-03 00:00 00:00제1기 벤처투자·M&A;전략 CEO과정 개최2015-10-02 17:55 17:55데이터 중심 요금제 이용자 69.8% “만족한다”···42% “...2015-10-02 17:45 17:45코바코, 부산·광주서 `스마트광고 제작과정` 운영2015-10-02 13:43 13:43RE/CODELinkedIn Settles Lawsuit, Will Pay $13 Million...2015-10-04 01:13 01:13‘The Martian’ Movie’s Nerd Appeal Could Bring ...2015-10-04 00:30 00:30Wishbone App Hopes the ‘Hot or Not’ Business M...2015-10-03 22:41 22:41Technology and Worship — And Worshipping Techn...2015-10-03 07:49 07:49Scottrade Data Breach Affects up to 4.6 Millio...2015-10-03 07:10 07:10 Quick Navigation한국기술교육대학교 홈페이지한국기술교육대학교 WEBMAIL한국기술교육대학교 온라인 평생교육원교육역량강화사업 온라인 컨텐츠IT 융합소프트웨어 인력양성사업Campus LocationContact CSE충청남도 천안시 동남구 병천면 충절로 1600한국기술교육대학교 컴퓨터공학부 학과사무실 TEL (041) 560 1460~1461 FAX (041) 560 1462FacebookTwitterGoogle PlusLinkedin(31253) 충청남도 천안시 동남구 병천면 충절로 1600 (가전리, 한국기술교육대학교) 컴퓨터공학부 Copyright © 2015. All rights reserved\n",
      "\n",
      "\n",
      "Total pure words is 379 words\n"
     ]
    }
   ],
   "source": [
    "import urllib2\n",
    "\n",
    "source = urllib2.urlopen(\"http://cse.kut.ac.kr/\").read()\n",
    "\n",
    "\n",
    "\n",
    "#print source # 추후 숙제 답안 제출 때엔 왼쪽 라인은 주석처리할 것\n",
    "from bs4 import BeautifulSoup\n",
    "print\n",
    "soup = BeautifulSoup(source)\n",
    "pureWords = soup.text.replace(\"\\n\",\"\").replace(\"\\t\",\"\").replace(\"  \",\"\")\n",
    "wordCount = pureWords.split()\n",
    "print pureWords\n",
    "print '\\n'\n",
    "print 'Total pure words is ' + str(len(wordCount)) +' words'"
   ]
  },
  {
   "cell_type": "markdown",
   "metadata": {},
   "source": [
    "###해설\n",
    "   - BeautifulSoup 라이브러리를 활용하여 HTML태그를 삭제 했습니다.\n",
    "   - 라이브러리에 source에 있는 부분중 HTML 태그를 제거 시키고 보니까 그 부분들이 개행문자만 남고 탭문자와 띄어쓰기가 되어 있는 부분이 있어서 replace로 모두 제거 했습니다.\n",
    "   - CDADA태그는 XML 태그인데 그 부분은 데이터는 어떻게 제거해야 될지 몰라서 제거를 못했습니다."
   ]
  },
  {
   "cell_type": "markdown",
   "metadata": {},
   "source": [
    "#고찰"
   ]
  },
  {
   "cell_type": "markdown",
   "metadata": {},
   "source": [
    "   - 이번 과제를 통하여 and, or에 대해 이해와 문자열 메소드가 어떤 기능이 있는지 알수 있었던 과제 였습니다. 하지만 마지막 문제인 HTML 파싱 문제는 처음에 기존에 문자열 메소드를 활용하였던니 앞에 일부분과 뒤에 일부분만 제거 된 상태로 출력이 되었습니다. 그러다가 인터넷에 파이썬 HTML 파싱을 찾다가 BeauitfulSoup이라는 오픈소스 라이브러리가 있어서 사용을 하였습니다. 작년에 윈도우 프로그래밍을 할때에도 텀프로젝트로 DB와 OpneAPI를 활용하여 할때 mySQL프로그램 안에 c++을 위한 해더파일을 가지고 있는 것을 보고 아직 프로그래밍 실력이 부족할 때는 오픈 소스 라이브러리를 사용하는 것도 나쁘지 않다는 느낌이였습니다."
   ]
  }
 ],
 "metadata": {
  "kernelspec": {
   "display_name": "Python 2",
   "language": "python",
   "name": "python2"
  },
  "language_info": {
   "codemirror_mode": {
    "name": "ipython",
    "version": 2
   },
   "file_extension": ".py",
   "mimetype": "text/x-python",
   "name": "python",
   "nbconvert_exporter": "python",
   "pygments_lexer": "ipython2",
   "version": "2.7.9"
  }
 },
 "nbformat": 4,
 "nbformat_minor": 0
}
