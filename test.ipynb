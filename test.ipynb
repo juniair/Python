{
 "cells": [
  {
   "cell_type": "code",
   "execution_count": 11,
   "metadata": {
    "collapsed": false
   },
   "outputs": [
    {
     "name": "stdout",
     "output_type": "stream",
     "text": [
      "5 ms\n",
      "1215 ms\n",
      "1 ms\n",
      "480 ms\n"
     ]
    }
   ],
   "source": [
    "import random\n",
    "import time\n",
    "\n",
    "NUMBER_OF_ELEMENTS = 10000\n",
    "\n",
    "lst = list(range(NUMBER_OF_ELEMENTS))\n",
    "random.shuffle(lst)\n",
    "\n",
    "s = set(lst)\n",
    "\n",
    "# 해당 원소가 집합/리스트에 포함되어 있는지 검사\n",
    "startTime = time.time()\n",
    "for i in range(NUMBER_OF_ELEMENTS):\n",
    "    i in s\n",
    "endTime = time.time()\n",
    "runTime = int((endTime - startTime) * 1000)\n",
    "print runTime, \"ms\"\n",
    "\n",
    "startTime = time.time()\n",
    "for i in range(NUMBER_OF_ELEMENTS):\n",
    "    i in lst\n",
    "endTime = time.time()\n",
    "runTime = int((endTime - startTime) * 1000)\n",
    "print runTime, \"ms\"\n",
    "\n",
    "# 해당 원소를 집합/리스트로 부터 제거\n",
    "startTime = time.time()\n",
    "for i in range(NUMBER_OF_ELEMENTS):\n",
    "    s.remove(i)\n",
    "endTime = time.time()\n",
    "runTime = int((endTime - startTime) * 1000)\n",
    "print runTime, \"ms\"\n",
    "\n",
    "startTime = time.time()\n",
    "for i in range(NUMBER_OF_ELEMENTS):\n",
    "    lst.remove(i)\n",
    "endTime = time.time()\n",
    "runTime = int((endTime - startTime) * 1000)\n",
    "print runTime, \"ms\"\n"
   ]
  },
  {
   "cell_type": "code",
   "execution_count": null,
   "metadata": {
    "collapsed": true
   },
   "outputs": [],
   "source": []
  }
 ],
 "metadata": {
  "kernelspec": {
   "display_name": "Python 2",
   "language": "python",
   "name": "python2"
  },
  "language_info": {
   "codemirror_mode": {
    "name": "ipython",
    "version": 2
   },
   "file_extension": ".py",
   "mimetype": "text/x-python",
   "name": "python",
   "nbconvert_exporter": "python",
   "pygments_lexer": "ipython2",
   "version": "2.7.9"
  }
 },
 "nbformat": 4,
 "nbformat_minor": 0
}
