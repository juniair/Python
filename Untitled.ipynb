{
 "cells": [
  {
   "cell_type": "code",
   "execution_count": 7,
   "metadata": {
    "collapsed": true
   },
   "outputs": [],
   "source": [
    "doors = [1,2,3]"
   ]
  },
  {
   "cell_type": "code",
   "execution_count": 8,
   "metadata": {
    "collapsed": true
   },
   "outputs": [],
   "source": [
    "import random\n",
    "\n",
    "def monty_door_random(doors, alice_door, prize_door):\n",
    "    monty_door = random.choice(doors)\n",
    "    return monty_door"
   ]
  },
  {
   "cell_type": "code",
   "execution_count": 12,
   "metadata": {
    "collapsed": false
   },
   "outputs": [
    {
     "name": "stdout",
     "output_type": "stream",
     "text": [
      "Probability of getting prize when Monty chooses the door randomly?\n",
      " 0.502100\n"
     ]
    }
   ],
   "source": [
    "N = 10000\n",
    "result= [None] * N\n",
    "for i in range(N):\n",
    "    alice_door = random.choice(doors)\n",
    "    prize_door = random.choice(doors)\n",
    "    monty_door = monty_door_random(doors, alice_door, prize_door)\n",
    "    \n",
    "    while monty_door == prize_door:\n",
    "        alice_door = random.choice(doors)\n",
    "        prize_door = random.choice(doors)\n",
    "        monty_door = monty_door_random(doors, alice_door, prize_door)\n",
    "    remaining_doors = set(doors) - {alice_door} - {monty_door}\n",
    "    result[i] = random.choice(list(remaining_doors)) == prize_door\n",
    "    \n",
    "print \"Probability of getting prize when Monty chooses the door randomly?\\n %f\" % (float(sum(result))/N)"
   ]
  },
  {
   "cell_type": "code",
   "execution_count": null,
   "metadata": {
    "collapsed": true
   },
   "outputs": [],
   "source": []
  },
  {
   "cell_type": "code",
   "execution_count": null,
   "metadata": {
    "collapsed": true
   },
   "outputs": [],
   "source": []
  }
 ],
 "metadata": {
  "kernelspec": {
   "display_name": "Python 2",
   "language": "python",
   "name": "python2"
  },
  "language_info": {
   "codemirror_mode": {
    "name": "ipython",
    "version": 2
   },
   "file_extension": ".py",
   "mimetype": "text/x-python",
   "name": "python",
   "nbconvert_exporter": "python",
   "pygments_lexer": "ipython2",
   "version": "2.7.9"
  }
 },
 "nbformat": 4,
 "nbformat_minor": 0
}
