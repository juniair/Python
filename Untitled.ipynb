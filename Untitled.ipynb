{
 "cells": [
  {
   "cell_type": "code",
   "execution_count": 1,
   "metadata": {
    "collapsed": false
   },
   "outputs": [
    {
     "name": "stdout",
     "output_type": "stream",
     "text": [
      "1\n",
      "\n",
      "2\n",
      "\n",
      "['__doc__', '__module__', 'a', 'b']\n",
      "['__doc__', '__module__', 'a']\n"
     ]
    }
   ],
   "source": [
    "class S1:\n",
    "    a = 1\n",
    "    \n",
    "print S1.a\n",
    "print\n",
    "\n",
    "S1.b = 2 # 클래스 이름 공간에 새로운 이름의 생성\n",
    "print S1.b\n",
    "print\n",
    "\n",
    "print dir(S1) # S1에 포함된 이름들을 리스트로 반환\n",
    "del S1.b # 이름 공간 S1에서 b삭제\n",
    "print dir(S1)"
   ]
  },
  {
   "cell_type": "code",
   "execution_count": 2,
   "metadata": {
    "collapsed": false
   },
   "outputs": [
    {
     "name": "stdout",
     "output_type": "stream",
     "text": [
      "1\n",
      "10\n",
      "1\n"
     ]
    }
   ],
   "source": [
    "x = S1() # x는 S1의 클래스 인스턴스\n",
    "print x.a\n",
    "\n",
    "x.a = 10 # 클래스 인스턴스 x의 이름 공간에 이름 생성\n",
    "print x.a\n",
    "\n",
    "print S1.a # 클래스 이름 공간과 클래스 인스턴스의 이름공간은 다르다\n"
   ]
  },
  {
   "cell_type": "code",
   "execution_count": 15,
   "metadata": {
    "collapsed": false
   },
   "outputs": [
    {
     "name": "stdout",
     "output_type": "stream",
     "text": [
      "300\n",
      "10\n",
      "1\n",
      "False\n",
      "False\n",
      "False\n"
     ]
    }
   ],
   "source": [
    "y = S1() # S1 클래스의 또 다른 인스턴스 생성\n",
    "\n",
    "y.a = 300 # 클래스 인스턴스 y의 이름 공간에 이름 생성\n",
    "print y.a \n",
    "print x.a # x 인스턴스 공간의 이름 a 확인\n",
    "print S1.a # 클래스 이름 공간의 a 확인\n",
    "\n",
    "print id(S1) is id(x)\n",
    "print id(S1) is id(y)\n",
    "print id(x) is id(y)"
   ]
  },
  {
   "cell_type": "code",
   "execution_count": 9,
   "metadata": {
    "collapsed": false
   },
   "outputs": [],
   "source": [
    "class MyClass:\n",
    "    def set(self, v):\n",
    "        self.value = v\n",
    "    def get(self):\n",
    "        return self.value"
   ]
  },
  {
   "cell_type": "code",
   "execution_count": 11,
   "metadata": {
    "collapsed": false
   },
   "outputs": [
    {
     "name": "stdout",
     "output_type": "stream",
     "text": [
      "egg\n",
      "egg\n"
     ]
    }
   ],
   "source": [
    "c = MyClass() # 인스턴스 생성 \n",
    "c.set('egg')  # 메소드 set 호출\n",
    "print c.get() # 메소드 get 호출\n",
    "print c.value # 인스턴스 변수에 직접 접근\n"
   ]
  },
  {
   "cell_type": "code",
   "execution_count": 18,
   "metadata": {
    "collapsed": false
   },
   "outputs": [
    {
     "name": "stdout",
     "output_type": "stream",
     "text": [
      "1000\n"
     ]
    }
   ],
   "source": [
    "MyClass.set(c, 1000)\n",
    "print c.get()"
   ]
  },
  {
   "cell_type": "code",
   "execution_count": 19,
   "metadata": {
    "collapsed": false
   },
   "outputs": [
    {
     "name": "stdout",
     "output_type": "stream",
     "text": [
      "1\n",
      "\n",
      "set function outside function -  2\n",
      "1\n"
     ]
    }
   ],
   "source": [
    "def set(i):\n",
    "    print \"set function outside function - \", i\n",
    "    \n",
    "class MyClass:\n",
    "    def set(self, v):\n",
    "        self.value = v\n",
    "    def incr(self):\n",
    "        set(self.value + 1)     # 클래스 외부에 존재하는 set 메소드 호출\n",
    "    def get(self):\n",
    "        return self.value\n",
    "    \n",
    "c = MyClass()\n",
    "c.set(1)\n",
    "print c.get()\n",
    "\n",
    "print\n",
    "\n",
    "c.incr()\n",
    "print c.get()"
   ]
  },
  {
   "cell_type": "code",
   "execution_count": 22,
   "metadata": {
    "collapsed": false
   },
   "outputs": [
    {
     "name": "stdout",
     "output_type": "stream",
     "text": [
      "Birthday Thu Nov 19 12:14:56 2015\n",
      "Sleeping for 3 sec\n",
      "Deathday Thu Nov 19 12:14:59 2015\n",
      "Birthday Thu Nov 19 12:14:59 2015\n",
      "Deathday Thu Nov 19 12:14:59 2015\n",
      "Deathday Thu Nov 19 12:14:59 2015\n"
     ]
    }
   ],
   "source": [
    "# _*_ coding:utf-8 _*_\n",
    "from time import ctime, sleep\n",
    "\n",
    "class Life:\n",
    "    def __init__(self):              # 생성자\n",
    "        self.birth = ctime()         # 현재시간에 대한 문자열을 얻는다.\n",
    "        print 'Birthday', self.birth # 현재 시간 출력\n",
    "    def __del__(self):               # 소멸자\n",
    "        print 'Deathday', ctime()    # 소멸 시간 출력 \n",
    "\n",
    "def test():\n",
    "    mylife = Life()\n",
    "    print 'Sleeping for 3 sec'\n",
    "    sleep(3) #3초간 sleep(block)상태에 있음 (CPU 점유 못함)\n",
    "\n",
    "test()\n",
    "l = Life()\n",
    "del l"
   ]
  },
  {
   "cell_type": "code",
   "execution_count": 23,
   "metadata": {
    "collapsed": false
   },
   "outputs": [
    {
     "name": "stdout",
     "output_type": "stream",
     "text": [
      "10\n",
      "10\n",
      "\n",
      "Deathday Thu Nov 19 12:30:56 2015\n",
      "20\n",
      "\n",
      "30\n"
     ]
    }
   ],
   "source": [
    "class Integer:\n",
    "    def __init__(self, i):\n",
    "        self.i = i\n",
    "    def __str__(self):\n",
    "        return str(self.i)\n",
    "    def __add__(self, other):\n",
    "        return self.i + other\n",
    "    def __del__(self):               # 소멸자\n",
    "        print 'Deathday', ctime()\n",
    "\n",
    "i = Integer(10)\n",
    "print i\n",
    "print str(i)\n",
    "\n",
    "print\n",
    "i = i + 10\n",
    "print i\n",
    "\n",
    "print\n",
    "i += 10\n",
    "print i"
   ]
  },
  {
   "cell_type": "code",
   "execution_count": null,
   "metadata": {
    "collapsed": true
   },
   "outputs": [],
   "source": [
    "class My:\n",
    "    a = 10;\n",
    "    b = 2;\n",
    "    def __gt__(self, y):\n",
    "        return "
   ]
  }
 ],
 "metadata": {
  "kernelspec": {
   "display_name": "Python 2",
   "language": "python",
   "name": "python2"
  },
  "language_info": {
   "codemirror_mode": {
    "name": "ipython",
    "version": 2
   },
   "file_extension": ".py",
   "mimetype": "text/x-python",
   "name": "python",
   "nbconvert_exporter": "python",
   "pygments_lexer": "ipython2",
   "version": "2.7.9"
  }
 },
 "nbformat": 4,
 "nbformat_minor": 0
}
