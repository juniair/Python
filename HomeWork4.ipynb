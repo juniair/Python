{
 "cells": [
  {
   "cell_type": "markdown",
   "metadata": {},
   "source": [
    "#HomeWork4"
   ]
  },
  {
   "cell_type": "markdown",
   "metadata": {},
   "source": [
    "####1번 문제\n",
    "#####파일 s.txt 내의 다음 내용과 함께 아래 문제의 코드를 제시하시오."
   ]
  },
  {
   "cell_type": "markdown",
   "metadata": {
    "collapsed": false
   },
   "source": [
    "> pig ham  \n",
    "> cat dog  \n",
    "> ham bird  \n",
    "> dog pig  "
   ]
  },
  {
   "cell_type": "markdown",
   "metadata": {
    "collapsed": false
   },
   "source": [
    "- 1) 파일 s.txt을 읽어서 각 라인에 있는 첫 번째 단어(문자열) 자체들을 기준으로 라인별 정렬후 파일 s1.txt에 그 결과를 기록하는 코드를 작성하시오. "
   ]
  },
  {
   "cell_type": "code",
   "execution_count": 1,
   "metadata": {
    "collapsed": false
   },
   "outputs": [
    {
     "name": "stdout",
     "output_type": "stream",
     "text": [
      "cat dog\n",
      "dog pig\n",
      "ham bird\n",
      "pig ham\n"
     ]
    }
   ],
   "source": [
    "originFile = open(\"s.txt\", \"r\")\n",
    "newFile = open(\"s1.txt\", \"w\")\n",
    "s = originFile.readlines()\n",
    "originFile.close()\n",
    "s.sort(key=str)\n",
    "for x in s:\n",
    "    \n",
    "    if x[len(x)-1] != '\\n':\n",
    "        x = x + '\\n'\n",
    "    newFile.write(x)\n",
    "    print x,\n",
    "\n",
    "newFile.close()"
   ]
  },
  {
   "cell_type": "markdown",
   "metadata": {},
   "source": [
    "- 파일을 쓰기 전에 s.txt의 있는 문자열을 라인 단위로 읽어서 s에 저장을 한 뒤 sort를 활용하여 정렬을 하였습니다.\n",
    "- 그리고 s1.txt에 문자열을 저장할때 맨 마지막 문자열의 개행문자가 없을 경우가 있습니다.\n",
    "- 그런 예외 상황을 처리할 수 있게 저장하기전에 개행문자가 없는 문자열이면 문자열 맨 뒤에 개행문자를 추가하여 저장할 수 있게 하였습니다."
   ]
  },
  {
   "cell_type": "markdown",
   "metadata": {},
   "source": [
    "-  2) 파일 s.txt을 읽어서 각 라인에 있는 두 번째 단어(문자열) 자체들을 기준으로 라인별 정렬후 파일 s2.txt에 그 결과를 기록하는 코드를 작성하시오."
   ]
  },
  {
   "cell_type": "code",
   "execution_count": 2,
   "metadata": {
    "collapsed": false
   },
   "outputs": [
    {
     "name": "stdout",
     "output_type": "stream",
     "text": [
      "ham bird\n",
      "cat dog\n",
      "pig ham\n",
      "dog pig\n"
     ]
    }
   ],
   "source": [
    "def myCmp(a, b):\n",
    "    return cmp(a[4],b[4])\n",
    "\n",
    "originFile = open(\"s.txt\", \"r\")\n",
    "newFile = open(\"s2.txt\", \"w\")\n",
    "s = originFile.readlines()\n",
    "originFile.close()\n",
    "s.sort(cmp=myCmp, key=str)\n",
    "for x in s:\n",
    "    \n",
    "    if x[len(x)-1] != '\\n':\n",
    "        x = x + '\\n'\n",
    "    newFile.write(x)\n",
    "    print x,\n",
    "\n",
    "newFile.close()"
   ]
  },
  {
   "cell_type": "markdown",
   "metadata": {},
   "source": [
    "- 파일을 쓰기 전에 s.txt의 있는 문자열을 라인 단위로 읽어서 s에 저장을 한 뒤 sort를 활용하여 정렬을 하였습니다.\n",
    "- 이 때 각 라인의 두번째 단어를 기준으로 정렬을 해야하므로 myCmp를 만들어서 두번째 문자열을 비교하여 정렬 하도록 하였습니다.\n",
    "- 그리고 s2.txt에 문자열을 저장할때 맨 마지막 문자열의 개행문자가 없을 경우가 있습니다.\n",
    "- 그런 예외 상황을 처리할 수 있게 저장하기전에 개행문자가 없는 문자열이면 문자열 맨 뒤에 개행문자를 추가하여 저장할 수 있게 하였습니다."
   ]
  },
  {
   "cell_type": "markdown",
   "metadata": {},
   "source": [
    "- 3) 파일 s.txt을 읽어서 각 라인들에 있는 모든 단어들을 순차적으로 다시 나열하되 각 라인에 세 개의 단어들이 오도록 하여 s3.txt에 기록하는 코드를 작성하시오. "
   ]
  },
  {
   "cell_type": "code",
   "execution_count": 3,
   "metadata": {
    "collapsed": false
   },
   "outputs": [
    {
     "name": "stdout",
     "output_type": "stream",
     "text": [
      "pig ham cat\n",
      "dog ham bird\n",
      "dog pig\n"
     ]
    }
   ],
   "source": [
    "originFile = open(\"s.txt\", \"r\")\n",
    "newFile = open(\"s3.txt\", \"w\")\n",
    "s = originFile.read()\n",
    "s = s.split()\n",
    "originFile.close()\n",
    "for i in range(len(s)):\n",
    "    newFile.write(s[i])\n",
    "    print s[i],\n",
    "    if ((i+1) % 3) == 0:\n",
    "        newFile.write('\\n')\n",
    "        print\n",
    "    else:\n",
    "        newFile.write(' ')\n",
    "\n",
    "newFile.close()"
   ]
  },
  {
   "cell_type": "markdown",
   "metadata": {},
   "source": [
    "- 파일을 쓰기 전에 s.txt의 있는 문자열을 전부 읽어 s에 저장운 split()을 활용하여 개행문자와 공백문자를 기준으로 단어를 분리 시켰습니다.\n",
    "- 단어에 갯수 만큼 반복문을 돌립니다.\n",
    "- s3.txt에 단어를 씁니다.\n",
    "- 라인당 3단어가 저장이 되야 하므로 나머지 연산을 해서 결과가 0이면 개행문자를 한번 더 쓰게 하였습니다.\n",
    "- 반대로 그렇지 않으면 아직 단어를 추가해야 하므로 공백문자를 하나 쓰게 하였습니다."
   ]
  },
  {
   "cell_type": "markdown",
   "metadata": {},
   "source": [
    "####2번 문제\n",
    "- 1) 프로그램 시작 후 다음과 같은 메시지가 출력되어 1, 2, 3 중 하나의 값을 입력 받도록 한다.\n",
    "> Welcome to Our Service  \n",
    ">  \n",
    "> 1. Sign Up\n",
    "> 2. Sign In\n",
    "> 3. Quit\n",
    "- 2) 1을 선택하면 ID, Password, Name, School의 4가지 정보를 입력받아 파일에 저장하는 프로그램을 작성한다.\n",
    " - 2-1) 입력된 내용은 access.txt 라는 이름의 텍스트 파일 내에 저장된다.\n",
    " - 2-2) access.txt 파일의 각 라인에는 가입된 회원 각각의 정보가 \"[id]: [password], [name], [school]\" 형태로 저장된다.\n",
    " - 2-3) 즉, 가입 회원이 10명이면 access.txt 파일 내에 라인 수도 정확히 10개이다.\n",
    " - 2-4) 암호화 방식은 sha 모듈을 활용한다. sha 모듈 활용 방법은 본 문제의 마지막에 제시된 sha 활용 예를 참고한다.\n",
    "    * 즉, access.txt 파일 내에 password 정보는 암호화 되어 저장되어야 한다.\n",
    " - 2-5) 회원 정보를 입력 받을 때 id를 입력 받은 직후 access.txt를 확인하여 이미 존재하는 id가 입력되었다면 다음 메시지를 출력하고 id 정보를 다시 입력받는다.\n",
    "    * Sorry, the entered ID is already used.\n",
    "- 3) 2를 선택하면 ID, Password의 2가지 정보를 입력받는 프로그램을 작성한다.\n",
    " - 3-1) 입력된 ID 정보가 access.txt에 존재하지 않으면 다음과 같은 메시지를 출력하고 다시 입력받는다.◦Sorry, you are not a registered member.\n",
    " - 3-2) 입력된 ID가 올바르게 존재하지만 Password 정보가 access.txt 파일에 있는 정보와 불일치하면 다음과 같은 메시지를 출력하고 Password를 다시 입력받는다.\n",
    "     * Sorry, the entered password is not correct.\n",
    "     * 이 때에도 사용자가 입력한 Password 정보와 함께 sha 모듈이 활용되어야 한다.\n",
    "  - 3-3) 입력된 ID와 Password가 모두 올바르면 다음과 같은 메시지를 출력한다.◦Hello [name]!\n",
    "     * 위 [name]에는 access.txt에 기록되어 있는 name 정보를 출력한다.\n",
    "- 4) 3을 선택하면 프로그램이 끝난다.\n",
    "- [참고] sha 모듈 활용 예\n"
   ]
  },
  {
   "cell_type": "code",
   "execution_count": 4,
   "metadata": {
    "collapsed": false,
    "scrolled": true
   },
   "outputs": [
    {
     "name": "stdout",
     "output_type": "stream",
     "text": [
      "7c222fb2927d828af22f592134e8932480637c0d\n"
     ]
    }
   ],
   "source": [
    "import sha\n",
    "password_plain = \"12345678\"\n",
    "password_encrypted = sha.new(password_plain).hexdigest()\n",
    "print password_encrypted"
   ]
  },
  {
   "cell_type": "code",
   "execution_count": 8,
   "metadata": {
    "collapsed": false
   },
   "outputs": [
    {
     "name": "stdout",
     "output_type": "stream",
     "text": [
      "\n",
      "Welcome to Our Service\n",
      "\n",
      "1. Sign Up\n",
      "2. Sign In\n",
      "3. Quit\n",
      "command: 1\n",
      " ID: a\n",
      " Password: 1234\n",
      " Name: kkj\n",
      " School: kut\n",
      "\n",
      "Welcome to Our Service\n",
      "\n",
      "1. Sign Up\n",
      "2. Sign In\n",
      "3. Quit\n",
      "command: 1\n",
      " ID: a\n",
      "Sorry, the entered ID is already used.\n",
      " ID: b\n",
      " Password: 1234\n",
      " Name: kkj\n",
      " School: kut\n",
      "\n",
      "Welcome to Our Service\n",
      "\n",
      "1. Sign Up\n",
      "2. Sign In\n",
      "3. Quit\n",
      "command: 2\n",
      " Enter Id: a\n",
      " Password: 1234\n",
      "Hello kkj\n",
      "kkj\n",
      "\n",
      "Welcome to Our Service\n",
      "\n",
      "1. Sign Up\n",
      "2. Sign In\n",
      "3. Quit\n",
      "command: 2\n",
      " Enter Id: c\n",
      "Sorry, you are not a registered member.\n",
      "\n",
      "Welcome to Our Service\n",
      "\n",
      "1. Sign Up\n",
      "2. Sign In\n",
      "3. Quit\n",
      "command: 2\n",
      " Enter Id: b\n",
      " Password: 123\n",
      "Sorry, the entered password is not correct\n",
      "\n",
      "Welcome to Our Service\n",
      "\n",
      "1. Sign Up\n",
      "2. Sign In\n",
      "3. Quit\n",
      "command: 4\n",
      "4 is not command.\n",
      "\n",
      "Welcome to Our Service\n",
      "\n",
      "1. Sign Up\n",
      "2. Sign In\n",
      "3. Quit\n",
      "command: 3\n"
     ]
    }
   ],
   "source": [
    "# -*-coding:utf-8 -*-\n",
    "import sha\n",
    "import os\n",
    "\n",
    "def commndHelp():\n",
    "        print \"\\nWelcome to Our Service\"\n",
    "        print\n",
    "        print \"1. Sign Up\"\n",
    "        print \"2. Sign In\"\n",
    "        print \"3. Quit\"\n",
    "        pass\n",
    "\n",
    "def signUp():\n",
    "        members = {}\n",
    "    \n",
    "        if os.path.exists('access.txt') == False:\n",
    "            db = open('access.txt', 'w')\n",
    "            db.close()\n",
    "\n",
    "        db = open('access.txt', 'r')\n",
    "        for data in db:\n",
    "            ids = data.split(':')[0]\n",
    "            password = data.split(':')[1].split(',')[0][1:]\n",
    "            name = data.split(':')[1].split(',')[1][1:]\n",
    "            school = data.split(':')[1].split(',')[2][1:].strip()\n",
    "            members[ids] = (password, name, school)\n",
    "        db.close()\n",
    "        \n",
    "        while True:\n",
    "            ids = raw_input(\" ID: \")\n",
    "            if ids in members:\n",
    "                print \"Sorry, the entered ID is already used.\"\n",
    "            else:\n",
    "                break\n",
    "        password = sha.new(raw_input(\" Password: \")).hexdigest()\n",
    "        name = raw_input(\" Name: \")\n",
    "        school = raw_input(\" School: \")\n",
    "        members[ids] = (password, name, school)\n",
    "\n",
    "        db = open('access.txt', 'a')\n",
    "        for ids in members:\n",
    "            db.write(ids + ': ' + members[ids][0] + ', ' + members[ids][1] + ', ' + members[ids][2] + '\\n')\n",
    "        db.close()\n",
    "        \n",
    "def signIn():\n",
    "        members = {}\n",
    "    \n",
    "        if os.path.exists('access.txt') == False:\n",
    "            db = open('access.txt', 'w')\n",
    "            db.close()\n",
    "\n",
    "        db = open('access.txt', 'r')\n",
    "        for data in db:\n",
    "            ids = data.split(':')[0]\n",
    "            password = data.split(':')[1].split(',')[0][1:]\n",
    "            name = data.split(':')[1].split(',')[1][1:]\n",
    "            school = data.split(':')[1].split(',')[2][1:].strip()\n",
    "\n",
    "            members[ids] = (password, name, school)\n",
    "        db.close()\n",
    "\n",
    "        ids = raw_input(\" Enter Id: \")\n",
    "        if ids in members:\n",
    "            password = sha.new(raw_input(\" Password: \")).hexdigest()\n",
    "            if members[ids][0] == password:\n",
    "                print 'Hello ' + members[ids][1]\n",
    "                print members[ids][1]\n",
    "            else:\n",
    "                print 'Sorry, the entered password is not correct'\n",
    "        else:\n",
    "            print 'Sorry, you are not a registered member.'\n",
    "\n",
    "members = {}            \n",
    "while True:\n",
    "    commndHelp()\n",
    "    cmd = input(\"command: \")\n",
    "    if cmd == 1:\n",
    "        signUp()\n",
    "    elif cmd == 2:\n",
    "        signIn()\n",
    "    elif cmd == 3:\n",
    "        break\n",
    "    else:\n",
    "        print \"%d is not command.\" % cmd\n",
    "        "
   ]
  },
  {
   "cell_type": "markdown",
   "metadata": {
    "collapsed": false
   },
   "source": [
    "- 회원가입, 로그인, 종료 그리고 커맨드 리스트를 표시하는 함수를 만들었습니다.\n",
    "- 회원가입은 acess.txt 파일이 존재 하지 않으면 생성할 수 있게 쓰기모드로 파일을 열고 닫았습니다.\n",
    "- 파일을 읽는 경우에는 파일 라인에 내용 아이디, 비밀번호, 이름, 학교에 대해 따로 저장하기 위해 split과 strip을 활용해 각 변수에 저장을 한뒤 key값을 아이디로 한 사전에 비밀번호, 이름 , 학교를 튜플 형식으로 저장하혔습니다.\n",
    "- 회원 가입 시 기존에 파일에 존재하는 아이디가 있으면 존재한다고 출력으로 하고 다시 아이디를 입력 받을 준비를 합니다. 비밀번호는 입력을 받으면 입력 받은 값을 바로 sha 모듈을 활용하여 암호화를 사용하여 저장을 합니다.\n",
    "- 완전히 입력이 완료가 되면 사전에 새로운 아이디를 key값으로 아여 데이터를 저장합니다.\n",
    "- 그리고 나서 파일을 이어쓰기 모드로 하여 형식에 맞게 저장을 합니다.\n",
    "- 로그인 부분 같은 경우에는 회원 가입과 동일 하게 하되 id가 사전에 키값으로 존재하는지 판독후 존재를 하면 비밀번호를 검사를 합니다. 비밀번호는 역시 입력을 할시 파일에는 비밀번호가 암호화 되어 있으므로 입력을 받으면 암호화를 하여 두 암호화된 값이 같은지 판독을 하여 일치하면 로그인 성공으로 하였습니다."
   ]
  },
  {
   "cell_type": "markdown",
   "metadata": {
    "collapsed": false
   },
   "source": [
    "####3번 문제\n",
    "range() 함수와 유사한 frange() 함수를 다음 조건을 참고하여 만드시오.\n",
    "- 1) frange()의 인자 구성은 다음과 같이 range와 동일하지만 각 인수들은 음수를 받지 않는다고 가정한다.\n",
    "    > range(stop)  \n",
    "    range(start, stop[,step])\n",
    "- 2) frange() 함수의 인자에 대한 기본 시작(start) 값은 0.0이고, 기본 단계(step) 값은 0.1이다. \n",
    "- 3) frange 사용 예\n",
    "    - 3-1) frange(0.5)\n",
    "        * [0.0, 0.1, 0.2, 0.3, 0.4]\n",
    "    - 3-2) frange(1.0, 2.0)\n",
    "        * [1.0, 1.1, 1.2, 1.3, 1.4, 1.5, 1.6, 1.7, 1.8, 1.9]\n",
    "    - 3-3) frange(2.2, 4.0, 0.5)\n",
    "        * [2.2, 2.7, 3.2, 3.7]\n",
    "\n",
    "\n"
   ]
  },
  {
   "cell_type": "code",
   "execution_count": 19,
   "metadata": {
    "collapsed": false,
    "scrolled": true
   },
   "outputs": [
    {
     "name": "stdout",
     "output_type": "stream",
     "text": [
      "[0.0, 0.1, 0.2, 0.30000000000000004, 0.4]\n",
      "[1.0, 1.1, 1.2, 1.3, 1.4, 1.5, 1.6, 1.7000000000000002, 1.8, 1.9]\n",
      "[2.2, 2.7, 3.2, 3.7]\n"
     ]
    }
   ],
   "source": [
    "def frange(start, stop = None, step = None):\n",
    "        \n",
    "        if stop is None:\n",
    "            stop = start + 0.0\n",
    "            start = 0.0\n",
    "            \n",
    "        if step is None:\n",
    "            step = 0.1\n",
    "        \n",
    "        l = []\n",
    "        \n",
    "        while True:\n",
    "            element = start + len(l) * step\n",
    "            if element >= stop:\n",
    "                break;\n",
    "            l.append(element)\n",
    "        \n",
    "        return l  \n",
    "    \n",
    "print frange(0.5)\n",
    "print frange(1.0, 2.0)\n",
    "print frange(2.2, 4.0, 0.5)"
   ]
  },
  {
   "cell_type": "markdown",
   "metadata": {
    "collapsed": true
   },
   "source": [
    "- frange에 인자로 start, stop, step을 주고 stop과 step은 None 객체를 초기값으로 할당 했습니다.\n",
    "- 만약 인자가 하나만 들어오면 start = 0, stop = 인자값, step = 0.1이 들어 와야 합니다.\n",
    "- 그러므로 처음 조건문에 stop이 None 객체이면 stop에 start 값을 넣고 start를 0으로 초기화 하고 step도 None 객체 일시 0.1로 step 값을 초기화 하였습니다.\n",
    "- 인자가 3개가 들어거나 2개가 들어 올때는 조건문에 만족을 안하므로 기존에 인자 값을 활요 합니다.\n",
    "- range 함수가 리스트로 반환하기 때문에 증가 되는 값은 리스트에 추가를 하였습니다. 증가 된 값은 시작 값 + 현재 리스트의 원소 갯수 * step 값으로 하여 리스트에 저장을 합니다.\n",
    "- 증가 된 값이 stop보다 같거나 크면 반복문을 멈추고 해당 결과 리스트를 출력합니다."
   ]
  },
  {
   "cell_type": "markdown",
   "metadata": {
    "collapsed": true
   },
   "source": [
    "####4번 문제\n",
    "가변인수를 받는 함수 sum()을 다음과 같은 조건을 참고하여 구현하시오\n",
    "- sum() 사용 예\n",
    "    - sum()\n",
    "        * 0\n",
    "    - sum(1, 2)\n",
    "        * 3\n",
    "    - sum(1, 2, 3, 4, 5)\n",
    "        * 15\n",
    "    - sum(1, 5, 7, 2, -10)\n",
    "        * 5"
   ]
  },
  {
   "cell_type": "code",
   "execution_count": 20,
   "metadata": {
    "collapsed": false
   },
   "outputs": [
    {
     "name": "stdout",
     "output_type": "stream",
     "text": [
      "0\n",
      "3\n",
      "15\n",
      "5\n"
     ]
    }
   ],
   "source": [
    "def sum(*args):\n",
    "        element = args\n",
    "        result = 0;\n",
    "        if element is None:\n",
    "            return result;\n",
    "        else:\n",
    "            for x in args:\n",
    "                result += x\n",
    "            else:\n",
    "                return result\n",
    "            \n",
    "print sum()\n",
    "print sum(1,2)\n",
    "print sum(1,2,3,4,5)\n",
    "print sum(1,5,7,2,-10)"
   ]
  },
  {
   "cell_type": "markdown",
   "metadata": {
    "collapsed": true
   },
   "source": [
    "- sum의 인자 값을 *args로 하여 가변 인자를 받게 하였습니다.\n",
    "- 만약 인자가 없으면 result의 초기 값인 0을 반환 합니다.\n",
    "- 그렇지 않으면 반복문으로 인자를 하나씩 꺼내서 result에 누적을 합니다.\n",
    "- 반복문을 다 마치고 나면 result를 반환합니다."
   ]
  },
  {
   "cell_type": "markdown",
   "metadata": {
    "collapsed": false
   },
   "source": [
    "####5번 문제\n",
    "여러 단어로 이루어진 문자열을 입력받아 각 단어의 첫글자로 이루어진 단어를 대문자로 출력하는 myinitial() 함수를 다음 조건을 참고하여 작성하시오.\n",
    "- 1) 다음에 제시되는 함수들을 모두 이용해야 한다.\n",
    "    - split\n",
    "    - map \n",
    "    - join \n",
    "- 2) myinitial() 함수 사용 예\n",
    "    - myinitial(\"as soon as possible\")\n",
    "        * ASAP\n",
    "\n",
    "\n"
   ]
  },
  {
   "cell_type": "code",
   "execution_count": 21,
   "metadata": {
    "collapsed": false
   },
   "outputs": [
    {
     "name": "stdout",
     "output_type": "stream",
     "text": [
      "ASAP\n",
      "HP\n",
      "KKJ\n"
     ]
    }
   ],
   "source": [
    "def myinitial(target):\n",
    "        wordList = target.split()\n",
    "        return ''.join(map(lambda x: x[0].upper(), wordList))\n",
    "        \n",
    "print myinitial(\"as soon as possible\")\n",
    "print myinitial(\"hello python\")\n",
    "print myinitial(\"kim kyeng jun\")"
   ]
  },
  {
   "cell_type": "markdown",
   "metadata": {
    "collapsed": true
   },
   "source": [
    "- 우선 함수에서 인자값을 split으로 활용해 공백을 기준으로 나누어 리스트로 저장을 합니다.\n",
    "- lamba 함수로 각 단어의 첫번째 문자를 대문자로 바꾸어 해당 문자만 반환하도록 하였습니다.\n",
    "- 각 단어를 받아 올때는 map을 이용하여 리스트로 만든 단어들을 하나씩 불러옵니다.\n",
    "- map으로 얻은 결과는 join을 통하여 하나씩 붙혀서 반환을 합니다."
   ]
  },
  {
   "cell_type": "markdown",
   "metadata": {
    "collapsed": true
   },
   "source": [
    "####6번문제\n",
    "음이 아닌 정수 n를 입력받으면 n! (factorial)을 계산하는 myfact() 함수를 재귀적 함수로 구현하시오.\n",
    "   * [옵션] 참을 수 있는 정도 만큼의 수행시간을 직접 기다려보면서 n을 늘려보도록 합시다. \n"
   ]
  },
  {
   "cell_type": "code",
   "execution_count": 2,
   "metadata": {
    "collapsed": false
   },
   "outputs": [
    {
     "name": "stdout",
     "output_type": "stream",
     "text": [
      "5\n",
      "5! is 120\n"
     ]
    }
   ],
   "source": [
    "def myFactorial(n):\n",
    "        if n == 1 or n == 0:\n",
    "            return 1;\n",
    "        else:\n",
    "            return n * myFactorial(n-1)\n",
    "        \n",
    "number = input()\n",
    "if number < 0:\n",
    "        print \"%d is negative number\" % (number)\n",
    "else:\n",
    "    print\"%d! is %d\" %(number, myFactorial(number))"
   ]
  },
  {
   "cell_type": "markdown",
   "metadata": {},
   "source": [
    "- 숫자를 입력 받아 양수 인경우에만 팩토리얼 계산을 합니다.\n",
    "- 팩토리얼 함수는 인자값이 0이나 1이면 팩토리얼의 정의에 의해서 1을 반환하게 합니다.\n",
    "- 그렇지 않은 경우 인자 값과 '인자 값 - 1의 팩토리얼 결과값' 계산하여 반환을 합니다."
   ]
  },
  {
   "cell_type": "markdown",
   "metadata": {
    "collapsed": false
   },
   "source": [
    "####7번 문제\n",
    "* import string 과 from string import * 의 차이점을 설명하시오."
   ]
  },
  {
   "cell_type": "markdown",
   "metadata": {
    "collapsed": false
   },
   "source": [
    "* `import string`은 단순히 string 모듈이라는 객체를 불러와서 사용시에는 'string.함수명'형식으로 해한다.\n",
    "* 반면`from string import *`은 현재 이름 공간(작업 공간)에 string 모듈에 있는 모든 함수를 불러와서 모듈 이름 없이 직접 사용이 가능하다.\n",
    "* 결국 `import string`은 모듈이라는 객체를 불러 오지만 `from string import *`은 모듈 내에 있는 함수만을 불러오는 것이다."
   ]
  },
  {
   "cell_type": "markdown",
   "metadata": {},
   "source": [
    "####8번 문제\n",
    "이백만 이하 소수의 합"
   ]
  },
  {
   "cell_type": "code",
   "execution_count": 1,
   "metadata": {
    "collapsed": false
   },
   "outputs": [
    {
     "name": "stdout",
     "output_type": "stream",
     "text": [
      "142913828922\n"
     ]
    }
   ],
   "source": [
    "import math\n",
    "def isPrime(number):\n",
    "        integerRange=math.floor(math.sqrt(number))\n",
    "        x=3\n",
    "        if number==2:\n",
    "            return True\n",
    "        \n",
    "        if number%2 == 0 or number == 1:\n",
    "            return False\n",
    "        \n",
    "        while x <= integerRange:\n",
    "            if number%x == 0:\n",
    "                return False\n",
    "            x+=2\n",
    "        return True\n",
    "    \n",
    "result = 0\n",
    "\n",
    "for x in xrange(2000001):\n",
    "    if isPrime(x):\n",
    "        result += x\n",
    "\n",
    "    \n",
    "print result"
   ]
  },
  {
   "cell_type": "markdown",
   "metadata": {},
   "source": [
    "- 지난 과제에 활용한 소수 찾는 문제의 코드를 활용하여 소수가 발견이 되면 누적하는 작업을 하여 반복문이 끝나면 결과값을 출력합니다."
   ]
  },
  {
   "cell_type": "markdown",
   "metadata": {},
   "source": [
    "#### 9번 문제\n",
    "20×20 격자에서 연속된 네 숫자의 곱 중 최대값 "
   ]
  },
  {
   "cell_type": "code",
   "execution_count": 24,
   "metadata": {
    "collapsed": false
   },
   "outputs": [
    {
     "name": "stdout",
     "output_type": "stream",
     "text": [
      "70600674\n"
     ]
    }
   ],
   "source": [
    "s = \"\"\"\n",
    "08 02 22 97 38 15 00 40 00 75 04 05 07 78 52 12 50 77 91 08\n",
    "49 49 99 40 17 81 18 57 60 87 17 40 98 43 69 48 04 56 62 00\n",
    "81 49 31 73 55 79 14 29 93 71 40 67 53 88 30 03 49 13 36 65\n",
    "52 70 95 23 04 60 11 42 69 24 68 56 01 32 56 71 37 02 36 91\n",
    "22 31 16 71 51 67 63 89 41 92 36 54 22 40 40 28 66 33 13 80\n",
    "24 47 32 60 99 03 45 02 44 75 33 53 78 36 84 20 35 17 12 50\n",
    "32 98 81 28 64 23 67 10 26 38 40 67 59 54 70 66 18 38 64 70\n",
    "67 26 20 68 02 62 12 20 95 63 94 39 63 08 40 91 66 49 94 21\n",
    "24 55 58 05 66 73 99 26 97 17 78 78 96 83 14 88 34 89 63 72\n",
    "21 36 23 09 75 00 76 44 20 45 35 14 00 61 33 97 34 31 33 95\n",
    "78 17 53 28 22 75 31 67 15 94 03 80 04 62 16 14 09 53 56 92\n",
    "16 39 05 42 96 35 31 47 55 58 88 24 00 17 54 24 36 29 85 57\n",
    "86 56 00 48 35 71 89 07 05 44 44 37 44 60 21 58 51 54 17 58\n",
    "19 80 81 68 05 94 47 69 28 73 92 13 86 52 17 77 04 89 55 40\n",
    "04 52 08 83 97 35 99 16 07 97 57 32 16 26 26 79 33 27 98 66\n",
    "88 36 68 87 57 62 20 72 03 46 33 67 46 55 12 32 63 93 53 69\n",
    "04 42 16 73 38 25 39 11 24 94 72 18 08 46 29 32 40 62 76 36\n",
    "20 69 36 41 72 30 23 88 34 62 99 69 82 67 59 85 74 04 36 16\n",
    "20 73 35 29 78 31 90 01 74 31 49 71 48 86 81 16 23 57 05 54\n",
    "01 70 54 71 83 51 54 69 16 92 33 48 61 43 52 01 89 19 67 48\n",
    "\"\"\"\n",
    "\n",
    "s = s.replace('\\n', ' ')\n",
    "numberList = [int(x) for x in s.split()]\n",
    "\n",
    "def product(iterable):\n",
    "    return reduce(lambda x, y: x * y, iterable, 1)\n",
    "\n",
    "def finalCompereValue(position):\n",
    "    \n",
    "    if ((position % 20) > 16):\n",
    "        horizental_sum = 0 \n",
    "    else:\n",
    "        horizental_sum = product(numberList[position:position+4])\n",
    "        \n",
    "    if ((position / 20) > 16):\n",
    "        vertical_sum = 0 \n",
    "    else:\n",
    "        vertical_sum = product([numberList[ position + 20*i] for i in range(4)])\n",
    "     \n",
    "    if ((position % 20) > 16) or ((position / 20) > 16):\n",
    "        rightDiagonal_sum = 0\n",
    "    else:\n",
    "        rightDiagonal_sum = product([numberList[position + 21*i] for i in range(4)])\n",
    "    \n",
    "    if ((position % 20) < 3) or ((position / 20) > 16):\n",
    "        leftDiagonal_sum = 0 \n",
    "    else:\n",
    "        leftDiagonal_sum = product([numberList[position + 19*i] for i in range(4)])\n",
    "        \n",
    "    return max(horizental_sum, vertical_sum, rightDiagonal_sum, leftDiagonal_sum)\n",
    "\n",
    "print max([finalCompereValue(i) for i in range(20*20)])"
   ]
  },
  {
   "cell_type": "markdown",
   "metadata": {
    "collapsed": true
   },
   "source": [
    "- 문자열을 1차원 배열로 선언을 합니다.\n",
    "- 리스트 내포방식으로 함수를 호출합니다.\n",
    "- 선택한 위치가 16까지되야 가로로 연속된 4개의 숫자를 선택 할 수 있으므로 16을 넘으면 가로의 값은 0으로 설정하였습니다.\n",
    "- 세로의 경우에 마찬 가지 입니다.\n",
    "- 오른쪽 대각선은 가로 세로의 경우를 합친 경우에만 계산이 가능합니다.\n",
    "- 곱셉은 product 함수에서 reduce를 사용하여 lamda로 계산하였습니다.\n",
    "- 왼쪽 대각선은 처음 열의 3번째 까지는 계산이 안되므로 3번째 이후 그리고 세로의 경우일 때만 계산하게 합니다.\n",
    "- 이렇게 하나의 기준 좌표에 대한 max 값들을 구한뒤 리스트에 저장을 합니다.\n",
    "- main 작업 공간에서 저장된 리스트에 값중에 가장 큰 값을 찾아서 출력을 합니다."
   ]
  },
  {
   "cell_type": "markdown",
   "metadata": {
    "collapsed": true
   },
   "source": [
    "####10번 문제\n",
    "500개 이상의 약수를 갖는 가장 작은 삼각수는?"
   ]
  },
  {
   "cell_type": "code",
   "execution_count": 4,
   "metadata": {
    "collapsed": false
   },
   "outputs": [
    {
     "name": "stdout",
     "output_type": "stream",
     "text": [
      "76576500\n"
     ]
    }
   ],
   "source": [
    "import math\n",
    "def primeCount(number):\n",
    "    \n",
    "        integerRange=int(math.floor(math.sqrt(number)))\n",
    "        result = 0\n",
    "        \n",
    "        for x in xrange(1,integerRange+1):\n",
    "            \n",
    "            if number%x == 0:\n",
    "                result += 2\n",
    "            \n",
    "            if pow(x,2) == number:\n",
    "                result += 1\n",
    "                \n",
    "        return result\n",
    "\n",
    "\n",
    "n = 1\n",
    "number = 1\n",
    "while primeCount(number) < 500:\n",
    "    number = sum([x for x in range(1,n+1)])\n",
    "    n += 1\n",
    "\n",
    "\n",
    "    \n",
    "print number\n"
   ]
  },
  {
   "cell_type": "markdown",
   "metadata": {
    "collapsed": true
   },
   "source": [
    "- 이전에 만든 isPrime을 응용하여 만들었습니다.\n",
    "- 함수에서 반복문을 사용하여 x가 number로 나누어 나머지가 없으면 약수가 있으므로 약수의 갯수를 2개 증가시켰습니다.\n",
    "- 반면에 자기 자신을 곱했을때 number와 같으면 약수의 갯수를 1 증가 시키게 하였습니다.\n",
    "- 그리고 반복문이 끝나면 약수의 갯수를 반환합니다.\n",
    "- while문 안에서 n을 1씩 증가시켜 삼각수를 구하고 그 숫자의 약수가 500 미만일때까지 반복하게 만들었습니다.\n",
    "- 해답을 찾으면 while문을 빠져나오고 해답 값을 출력했습니다."
   ]
  },
  {
   "cell_type": "code",
   "execution_count": 5,
   "metadata": {
    "collapsed": false
   },
   "outputs": [
    {
     "name": "stdout",
     "output_type": "stream",
     "text": [
      "total sum: 5537376230390876637302048746832985971773659831892672\n",
      "  result : 5537376230\n"
     ]
    }
   ],
   "source": [
    "s = \"\"\"37107287533902102798797998220837590246510135740250\n",
    "46376937677490009712648124896970078050417018260538\n",
    "74324986199524741059474233309513058123726617309629\n",
    "91942213363574161572522430563301811072406154908250\n",
    "23067588207539346171171980310421047513778063246676\n",
    "89261670696623633820136378418383684178734361726757\n",
    "28112879812849979408065481931592621691275889832738\n",
    "44274228917432520321923589422876796487670272189318\n",
    "47451445736001306439091167216856844588711603153276\n",
    "70386486105843025439939619828917593665686757934951\n",
    "62176457141856560629502157223196586755079324193331\n",
    "64906352462741904929101432445813822663347944758178\n",
    "92575867718337217661963751590579239728245598838407\n",
    "58203565325359399008402633568948830189458628227828\n",
    "80181199384826282014278194139940567587151170094390\n",
    "35398664372827112653829987240784473053190104293586\n",
    "86515506006295864861532075273371959191420517255829\n",
    "71693888707715466499115593487603532921714970056938\n",
    "54370070576826684624621495650076471787294438377604\n",
    "53282654108756828443191190634694037855217779295145\n",
    "36123272525000296071075082563815656710885258350721\n",
    "45876576172410976447339110607218265236877223636045\n",
    "17423706905851860660448207621209813287860733969412\n",
    "81142660418086830619328460811191061556940512689692\n",
    "51934325451728388641918047049293215058642563049483\n",
    "62467221648435076201727918039944693004732956340691\n",
    "15732444386908125794514089057706229429197107928209\n",
    "55037687525678773091862540744969844508330393682126\n",
    "18336384825330154686196124348767681297534375946515\n",
    "80386287592878490201521685554828717201219257766954\n",
    "78182833757993103614740356856449095527097864797581\n",
    "16726320100436897842553539920931837441497806860984\n",
    "48403098129077791799088218795327364475675590848030\n",
    "87086987551392711854517078544161852424320693150332\n",
    "59959406895756536782107074926966537676326235447210\n",
    "69793950679652694742597709739166693763042633987085\n",
    "41052684708299085211399427365734116182760315001271\n",
    "65378607361501080857009149939512557028198746004375\n",
    "35829035317434717326932123578154982629742552737307\n",
    "94953759765105305946966067683156574377167401875275\n",
    "88902802571733229619176668713819931811048770190271\n",
    "25267680276078003013678680992525463401061632866526\n",
    "36270218540497705585629946580636237993140746255962\n",
    "24074486908231174977792365466257246923322810917141\n",
    "91430288197103288597806669760892938638285025333403\n",
    "34413065578016127815921815005561868836468420090470\n",
    "23053081172816430487623791969842487255036638784583\n",
    "11487696932154902810424020138335124462181441773470\n",
    "63783299490636259666498587618221225225512486764533\n",
    "67720186971698544312419572409913959008952310058822\n",
    "95548255300263520781532296796249481641953868218774\n",
    "76085327132285723110424803456124867697064507995236\n",
    "37774242535411291684276865538926205024910326572967\n",
    "23701913275725675285653248258265463092207058596522\n",
    "29798860272258331913126375147341994889534765745501\n",
    "18495701454879288984856827726077713721403798879715\n",
    "38298203783031473527721580348144513491373226651381\n",
    "34829543829199918180278916522431027392251122869539\n",
    "40957953066405232632538044100059654939159879593635\n",
    "29746152185502371307642255121183693803580388584903\n",
    "41698116222072977186158236678424689157993532961922\n",
    "62467957194401269043877107275048102390895523597457\n",
    "23189706772547915061505504953922979530901129967519\n",
    "86188088225875314529584099251203829009407770775672\n",
    "11306739708304724483816533873502340845647058077308\n",
    "82959174767140363198008187129011875491310547126581\n",
    "97623331044818386269515456334926366572897563400500\n",
    "42846280183517070527831839425882145521227251250327\n",
    "55121603546981200581762165212827652751691296897789\n",
    "32238195734329339946437501907836945765883352399886\n",
    "75506164965184775180738168837861091527357929701337\n",
    "62177842752192623401942399639168044983993173312731\n",
    "32924185707147349566916674687634660915035914677504\n",
    "99518671430235219628894890102423325116913619626622\n",
    "73267460800591547471830798392868535206946944540724\n",
    "76841822524674417161514036427982273348055556214818\n",
    "97142617910342598647204516893989422179826088076852\n",
    "87783646182799346313767754307809363333018982642090\n",
    "10848802521674670883215120185883543223812876952786\n",
    "71329612474782464538636993009049310363619763878039\n",
    "62184073572399794223406235393808339651327408011116\n",
    "66627891981488087797941876876144230030984490851411\n",
    "60661826293682836764744779239180335110989069790714\n",
    "85786944089552990653640447425576083659976645795096\n",
    "66024396409905389607120198219976047599490197230297\n",
    "64913982680032973156037120041377903785566085089252\n",
    "16730939319872750275468906903707539413042652315011\n",
    "94809377245048795150954100921645863754710598436791\n",
    "78639167021187492431995700641917969777599028300699\n",
    "15368713711936614952811305876380278410754449733078\n",
    "40789923115535562561142322423255033685442488917353\n",
    "44889911501440648020369068063960672322193204149535\n",
    "41503128880339536053299340368006977710650566631954\n",
    "81234880673210146739058568557934581403627822703280\n",
    "82616570773948327592232845941706525094512325230608\n",
    "22918802058777319719839450180888072429661980811197\n",
    "77158542502016545090413245809786882778948721859617\n",
    "72107838435069186155435662884062257473692284509516\n",
    "20849603980134001723930671666823555245252804609722\n",
    "53503534226472524250874054075591789781264330331690\"\"\"\n",
    "\n",
    "print \"total sum: \" + str(sum([int(x) for x in s.split('\\n')]))\n",
    "print \"  result : \" + str(sum([int(x) for x in s.split('\\n')]))[:10]"
   ]
  },
  {
   "cell_type": "markdown",
   "metadata": {},
   "source": [
    "- 우선 문자열을 개행문자 단위로 잘라서 100개의 문자열 만듭니다.\n",
    "- 리스트 내포형을 문자열을 리스트에 저장을할때 정수형으로 변환을 시킵니다.\n",
    "- 100개의 값을 sum 함수에서 전부 더합니다.\n",
    "- 결과 값을 문자열로 바꾸고 슬라이싱을 활용하여 최상위 자리수에서 10번째 자리 수까지 출력 냅니다."
   ]
  },
  {
   "cell_type": "markdown",
   "metadata": {
    "collapsed": true
   },
   "source": [
    "####12번 문제\n",
    "백만(1,000,000) 이하의 수로 시작했을 때 1까지 도달하는데 가장 긴 과정을 거치는 우박수는 얼마입니까?"
   ]
  },
  {
   "cell_type": "code",
   "execution_count": 6,
   "metadata": {
    "collapsed": false
   },
   "outputs": [
    {
     "name": "stdout",
     "output_type": "stream",
     "text": [
      "837799\n"
     ]
    }
   ],
   "source": [
    "def hailstoneSequence(number):\n",
    "    \n",
    "    if number == 1:\n",
    "        return 1\n",
    "    \n",
    "    if number % 2 == 0:\n",
    "        return hailstoneSequence(number/2) + 1\n",
    "    \n",
    "    return hailstoneSequence(3*number + 1) + 1\n",
    "\n",
    "\n",
    "limit = 1000000\n",
    "ways = [(x, hailstoneSequence(x)) for x in range(1, limit+1)]\n",
    "print max(ways, key=lambda x:x[1])[0]"
   ]
  },
  {
   "cell_type": "markdown",
   "metadata": {
    "collapsed": true
   },
   "source": [
    "- 리스트 내포를 활용하여 10,000,000까지 숫자와 우박수 과정 횟수를 튜플형식의 원소로 저장을한다.\n",
    "- hailstoneSequence(x)에서 number가 1이면 1을 반환 한 이유는 1일 경우 과정을 1번만 하면 되기 때문에 반환을 1로 하였다.\n",
    "- 즉 모든 과정에서 1씩 증가 시켜야 하므로 재귀함수의 결과 값의 1을 더하면 모든 과정의 누적 횟수가 나오게 된다.\n",
    "- 누적된 횟수를 튜플에 2번째 원소로 저장을 한다.\n",
    "- max함수를 이용하여 각 원소를 비교해야되는데 해당 숫자의 우박수 과정 횟수만 확인하면 되므로 max의 key값을 람다로 튜플에 두번째 원소를 비교하도록 하였습니다."
   ]
  },
  {
   "cell_type": "markdown",
   "metadata": {},
   "source": [
    "####13번 문제\n",
    "20 × 20 격자에는 모두 몇 개의 경로가 있습니까?"
   ]
  },
  {
   "cell_type": "code",
   "execution_count": 7,
   "metadata": {
    "collapsed": false
   },
   "outputs": [
    {
     "name": "stdout",
     "output_type": "stream",
     "text": [
      "137846528820\n"
     ]
    }
   ],
   "source": [
    "import math\n",
    "\n",
    "n1 = math.factorial(40)\n",
    "n2 = math.factorial(20) * math.factorial(20)\n",
    "\n",
    "print n1/n2"
   ]
  },
  {
   "cell_type": "markdown",
   "metadata": {},
   "source": [
    "- m개의 행과 n개의 열을 가진 격자의 경우의 수는 (m+n)C(m) 또는 (m+n)C(n)입니다.\n",
    "- 왼쪽 위에서 오른쪽 아래 까지 가는 경로는 오른쪽 방향으로 가는 경로가 n만큼 있고 아래쪽으로 가는 경로는 m만큼 있기 때문에 총 경로 개수는 m+n가 됩니다.\n",
    "- 이 중에서 중복을 허용하지 않고 순서를 중요하지 않은 조합을 계산하면 (m+n)!/(m!*n!)이 됩니다.\n",
    "- 이것을 활용하여 math 모듈에 factorial 함수를 활용하여 계산 하여 결과를 얻었습니다."
   ]
  },
  {
   "cell_type": "markdown",
   "metadata": {
    "collapsed": true
   },
   "source": [
    "####14번 문제\n",
    "이전 Assignment 3의 마지막 문제는 웹 URL로 지정된 웹페이지를 문자열로 가져와 모든 HTML 태그 및 CSS와 Javascript를 제외한 순수 텍스트를 얻어내고 그 안에 존재하는 단어를 추출하여 각 단어들에 대해 출현빈도를 사전형태({'world': 2, 'hello': 1, 'python': 1})로 저장하여 출력하는 것이었다. 이번에는 Assignment 3를 확장하여 다음과 같은 조건을 만족하도록 구현하시오.\n",
    "- 1) 다음 사이트에서 제시되는 영어 불용어를 참고하여 이전 숙제에서 구성했던 단어 사전에서 영어 불용어들을 모두 제거하는 코드를 추가하시오.\n",
    "    - http://egloos.zum.com/wyb330/v/3029348\n",
    "    - 영어 불용어: [ 'a', 'and', 'are', 'as', 'at', 'be', 'but', 'by', 'for', 'if', 'in', 'into', 'is', 'it', 'no', 'not', 'of', 'on', 'or', 's', 'such', 't', 'that', 'the', 'their', 'then', 'there', 'these', 'they', 'this', 'to', 'was', 'will', 'with']\n",
    "\n",
    "- 2) 각 URL로 지정된 웹페이지의 HTML 소스를 파일로 저장하시오.\n",
    "    - URL이 http://URL 이라면 파일명은 URL.html 이다. \n",
    "    - 예: URL이 http://www.cnn.com 이라면 파일명은 www.cnn.com.html 이다. \n",
    "\n",
    "- 3) 단어의 출현빈도가 담긴 사전 객체를 위 HTML 소스 파일과 동일한 폴더에 파일로 저장하시오.\n",
    "    - 파일입출력 (E-learning 13주차) 마지막에 학습한 pickle 모듈을 활용하시오. \n",
    "    - URL이 http://URL 이라면 사전 객체를 담고 있는 파일명은 URL.words.frequency 이다.\n",
    "    - 예: URL이 http://www.cnn.com 이라면 파일명은 www.cnn.com.words.frequency 이다.\n",
    "\n",
    "- 4) 최소 5개 이상의 영어 웹 사이트에 대한 HTML 소스 파일과 단어 출현빈도 파일을 저장하시오.\n",
    "    - 즉, 총 10개의 파일을 동일한 폴더에 생성하시오.\n",
    "    - [주의] 영어 웹사이트 URL로만 5개 이상\n",
    "\n",
    "- 5) 위 문제에서 저장한 모든 words.frequency 파일들을 객체로 다시 로드하여 본인이 저장하여 분석한 사이트들에서 가장 많이 출현한 단어 3개를 뽑아 제시하시오.\n",
    "    - 반드시 pickle 모듈로 저장한 5개 이상의 words.frequency를 다시 5개 이상의 사전 객체로 로드 하는 코드가 추가되어야 함\n",
    "\n"
   ]
  },
  {
   "cell_type": "code",
   "execution_count": 23,
   "metadata": {
    "collapsed": false
   },
   "outputs": [
    {
     "name": "stdout",
     "output_type": "stream",
     "text": [
      "Apple 17\n",
      "u003ca 15\n",
      "Wikipedia 14\n"
     ]
    }
   ],
   "source": [
    "import urllib2\n",
    "import os\n",
    "import string\n",
    "import pickle\n",
    "import itertools\n",
    "from bs4 import BeautifulSoup\n",
    "\n",
    "def parserURL(source):\n",
    "    soup = BeautifulSoup(source, \"html.parser\")\n",
    "    pureWords = soup.text.replace(\"//\",\"\")\n",
    "    \n",
    "    pureWords = deleteCDATA(pureWords)\n",
    "\n",
    "    scrapList = string.punctuation\n",
    "    for i in range(len(scrapList)):\n",
    "        pureWords = pureWords.replace(scrapList[i],'')\n",
    "\n",
    "    wordCount = pureWords.split()\n",
    "    \n",
    "       \n",
    "    \n",
    "    directory = {}\n",
    "    for word in wordCount:\n",
    "        if word in directory:\n",
    "            directory[word] +=1\n",
    "        else:\n",
    "            directory[word] = 1\n",
    "    \n",
    "    stopFilter = ['a','and','are','as','at','be','but','by','for', \n",
    "              'if','in','into','is','it','no','not','of','on',\n",
    "              'or','s','such','t','that','the','their','then',\n",
    "              'there','these','they','this','to','was','will',\n",
    "              'with']\n",
    "    \n",
    "    for word in directory.keys():\n",
    "        if word in stopFilter:\n",
    "            del directory[word]\n",
    "    \n",
    "    return directory\n",
    "\n",
    "def deleteCDATA(pureWords):\n",
    "    count = pureWords.count('<![CDATA[')\n",
    "    while count != 0:\n",
    "    \n",
    "        startTagCDATA = pureWords.find('<![CDATA[')\n",
    "        endTagCDATA = pureWords.find(']>')\n",
    "        pureWords = pureWords[0:startTagCDATA] + pureWords[endTagCDATA+1:]\n",
    "        count -=1\n",
    "    \n",
    "    return pureWords\n",
    "\n",
    "def deleteScrap(pureWords):\n",
    "    for i in range(pureWords.count('<')+1):\n",
    "        pureWords = pureWords.replace(pureWords[pureWords.find('<'):pureWords.find('>')+1], '')\n",
    "    return pureWords\n",
    "\n",
    "def topThreeWords(*args):\n",
    "        topThreeList = [['1',0], ['2',0], ['3',0]]\n",
    "        \n",
    "        for data in args:\n",
    "            for keyword, countValue in data.items():\n",
    "                if topThreeList[0][1] < countValue:\n",
    "                    topThreeList[1:3] = topThreeList[0:2]\n",
    "                    topThreeList[0] = [keyword, countValue]\n",
    "                elif topThreeList[1][1] < countValue:\n",
    "                    topThreeList[2:3] = topThreeList[1:2]\n",
    "                    topThreeList[1] = [keyword, countValue]\n",
    "                elif topThreeList[2][1] < countValue:\n",
    "                    topThreeList[2] = [keyword, countValue]\n",
    "        \n",
    "        for key, value in topThreeList:\n",
    "            print key, value\n",
    "if os.path.exists('url') == False:\n",
    "    os.mkdir('url')\n",
    "\n",
    "url = open(\"./url/developer.apple.com.html\",\"w\")\n",
    "url.write(urllib2.urlopen(\"https://developer.apple.com/\").read())\n",
    "url.close()\n",
    "f = open(\"./url/developer.apple.com.words.frequency\", \"w\")\n",
    "pickle.dump(parserURL(urllib2.urlopen(\"https://developer.apple.com/\").read()), f)\n",
    "f.close()\n",
    "\n",
    "url = open(\"./url/developer.android.com.html\",\"w\")\n",
    "url.write(urllib2.urlopen(\"http://developer.android.com/index.html\").read())\n",
    "url.close()\n",
    "f = open(\"./url/developer.android.com.words.frequency\", \"w\")\n",
    "pickle.dump(parserURL(urllib2.urlopen(\"http://developer.android.com/index.html\").read()), f)\n",
    "f.close()\n",
    "\n",
    "url = open(\"./url/edition.cnn.com.html\",\"w\")\n",
    "url.write(urllib2.urlopen(\"http://edition.cnn.com/\").read())\n",
    "url.close()\n",
    "f = open(\"./url/edition.cnn.com.words.frequency\", \"w\")\n",
    "pickle.dump(parserURL(urllib2.urlopen(\"http://edition.cnn.com/\").read()), f)\n",
    "f.close()\n",
    "\n",
    "url = open(\"./url/github.com.html\",\"w\")\n",
    "url.write(urllib2.urlopen(\"https://github.com/\").read())\n",
    "url.close()\n",
    "f = open(\"./url/github.com.words.frequency\", \"w\")\n",
    "pickle.dump(parserURL(urllib2.urlopen(\"http://github.com\").read()), f)\n",
    "f.close()\n",
    "\n",
    "url = open(\"./url/en.wikipedia.org.html\",\"w\")\n",
    "url.write(urllib2.urlopen(\"https://en.wikipedia.org/wiki/Main_Page\").read())\n",
    "url.close()\n",
    "f = open(\"./url/en.wikipedia.org.words.frequency\", \"w\")\n",
    "pickle.dump(parserURL(urllib2.urlopen(\"https://en.wikipedia.org/wiki/Main_Page\").read()), f)\n",
    "f.close()\n",
    "\n",
    "androidFile = open(\"./url/developer.android.com.words.frequency\", \"r\")\n",
    "androidPickle = pickle.load(androidFile)\n",
    "\n",
    "appleFile = open(\"./url/developer.apple.com.words.frequency\", \"r\")\n",
    "applePickle = pickle.load(appleFile)\n",
    "\n",
    "\n",
    "githubFile = open(\"./url/github.com.words.frequency\", \"r\")\n",
    "githubPickle = pickle.load(githubFile)\n",
    "\n",
    "\n",
    "wikiFile = open(\"./url/en.wikipedia.org.words.frequency\", \"r\")\n",
    "wikiPickle = pickle.load(wikiFile)\n",
    "\n",
    "cnnFile = open(\"./url/edition.cnn.com.words.frequency\", \"r\")\n",
    "cnnPickle = pickle.load(cnnFile)\n",
    "\n",
    "topThreeWords(androidPickle, applePickle, githubPickle, wikiPickle, cnnPickle)\n",
    "\n",
    "androidFile.close()\n",
    "appleFile.close()\n",
    "githubFile.close()\n",
    "wikiFile.close()\n",
    "cnnFile.close()"
   ]
  },
  {
   "cell_type": "markdown",
   "metadata": {
    "collapsed": false
   },
   "source": [
    "- 저번 과제에 코드를 사용했습니다.\n",
    "- 사전으로 url의 각 단어의 갯수를 파악 후 불용어에 존재하는 key를 갖는 자료가 있으면 해당 자료를 del로 삭제하였습니다.\n",
    "- 디렉토리가 존재를 하면 해당 디렉토리에 파일들을 저장을 하고 존재를 하지 않으면 디렉토리를 생성후 저장하게 만들었습니다.\n",
    "- 최종적인 결과를 pickle을 활용하여 파일에 저장을 하였습니다.\n",
    "- 저장된 파일을 출력하기 위해 pickle.dump를 활용하여 해당 내용의 데이터를 불러 왔습니다.\n",
    "- 각 자료들을 함수의 인자로 넘겨 주었고 인자는 가변인자 *args로 받았습니다.\n",
    "- 받은 인자 하나씩 반복문을 활용하여 사전의 데이터를 얻습니다.\n",
    "- 리스트와 슬라이싱 작업을 이용하여 url에서 가장 많이 나온 단어 3개를 찾아 내어 모든 인자에 대해 완료가 되면 결과값을 출력하게 하였습니다."
   ]
  },
  {
   "cell_type": "markdown",
   "metadata": {},
   "source": [
    "#고찰\n",
    "- 이번 과제는 오일러 문제가 큰 숫자에 대해 해답을 찾는 문제였기 때문에 결과값이 나오는데 오랜 시간이 걸렸습니다.\n",
    "- 또한 14번 문제를 해결하면서 불용어를 미리 제거를 못하여 단어의 갯수가 다 정해지고 불용어들을 제거 했는데 불용어 제거하는 코드의 위치만 바뀌었을 뿐인데 정상적인 결과가 안나온 것이 이상했습니다."
   ]
  }
 ],
 "metadata": {
  "kernelspec": {
   "display_name": "Python 2",
   "language": "python",
   "name": "python2"
  },
  "language_info": {
   "codemirror_mode": {
    "name": "ipython",
    "version": 2
   },
   "file_extension": ".py",
   "mimetype": "text/x-python",
   "name": "python",
   "nbconvert_exporter": "python",
   "pygments_lexer": "ipython2",
   "version": "2.7.9"
  }
 },
 "nbformat": 4,
 "nbformat_minor": 0
}
