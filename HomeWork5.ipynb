{
 "cells": [
  {
   "cell_type": "markdown",
   "metadata": {},
   "source": [
    "# HomeWork5"
   ]
  },
  {
   "cell_type": "markdown",
   "metadata": {},
   "source": [
    "####1번 문제\n",
    " - 클래스와 모듈의 공통점과 차이점에 대해 설명하시오."
   ]
  },
  {
   "cell_type": "markdown",
   "metadata": {},
   "source": [
    "- **공통점**\n",
    " - 클래스와 모듈은 둘다 자신의 이름공간을 생성을 한다.\n",
    "- **차이점**\n",
    " - 클래스는 클래스 자체의 영역 내에서 이름 공간을 생성한다.\n",
    " - 반면 모듈은 파일 단위로 이름 공간을 구성한다.\n",
    " - 이러한 차이점때문에 두 변수가 모듈을 할당 받을시 두 변수의 ID값은 같지만\n",
    " - 클래스는 ID 값이 다르다."
   ]
  },
  {
   "cell_type": "markdown",
   "metadata": {},
   "source": [
    "####2번 문제\n",
    " - 다형성에 대해 설명하고 다형성을 보여주는 자신만의 파이썬 코드 예제를 제시하시오."
   ]
  },
  {
   "cell_type": "markdown",
   "metadata": {},
   "source": [
    "- 다형성은 상속 관계 내의 다른 클래스들의 인스턴스들이 같은 멤버 함수 호출에 대해 각각 다른 반응을 하도록 하는 기능이다.\n",
    "- 장점으로는 적은 코딩으로 다양한 객체들이 유사한 작업을 수행 시킬수 있고\n",
    "- 적은 코딩을 하기 때문에 코드량이 줄어들며\n",
    "- 코드량이 줄어들어서 코드의 가독성을 높여준다."
   ]
  },
  {
   "cell_type": "code",
   "execution_count": 5,
   "metadata": {
    "collapsed": false
   },
   "outputs": [
    {
     "name": "stdout",
     "output_type": "stream",
     "text": [
      "Ha Ha\n",
      "Kkya Kkya\n",
      "...\n"
     ]
    }
   ],
   "source": [
    "# 다형성 예제\n",
    "\n",
    "class Person:\n",
    "    def LOL(self):\n",
    "        print \"...\"\n",
    "\n",
    "class Man(Person):\n",
    "    def LOL(self):\n",
    "        print \"Ha Ha\"\n",
    "        \n",
    "class Woman(Person):\n",
    "    def LOL(self):\n",
    "        print \"Kkya Kkya\"\n",
    "        \n",
    "class Ghost(Person):\n",
    "    pass\n",
    "\n",
    "for each in (Man(), Woman(), Ghost()):\n",
    "    each.LOL()"
   ]
  },
  {
   "cell_type": "markdown",
   "metadata": {},
   "source": [
    "####3번 문제\n",
    "\n",
    "다음 각 요구사항 모두를 만족시키는 Counter 클래스를 코딩하시오 (정답을 각 요구사항별로 입력할 필요 없이 3번 문제에 대해 1개의 클래스 정의 코드를 제시하면 된다.)\n",
    "\n",
    "- 요구사항 1. 생성자에 count 값과 step 값을 인자로 받을 수 있다.\n",
    " - count: Counter 인스턴스가 지니는 초기 정수 값\n",
    " - step: Counter 인스턴스의 count가 증가되는 증분 (defalt 값: 1)\n",
    "\n",
    "\n",
    "> c = Counter(10)  \n",
    "> d = Counter(10, 2) \n",
    "\n",
    "\n",
    "\n",
    "- 요구사항 2. 다음과 같이 Counter의 인스턴스를 출력을 해주는 __str__() 메소드를 Counter 클래스 내에 구현하시오.\n",
    "\n",
    "\n",
    ">  print c   \n",
    " [Count (step: 1)] 10   \n",
    ">print d  \n",
    " [Count (step: 2)] 10 \n",
    "\n",
    "\n",
    "\n",
    "- 요구사항 3. 다음과 같이 step에 주어진 증분만큼 count를 증가시키는 incr() 메소드를 Counter 클래스 내에 구현하시오.\n",
    "\n",
    "\n",
    "> c.incr()  \n",
    " d.incr()  \n",
    " print c   \n",
    " [Count (step: 1)] 11   \n",
    "print d  \n",
    " [Count (step: 2)] 12 \n",
    "\n",
    "\n",
    "\n",
    "•요구사항 4. Counter 클래스 내에 관련 메소드를 추가하여 인스턴스 객체를 직접 호출(call)할 수 있도록 하시오. 인스턴스 객체를 직접 호출했을 때에 내부적으로 incr() 메소드를 호출하는 방법으로 구현하시오.\n",
    "\n",
    "\n",
    ">c()  \n",
    "d()  \n",
    " print c  \n",
    " [Count (step: 1)] 12  \n",
    "print d  \n",
    " [Count (step: 2)] 14 \n",
    "\n",
    "\n",
    "\n",
    "- 요구사항 5. 다음과 같은 두 개의 산술 연산 (+, -)이 수행될 수 있도록 Counter 클래스 내에 관련 메소드를 추가하시오.\n",
    "\n",
    "\n",
    "> c = c + 5  \n",
    " d = d - 5  \n",
    " print c  \n",
    " [Count (step: 1)] 17  \n",
    " print d  \n",
    " [Count (step: 2)] 9 \n",
    "\n",
    "\n",
    "\n",
    "- 사항 6. 다음과 같은 관계연산 (>, <, ==)이 수행될 수 있도록 Counter 클래스 내에 관련 메소드를 추가하시오.\n",
    "\n",
    "\n",
    "> print c > 10  \n",
    " True  \n",
    "  print d > 10  \n",
    " False  \n",
    " print c < 10  \n",
    " False  \n",
    " print d < 10  \n",
    " True  \n",
    " print c == 17  \n",
    " True  \n",
    " print d != 9  \n",
    " False  \n",
    "\n"
   ]
  },
  {
   "cell_type": "code",
   "execution_count": 6,
   "metadata": {
    "collapsed": false
   },
   "outputs": [
    {
     "name": "stdout",
     "output_type": "stream",
     "text": [
      "[Count(step: 1)] 10\n",
      "[Count(step: 2)] 10\n",
      "\n",
      "[Count(step: 1)] 11\n",
      "[Count(step: 2)] 12\n",
      "\n",
      "[Count(step: 1)] 12\n",
      "[Count(step: 2)] 14\n",
      "\n",
      "[Count(step: 1)] 17\n",
      "[Count(step: 2)] 9\n",
      "\n",
      "True\n",
      "False\n",
      "False\n",
      "True\n",
      "True\n",
      "False\n"
     ]
    }
   ],
   "source": [
    "class Counter:\n",
    "    \n",
    "    def __init__(self, count, step=1):\n",
    "        self.count = count\n",
    "        self.step = step\n",
    "        \n",
    "    def __str__(self):\n",
    "        return '[Count(step: %d)] %d' % (self.step, self.count)\n",
    "    \n",
    "    def incr(self):\n",
    "        self.count += self.step\n",
    "    \n",
    "    def __call__(self):\n",
    "        self.incr()\n",
    "    \n",
    "    def __add__(self, number):\n",
    "        self.count += number\n",
    "        return self\n",
    "    \n",
    "    def __sub__(self, number):\n",
    "        self.count -= number\n",
    "        return self\n",
    "    \n",
    "    def __cmp__(self, other):\n",
    "        return self.count - other\n",
    "        \n",
    "c = Counter(10)\n",
    "d = Counter(10,2)\n",
    "\n",
    "print c\n",
    "print d\n",
    "print\n",
    "\n",
    "c.incr()\n",
    "d.incr()\n",
    "print c\n",
    "print d\n",
    "print\n",
    "\n",
    "c()\n",
    "d()\n",
    "print c\n",
    "print d\n",
    "print\n",
    "\n",
    "c = c + 5\n",
    "d = d - 5\n",
    "print c\n",
    "print d\n",
    "print\n",
    "\n",
    "print c > 10\n",
    "print d > 10\n",
    "print c < 10\n",
    "print d < 10\n",
    "print c == 17\n",
    "print d != 9"
   ]
  },
  {
   "cell_type": "markdown",
   "metadata": {
    "collapsed": true
   },
   "source": [
    " - Counter 클래스에 생성자를 초기화 하였습니다. 인자로 self와 count, step을 받는데 step을 안주는 경우 기본값을 1로 설정 했습니다.\n",
    " - \\_\\_str\\_\\_()을 재정의 하여 인스턴스를 print로 호출하는 경우 문제에서 제시하는 방식으로 나오도록 설정 했습니다.\n",
    " - incr() 호출 하는 경우 멤버 변수 count에 멤버 변수 step 만큼 증가하도록 하였습니다.\n",
    " - 인스턴스를 호출하는 경우 \\_\\_call\\_\\_()를 재정의 하여 incr()을 호출하도록 하였습니다.\n",
    " - \\_\\_add\\_\\_()와 \\_\\_sub\\_\\_()를 재정의 하여 인스턴스에 숫자를 더하는 경우 멤버 변수 count에 해당 숫자값을 각각 증가와 감산 연산을 하도록 하였습니다.\n",
    " - \\_\\_cmp\\_\\_()를 자신의 멤버변수 count를 인자 값으로 받은 숫자를 빼서 반환 되는 결과가 음수, 0, 양수인지 판단하여 결과를 얻도록 재정의 하였습니다."
   ]
  },
  {
   "cell_type": "markdown",
   "metadata": {},
   "source": [
    "####4번 문제\n",
    "\n",
    "다음은 내장 자료형 list를 서브클래싱하여 만든 MySet 클래스 정의 내용이다. 다음 클래스 정의에서 \\_\\_init\\_\\_(),  \\_\\_str()\\_\\_(),  elimicate_duplicate()의 세 개의 메소드 코드 내용을 자신이 다른 사람에게 가르친다고 생각하며 설명해보시오.\n",
    " - MySet은 집합(Set) 자료형을 정의하려는 의도하에 만들어진 클래스이다.\n"
   ]
  },
  {
   "cell_type": "code",
   "execution_count": 7,
   "metadata": {
    "collapsed": false
   },
   "outputs": [
    {
     "name": "stdout",
     "output_type": "stream",
     "text": [
      "MySet: {1 ,2 ,3}\n",
      "MySet: {2 ,3 ,4 ,5 ,6 ,7 ,8 ,9}\n"
     ]
    }
   ],
   "source": [
    "class MySet(list):\n",
    "    def __init__(self, l):\n",
    "        for e in l:\n",
    "            self.append(e)\n",
    "        MySet.eliminate_duplicate(self)\n",
    "    \n",
    "    def __str__(self):\n",
    "        result = \"MySet: {\"\n",
    "        for e in self:\n",
    "            result = result + str(e) + \" ,\"\n",
    "        result = result[0:len(result)-2] + \"}\"\n",
    "        return result\n",
    "\n",
    "    @staticmethod    \n",
    "    def eliminate_duplicate(l):\n",
    "        s = []\n",
    "        \n",
    "        for e in l:\n",
    "            if e not in s:\n",
    "                s.append(e)\n",
    "        l[:] = []\n",
    "        for e in s:\n",
    "            l.append(e)\n",
    "\n",
    "    \n",
    "if __name__ == \"__main__\":\n",
    "    s = MySet([1, 2, 2, 3])\n",
    "    print s\n",
    "    t = MySet([2, 3, 4, 5, 6, 7, 8, 8, 8, 8, 8, 9])\n",
    "    print t"
   ]
  },
  {
   "cell_type": "markdown",
   "metadata": {},
   "source": [
    "- MySet 클래스는 list라는 파이썬에서 제공하는 클래스를 상속을 받습니다.\n",
    "- 이 상태에서 's = MySet([1, 2, 2, 3])' 호출을 하면 생성자를 통해 MySet을 생성하는데 여기서 MySet에 리스트를 넣게 되면 부모인 list 클래스의 생성자에서 이 리스트 값을 우선적으로 생성을 합니다.\n",
    "- 이렇게 되는 이유를 쉽게 표현을 하면 여러분이 DNA는 부모님의 DNA로 이루어져 있습니다.\n",
    "- 그렇기 때문에 여러분의 DNA가 생성이 될려면 부모님의 DNA가 생성이 되어 있어야합니다.\n",
    "- 이처럼 클래스도 역시 상속을 받게 되어 애당 클래스를 호출을 하면 부모를 생성한 뒤 자식을 생성하게 됩니다.\n",
    "- 그렇기 때문에 \\_\\_init\\_\\_()에서 self.append(l)이 가능 한 이유는 MySet이라는 자식이 list라는 부모의 DNA를 물려 받았기 때문에 가능해지는 것입니다. 여기서 l은 인스턴스를 만들때 넣은 리스트 값입니다.\n",
    "- 처음 인스턴스가 생성이 되면 \\_\\_init\\_\\_()이 호출하게 되고 for문을 통해 self.append()가 가능한 이유는 MySet 클래스의 부모인 list 클래스의 기능과 변수를 물려받게 되어 list 클래스의 기능도 self를 통해 사용할수 있게 됩니다.\n",
    "- 반복문을 마치고 eliminate_duplicate()을 호출하게 되는데 여기서 eliminate_duplicate()함수 정의 위에 보면 @staticmethod라고 작성이 되었습니다.\n",
    "- 이 문장은 정적 함수라는 뜻인데 이렇게 정의를 해놓으면 해당 메소드는 MySet의 인스턴스를 여러개 생성해도 메모리상에 오직 하나의 메소드만이 할당이 되어 있습니다.\n",
    "- 그렇기 때문에 s와 t는 eliminate_duplicate()가 저장되어 있는 같은 메모리 번지를 가르키고 있는 상태가 됩니다.\n",
    "- 이런식으로 작성을 할 때는 클래스 내부에서 작업을 수행해야 될때 쓰는 것이 좋습니다.\n",
    "- 이 메서드를 분석하면 처음에 생성자에서 반복문이 끝나고 인스턴스를 인자로 넘겨줍니다.\n",
    "- 이 안에 메서드 s는 리스트인데 인자 값 l에서 원소를 하나씩 꺼내서 e에 넣고 반복문에서 e가 현재 s에 존재하지 않으면 e에 있는 값을 s에 추가합니다.\n",
    "- 해당 작업이 끝나고 받은 인스턴스 l을 빈 리스트로 초기화 해준 뒤 다시 인스턴스 l에게 s값을 하나씩 추가하여 숫자 중복이 없는 리스트로 만들어 줍니다.\n",
    "- \\_\\_str()\\_\\_는 print나 str() 내장함수 호출에 대응 되는 메소드를 재정의 하는 것입니다.\n",
    "- 이 메소드는 result에 초기 값을 넣은뒤 반복문으로 리스트의 원소를 e에 하나씩 넘겨주면서 result에 리스트에 있는 원소가 무엇이이 문자열 식으로 넣어 주고 그뒤 맨마지막에 ' ,' 이분을 지우기 위해 슬라이싱 연선으로 하여 제거후 다시 넣어 줍니다.\n",
    "- 작업이 끝나면 result를 반환을 합니다."
   ]
  },
  {
   "cell_type": "markdown",
   "metadata": {
    "collapsed": false
   },
   "source": [
    "####5번 문제\n",
    "\n",
    "4번 문제에 정의된 MySet 클래스에 메소드를 추가하여 다음 각 요구사항 모두를 만족시키는 코딩을 제시하시오\n",
    "- 정답을 각 요구사항별로 입력할 필요 없이 요구사항 3개 전체에 대해 1개의 MySet 클래스 정의 코드를 제시하고 주석등으로 해당 코드를 설명한다.\n",
    "\n",
    "- 요구사항 1. | 연산으로 두 집합의 합집합을 반환한다.\n",
    "\n",
    "\n",
    "> u = s | t  \n",
    "> print u  \n",
    "> MySet: {1, 2, 3, 4, 5, 6, 7, 8, 9} \n",
    "\n",
    "\n",
    "\n",
    "- 요구사항 2. & 연산으로 두 집합의 교집합을 반환한다.\n",
    "\n",
    "\n",
    "> u = s & t  \n",
    "> print u  \n",
    " MySet: {2, 3} \n",
    "\n",
    "\n",
    "\n",
    "•요구사항 3. - 연산으로 두 집합의 차집합을 반환한다.\n",
    "\n",
    "\n",
    "> s = MySet([1, 2, 3])  \n",
    " > t = MySet([3, 4, 5])  \n",
    " > u = s - t  \n",
    " > print u  \n",
    " MySet: {1} \n",
    "\n"
   ]
  },
  {
   "cell_type": "code",
   "execution_count": 8,
   "metadata": {
    "collapsed": false
   },
   "outputs": [
    {
     "name": "stdout",
     "output_type": "stream",
     "text": [
      "MySet: {1 ,2 ,3}\n",
      "MySet: {2 ,3 ,4 ,5 ,6 ,7 ,8 ,9}\n",
      "MySet: {1 ,2 ,3}\n",
      "MySet: {1 ,2 ,3 ,4 ,5 ,6 ,7 ,8 ,9}\n",
      "MySet: {2 ,3}\n",
      "MySet: {1}\n"
     ]
    }
   ],
   "source": [
    "class MySet(list):\n",
    "    def __init__(self, l):\n",
    "        for e in l:\n",
    "            self.append(e)\n",
    "        MySet.eliminate_duplicate(self)\n",
    "    \n",
    "    def __str__(self):\n",
    "        result = \"MySet: {\"\n",
    "        for e in self:\n",
    "            result = result + str(e) + \" ,\"\n",
    "        result = result[0:len(result)-2] + \"}\"\n",
    "        return result\n",
    "\n",
    "    @staticmethod    \n",
    "    def eliminate_duplicate(l):\n",
    "        s = []\n",
    "        \n",
    "        for e in l:\n",
    "            if e not in s:\n",
    "                s.append(e)\n",
    "        l[:] = []\n",
    "        for e in s:\n",
    "            l.append(e)\n",
    "    \n",
    "    \"\"\" \n",
    "    '|'에 대한 연산자 오버라이딩을 사용하기 위해 __or__()를 사용했으며\n",
    "    인자값으로 자신의 인스턴스와 다른 인스턴스 클래스를 넣었다.\n",
    "    \"\"\"\n",
    "    def __or__(self, other):  \n",
    "        \n",
    "        l = MySet([]) # l에 MySet 클래스를 인스턴스로 할당 한다.\n",
    "        \n",
    "        # 자신의 인스턴스와 다른 인스턴스 객체를 반복문원 원소로 사용한다.\n",
    "        for instance in self, other: \n",
    "            for e in instance: # MySet의 인스턴스객체 에 있는 리스트 원소를 하나씩 반복한다.\n",
    "\n",
    "                if e not in l: # 리스트 l에 해당 원소가 없으면 추가한다.\n",
    "                    l.append(e);\n",
    "        \n",
    "    \n",
    "        \n",
    "        l.sort()# 값을 정렬 한다.\n",
    "        \n",
    "        return l # 인스턴스를 반환한다.\n",
    "    \n",
    "    \"\"\" \n",
    "    '&'에 대한 연산자 오버라이딩을 사용하기 위해 __and__()를 사용했으며\n",
    "    인자값으로 자신의 인스턴스와 다른 인스턴스 클래스를 넣었다.\n",
    "    \"\"\"\n",
    "    def __and__(self, other):\n",
    "        \n",
    "        l = MySet([]) # l에 MySet 클래스를 인스턴스로 할당 한다.\n",
    "        \n",
    "        for e in other: # 다른 인스턴스 객체를 원소를 하나씩 꺼내서 반복한다.\n",
    "                \n",
    "            if e in self: # 원소 e가 자신의 인스턴스에 존재한다면\n",
    "                l.append(e);# 인스턴스 객체 l에 원소 e값은 추가한다.\n",
    "                    \n",
    "        return l # 인스턴스 객체 l을 반환한다.\n",
    "    \n",
    "    \n",
    "    \"\"\" \n",
    "    '-'에 대한 연산자 오버라이딩을 사용하기 위해 __sub__()를 사용했으며\n",
    "    인자값으로 자신의 인스턴스와 다른 인스턴스 클래스를 넣었다.\n",
    "    \"\"\"\n",
    "    def __sub__(self, other):\n",
    "        \n",
    "        l = MySet([]) # l에 MySet 클래스를 인스턴스로 할당 한다.\n",
    "        \n",
    "        # 자신의 인스턴스와 다른 인스턴스 객체를 반복문원 원소로 사용한다.\n",
    "        for instance in self, other: \n",
    "            for e in instance: # MySet의 인스턴스객체 에 있는 리스트 원소를 하나씩 반복한다.\n",
    "                \n",
    "                # e 값이 l에 존재하지 않고 다른 인스턴스 객체에 존재 하지 않느 ㄴ겨우\n",
    "                if (e not in l) and (e not in other):\n",
    "                    l.append(e)# l에 원소 e 값을 추가한다.\n",
    "            \n",
    "        return l # 인스턴스 객체 l 값을 반환한다.\n",
    "if __name__ == \"__main__\":\n",
    "    s = MySet([1, 2, 2, 3])\n",
    "    print s\n",
    "    t = MySet([2, 3, 4, 5, 6, 7, 8, 8, 8, 8, 8, 9])\n",
    "    print t\n",
    "    u = s|t\n",
    "    print s\n",
    "    print u\n",
    "    u = s & t\n",
    "    print u\n",
    "    u = s - t\n",
    "    print u"
   ]
  },
  {
   "cell_type": "markdown",
   "metadata": {},
   "source": [
    "####6번 문제\n",
    "\n",
    "5번 문제에서 정의한 MySet 클래스에 대해 다음 예제를 수행하면 오류없이 올바르게 동작하는 것을 확인할 수 있다. 다음 예제 내에 있는 len(), bool() 내장함수와 in 키워드 사용 예제가 별다른 메소드 정의를 하지 않았는 데도 올바르게 수행되는 이유를 설명하시오.\n"
   ]
  },
  {
   "cell_type": "code",
   "execution_count": 9,
   "metadata": {
    "collapsed": false
   },
   "outputs": [
    {
     "name": "stdout",
     "output_type": "stream",
     "text": [
      "6\n",
      "True\n",
      "True\n"
     ]
    }
   ],
   "source": [
    "s = MySet([1, 2, 3, 4, 5, 6])\n",
    "\n",
    "print len(s)\n",
    "print bool(s)\n",
    "print 2 in s"
   ]
  },
  {
   "cell_type": "markdown",
   "metadata": {},
   "source": [
    "- MySet 클래스는 list라는 클래스를 상속 받고 있다.\n",
    "- 이렇게 선언이 되었을 경우 list 클래스가 가지고 있는 모든 내용을 상속을 받는다.\n",
    "- 그렇기 때문에 내장 함수 len() 호출하게 되면 list 클래스에 있는 연산자 재정의가 된 \\_\\_len\\_\\_()가 있으므로 해당 인스턴스는 list에 있는 \\_\\_len\\_\\_() 호출하게 된다.\n",
    "- 내장 함수 bool()의 비교자는 x.__cmp__(y)로 정의가 되어 있다. 그렇기 때문에 MySet을 놓게 되면 x에는 MySet이 들어 가고 y에는 기본값 None으로 설정이 되어 cmp로 비교를 한다.\n",
    "- in 키워드 같은 경우 MySet에 부모가 list 클래스 이므로 list에 포함이 되어있느지 비교가 가능하다"
   ]
  },
  {
   "cell_type": "markdown",
   "metadata": {},
   "source": [
    "#### 7번 문제\n",
    " - 프로젝트 오일러 문제 16\n",
    " - 2^1000의 각 자리수를 모두 더하면 얼마입니까?"
   ]
  },
  {
   "cell_type": "code",
   "execution_count": 10,
   "metadata": {
    "collapsed": false
   },
   "outputs": [
    {
     "name": "stdout",
     "output_type": "stream",
     "text": [
      "1366\n"
     ]
    }
   ],
   "source": [
    "print sum([int(x) for x in str(pow(2,1000))])"
   ]
  },
  {
   "cell_type": "markdown",
   "metadata": {},
   "source": [
    "- 리스트 내포 방식으로 2^1000을 문자열로 바꿔 각 문자를 x 에 넘겨 int로 바꾸어 저장을 하였습니다.\n",
    "- 해당 리스트를 내장 함수 sum을 사용하여 리스트 원소들을 모두 더하였습니다.\n"
   ]
  },
  {
   "cell_type": "markdown",
   "metadata": {},
   "source": [
    "#### 8번 문제\n",
    " - 프로젝트 오일러 문제 17\n",
    " - 1부터 1,000까지 영어로 썼을 때는 모두 몇 개의 글자를 사용해야 할까요?"
   ]
  },
  {
   "cell_type": "code",
   "execution_count": 93,
   "metadata": {
    "collapsed": false,
    "slideshow": {
     "slide_type": "-"
    }
   },
   "outputs": [
    {
     "name": "stdout",
     "output_type": "stream",
     "text": [
      "21124\n"
     ]
    }
   ],
   "source": [
    "def wordLegth(n):\n",
    "    s = \"\" \n",
    "    \n",
    "    if n == 1000: \n",
    "        s += words1[n / 1000] + words1000 \n",
    "        n = n % 1000 \n",
    "        \n",
    "    if n > 99: \n",
    "        s += words1[n / 100] + words100 \n",
    "        n = n % 100 \n",
    "        if n > 0: \n",
    "            s += \"and\" \n",
    "            \n",
    "    if n >= 20: \n",
    "        s += words20[n / 10] \n",
    "        n = n % 10 \n",
    "        \n",
    "    s += words1[n] \n",
    "    return s \n",
    "\n",
    "words1000 = 'thousand' \n",
    "words100 = 'hundred' \n",
    "words20 = ('', '', 'twenty', 'thirty', 'forty', 'fifty', 'sixty', \n",
    "            'seventy', 'eighty', 'ninety') \n",
    "words1 = ('', 'one', 'two', 'three', 'four', 'five', 'six', 'seven', 'eight', \n",
    "           'nine', 'ten', 'eleven', 'twelve', 'thirteen', 'fourteen', 'fifteen', \n",
    "           'sixteen', 'seventeen', 'eighteen', 'nineteen')\n",
    "\n",
    "print sum([len(wordLegth(num)) for num in range(1, 1001)])"
   ]
  },
  {
   "cell_type": "markdown",
   "metadata": {},
   "source": [
    " - 천, 백 , 20이상의 10단위 그리고 1부터 19까지의 영어를 튜플형식으로 저장하였습니다.\n",
    " - 내장 함수 sum을 이용하여 리스트 내포 방시긍로 만든 리스트를 전부 더하도록 만들었습니다.\n",
    " - 리스트 내포 방식에서 원소들을 1부터 1000까지 각각의 숫자의 영어 표기법의 길이를 가지게 만들었습니다."
   ]
  },
  {
   "cell_type": "markdown",
   "metadata": {},
   "source": [
    "#### 9번 문제\n",
    " - 프로젝트 오일러 문제 18\n",
    " - 다음 삼각형에서 합이 최대가 되는 경로를 찾아서 그 합을 구하세요. \n",
    ">13  \n",
    "14 75  \n",
    "15 95 64  \n",
    "16 17 47 82  \n",
    "17 18 35 87 10  \n",
    "18 20 04 82 47 65  \n",
    "19 19 01 23 75 03 34  \n",
    "20 88 02 77 73 07 63 67  \n",
    "21 99 65 04 28 06 16 70 92  \n",
    "22 41 41 26 56 83 40 80 70 33  \n",
    "23 41 48 72 33 47 32 37 16 94 29  \n",
    "24 53 71 44 65 25 43 91 52 97 51 14  \n",
    "25 70 11 33 28 77 73 17 78 39 68 17 57  \n",
    "26 91 71 52 38 17 14 91 43 58 50 27 29 48  \n",
    "27 63 66 04 68 89 53 67 30 73 16 69 87 40 31  \n",
    "28 04 62 98 27 23 09 70 98 73 93 38 53 60 04 23  \n",
    "\n"
   ]
  },
  {
   "cell_type": "code",
   "execution_count": 12,
   "metadata": {
    "collapsed": false
   },
   "outputs": [
    {
     "name": "stdout",
     "output_type": "stream",
     "text": [
      "[1074]\n"
     ]
    }
   ],
   "source": [
    "def make_line(line):\n",
    "    return [int(x) for x in line.split(' ') if x]\n",
    "\n",
    "m = \"\"\"75 \n",
    "95 64 \n",
    "17 47 82 \n",
    "18 35 87 10 \n",
    "20 04 82 47 65 \n",
    "19 01 23 75 03 34 \n",
    "88 02 77 73 07 63 67 \n",
    "99 65 04 28 06 16 70 92 \n",
    "41 41 26 56 83 40 80 70 33 \n",
    "41 48 72 33 47 32 37 16 94 29 \n",
    "53 71 44 65 25 43 91 52 97 51 14 \n",
    "70 11 33 28 77 73 17 78 39 68 17 57 \n",
    "91 71 52 38 17 14 91 43 58 50 27 29 48 \n",
    "63 66 04 68 89 53 67 30 73 16 69 87 40 31 \n",
    "04 62 98 27 23 09 70 98 73 93 38 53 60 04 23 \"\"\" \n",
    "\n",
    "lines = m.split('\\n')\n",
    "num = [make_line(line) for line in lines]\n",
    "length = len(num)\n",
    "\n",
    "f = num[-1]\n",
    "for i in range(length-2, -1, -1):\n",
    "    zip1 = map(lambda x:x[0] + x[1], zip(f, num[i]))\n",
    "    zip2 = map(lambda x:x[0] + x[1], zip(f[1:], num[i]))\n",
    "    f = list(map(max, zip(zip1, zip2)))\n",
    "    \n",
    "\n",
    "print f"
   ]
  },
  {
   "cell_type": "markdown",
   "metadata": {},
   "source": [
    "- 우선 개행문자를 split으로 제거합니다.\n",
    "- 리스트 내포방식으로 make_line을 호출하여 한줄당 리스트에 원소로 만들었습니다.\n",
    "- 리스트의 길이를 저장하고 f는 리스트 num에 맨 마지막 원소 리스트를 초기 값으로 설정합니다.\n",
    "- 맨 아래부터 검색하기 위해 반복문의 범위를 길이보다 2개 작개 시작하여 0이 될때까지 1씩 감소 시켰습니다.\n",
    "- 내장함수 zip을 사용하여 map에서 lambda로 처리할때 짝이 안 맞는 원소는 무시하도록 하였습니다.\n",
    "- f를 리스트로 만드는데 zip1과 zip2의 원소를 하나씩 비교하여 큰 원소들만 f에 원소로 저장하게 하였습니다.\n",
    "\n",
    "- 반복문이 끝나면 문제에서 주어진 값을 출력합니다.\n"
   ]
  },
  {
   "cell_type": "markdown",
   "metadata": {},
   "source": [
    "#### 10번 문제\n",
    " - 프로젝트 오일러 문제 19\n",
    " - 20세기 (1901년 1월 1일 ~ 2000년 12월 31일) 에서, 매월 1일이 일요일인 경우는 총 몇 번입니까?"
   ]
  },
  {
   "cell_type": "code",
   "execution_count": 13,
   "metadata": {
    "collapsed": false
   },
   "outputs": [
    {
     "name": "stdout",
     "output_type": "stream",
     "text": [
      "171\n"
     ]
    }
   ],
   "source": [
    "import datetime\n",
    "\n",
    "result = 0\n",
    "time = datetime.date(1901, 1, 1)\n",
    "while time.year <= 2000:\n",
    "    \n",
    "    if time.day == 1 and time.weekday() == 6:\n",
    "        result += 1\n",
    "        \n",
    "    time = time + datetime.timedelta(days=1)\n",
    "\n",
    "print result"
   ]
  },
  {
   "cell_type": "markdown",
   "metadata": {},
   "source": [
    "- datetime이라는 모듈을 활용하여 작성했습니다.\n",
    "- datetime에 date라는 클래스에 생성자에 1901년 1월 1일로 초기치로 설정합니다.\n",
    "- while문으로 time.year가 2000이하 일때까지 반복하게 조건을 설정 했습니다.\n",
    "- time 인스턴스에 변수 day가 1이고 그 날짜가 일요일(6)이면 result를 1증가 시킵니다.\n",
    "- 그렇지 않거나 위 작업이 끝나면 time을 timedelta 클래스에 생성자를 days 값을 1로 설정하여 time을 다음날로 이동하게 합니다."
   ]
  },
  {
   "cell_type": "markdown",
   "metadata": {},
   "source": [
    "#### 11번 문제\n",
    " 프로젝트 오일러 문제 20\n",
    " - 100!의 자리수를 모두 더하면 얼마 입니까?"
   ]
  },
  {
   "cell_type": "code",
   "execution_count": 14,
   "metadata": {
    "collapsed": false
   },
   "outputs": [
    {
     "name": "stdout",
     "output_type": "stream",
     "text": [
      "648\n"
     ]
    }
   ],
   "source": [
    "import math\n",
    "\n",
    "number_string = str(math.factorial(100))\n",
    "\n",
    "        \n",
    "print sum([int(x) for x in number_string])"
   ]
  },
  {
   "cell_type": "markdown",
   "metadata": {},
   "source": [
    "- math 모듈로 팩토리얼 함수를 사용할수 있게 import 하였습니다.\n",
    "- factorial함수로 100!을 계산하여 얻은 결과 값을 문자열로 바꾸어 저장합니다.\n",
    "- 리스트 내보 방식으로 모든 문자를 int형으로 바꾸어 저장합니다.\n",
    "- 저장된 리스트를 sum을 활용하여 모두 더한후 출력합니다."
   ]
  },
  {
   "cell_type": "markdown",
   "metadata": {},
   "source": [
    "#### 12번 문제\n",
    " 프로젝트 오일러 문제 21\n",
    " - 10000 이하의 친화수들을 모두 찾아서 그 합을 구하세요."
   ]
  },
  {
   "cell_type": "code",
   "execution_count": 15,
   "metadata": {
    "collapsed": false
   },
   "outputs": [
    {
     "name": "stdout",
     "output_type": "stream",
     "text": [
      "31626\n"
     ]
    }
   ],
   "source": [
    "import math\n",
    "\n",
    "def sum_of_divisor(number):\n",
    "    \n",
    "    result = 0\n",
    "        \n",
    "    for x in xrange(1,number+1):\n",
    "        if number%x == 0:\n",
    "            result += x\n",
    "    return result\n",
    "            \n",
    "    \n",
    "\n",
    "\n",
    "def find_friend(number):\n",
    "        x = sum_of_divisor(number) - number\n",
    "        if sum_of_divisor(x) - x == number:\n",
    "            return x\n",
    "        return None\n",
    "\n",
    "\n",
    "s = set()\n",
    "\n",
    "for i in xrange(1, 10001):\n",
    "    x = find_friend(i)\n",
    "    if (x != None) and (x != i) and (x <= 10000):\n",
    "        s.add(x)\n",
    "        s.add(i)\n",
    "        \n",
    "print sum(s)"
   ]
  },
  {
   "cell_type": "code",
   "execution_count": 16,
   "metadata": {
    "collapsed": false
   },
   "outputs": [
    {
     "name": "stdout",
     "output_type": "stream",
     "text": [
      "set([])\n"
     ]
    }
   ],
   "source": [
    "s = set()\n",
    "\n",
    "print s"
   ]
  },
  {
   "cell_type": "markdown",
   "metadata": {},
   "source": [
    "####13번 문제\n",
    "\n",
    "이전 Assignment 3 (Assignment 4가 아님)의 마지막 문제는 웹 URL로 지정된 웹페이지를 문자열로 가져와 모든 HTML 태그 및 CSS와 Javascript를 제외한 순수 텍스트를 얻어내고 그 안에 존재하는 단어를 추출하여 각 단어들에 대해 출현빈도를 사전형태({'world': 2, 'hello': 1, 'python': 1})로 저장하여 출력하는 것이었다. 이번에는 Assignment 3을 다시 확장/변형하여 다음과 같은 조건을 만족하도록 구현하시오.\n",
    "- 1) 새로운 클래스 WebWordsFrequency를 정의하시오.◾이전 Assignment 4에서 고려했던 pickle 모듈등은 전혀 고려하지 마시오.\n",
    "    - 즉, 하드시스크에 저장하고 다시 로드하는 기능은 본 숙제에는 배제하시오.\n",
    "    - Assignment 4에서 고려했던 영어 불용어 처리는 적용하시오.◦영어 불용어: [ 'a', 'and', 'are', 'as', 'at', 'be', 'but', 'by', 'for', 'if', 'in', 'into', 'is', 'it', 'no', 'not', 'of', 'on', 'or', 's', 'such', 't', 'that', 'the', 'their', 'then', 'there', 'these', 'they', 'this', 'to', 'was', 'will', 'with']\n",
    "\n",
    "    - Assignment 4에서 처럼 국문 사이트가 아닌 영어 사이트만을 고려하여 아래 사항을 코딩하시오.\n",
    "\n",
    "- 2) 생성자에 URL을 0개에서 임의의 개수를 넣을 수 있도록 생성자 인수를 가변인수로 정의하여 각각의 URL을 리스트 자료형에 유지하시오.\n",
    "\n",
    "> w1 = WebWordsFrequency('http://www.cnn.com', 'http://www.times.com', 'https://www.amazon.com')  \n",
    "> w2 = WebWordsFrequency('http://www.cnn.com', 'http://www.times.com')  \n",
    "> w3 = WebWordsFrequency() \n",
    "\n",
    "\n",
    "\n",
    "- 3) addUrl() 메소드를 구현하여 인스턴스를 생성한 이후에도 URL을 추가할 수 있도록 한다.\n",
    "    - 반드시 1개의 URL을 추가하도록 구현 (즉, 동시에 여러 개의 URL을 추가하는 것은 배제)\n",
    "\n",
    "\n",
    ">w1.addUrl('https://github.com')  \n",
    "> w3.addUrl('http://stackoverflow.com')\n",
    "\n",
    "\n",
    "\n",
    "- 4) removeUrl() 메소드를 구현하여 URL을 삭제할 수 있도록 한다.\n",
    "    - 반드시 1개의 URL을 삭제하도록 구현 (즉, 동시에 여러 개의 URL을 삭제하는 것은 배제) \n",
    "\n",
    "\n",
    "> w1.removeUrl('http://www.cnn.com')\n",
    "> w2.removeUrl('http://stackoverflow.com')\n",
    "\n",
    "\n",
    "- 5) listUrls() 메소드를 구현하여 현재 등록된 모든 URL을 출력하는 기능을 추가\n",
    "\n",
    "> w1.listUrls()  \n",
    "http://www.times.com  \n",
    "https://www.amazon.com  \n",
    "https://github.com  \n",
    "\n",
    "\n",
    "\n",
    "- 6) getWordsFrequency() 메소드를 구현하여 각 URL의 웹페이지들을 종합적으로 분석한 단어 출현 빈도 사전을 반환하시오.\n",
    "    - 만약 등록된 URL이 없다면 공백 사전을 반환 \n",
    "\n",
    "\n",
    "> w1.getWordsFrequency()  \n",
    " {'hello': 8, 'site': 12, 'world': 2, 'science': 11, 'program': 1, 'python': 1}\n",
    "\n",
    "\n",
    "- 7) getMaxFreqencyWords() 메소드를 구현하여 각 URL의 웹페이지들을 종합적으로 분석한 단어 출현 빈도 사전에서 가장 많이 출현한 단어 리스트를 반환하시오.\n",
    "\n",
    "\n",
    "> w1.getMaxFreqencyWords()  \n",
    "> site \n",
    " \n",
    " - 최다 출현 단어의 빈도수가 동일한 경우 모두 출력해주어야 함 \n",
    "\n",
    "\n",
    ">w2.getMaxFreqencyWords()  \n",
    "> site  \n",
    "> science\n",
    " \n",
    "\n",
    "- 만약 등록된 URL이 없다면 None을 반환\n",
    "\n"
   ]
  },
  {
   "cell_type": "code",
   "execution_count": 88,
   "metadata": {
    "collapsed": false
   },
   "outputs": [
    {
     "name": "stdout",
     "output_type": "stream",
     "text": [
      "http://www.cnn.com\n",
      "http://www.times.com\n",
      "https://www.amazon.com\n",
      "\n",
      "http://www.cnn.com\n",
      "http://www.times.com\n",
      "\n",
      "http://github.com\n",
      "\n",
      "http://www.cnn.com\n",
      "https://www.amazon.com\n",
      "\n",
      "{'code': 3, 'feedback': 1, 'Enterprise': 2, 'Desktop': 1, 'session': 2, 'Frictionless': 1, 'X': 1, 'Public': 1, 'issues': 1, 'help': 1, 'perfect': 1, 'We': 1, 'ease': 1, 'send': 1, 'desktop': 1, 'better': 1, 'window': 2, 'systems': 1, 'policy': 1, 'team': 1, 'By': 1, 'Training': 1, 'get': 1, 'Please': 1, '2015': 1, 'lowercase': 1, 'community': 1, 'report': 1, 'world': 1, 'servers': 1, 'Where': 2, 'emails': 1, 'projects': 4, 'Shop': 1, 'Help': 1, 'Simple': 1, 'always': 1, 'Powerful': 2, 'refresh': 2, 'teams': 2, 'try': 1, 'API': 1, 'source': 2, 'Skip': 1, 'you\\xe2\\x80\\x99ll': 1, 'went': 1, 'OS': 1, 'Find': 1, 'people': 1, 'Share': 1, 'Create': 1, 'About': 1, 'related': 1, '\\xc2\\xa9': 1, 'hosted': 1, 'our': 1, 'out': 2, 'project': 2, 'tools': 2, 'review': 1, 'content': 1, 'Explore': 1, 'future': 1, 'numeral': 1, 'across': 1, 'Something': 1, 'terms': 1, 'repository': 1, 'This': 1, 'Work': 1, 'communicate': 1, 'free': 1, 'management': 1, 'operating': 1, 'interface': 1, 'Security': 1, 'about': 1, 'Reload': 2, 'starts': 1, 'Sign': 4, 'Contact': 1, '7mo': 1, 'commit': 1, 'changes': 2, 'software': 4, 'comment': 1, 'repositories': 1, 'Use': 1, 'love': 1, 'features': 1, 'Privacy': 1, 'communication': 1, 'Review': 1, 'powerful': 1, 'integrations': 1, 'private': 1, 'one': 2, 'accounts': 1, 'another': 2, 'open': 2, 'your': 7, 'millions': 1, 'Status': 1, 'use': 1, 'GitHub': 10, 'from': 2, 'service': 1, 'privacy': 1, 'together': 1, 'deploy\\xe2\\x80\\x94all': 1, 'seamless': 1, 'least': 1, 'start': 1, 'way': 1, 'letter': 1, 'more': 4, 'clicking': 1, 'collaborators': 1, 'integrate': 1, 'craft': 1, 'Learn': 1, 'account': 1, 'Features': 1, 'World\\xe2\\x80\\x99s': 1, 'up': 3, 'signed': 2, '\\xc2\\xb7': 1, 'Pricing': 2, 'agree': 1, 'Inc': 1, 'seven': 1, 'request': 1, 'contribute': 2, 'Blog': 1, 'tab': 2, 'You': 2, 'native': 1, 'Do': 1, 'Terms': 1, 'built': 2, 'make': 2, 'occasionally': 1, 'build': 1, 'largest': 1, 'you': 3, 'Why': 1, 'development': 2, 'Great': 1, 'plans': 1, 'collaborative': 1, 'again': 1, 'Windows': 1, 'collaboration': 3, 'applications': 1, 'wrong': 1, 'plan': 1, 'characters': 1, 'branches': 1, 'lines': 1, 'Discover': 1, 'Private': 1, 'Want': 1, 'organization': 1, 'discussion': 1}\n",
      "\n",
      "['GitHub']\n",
      "\n",
      "\n",
      "{}\n",
      "\n",
      "None\n"
     ]
    }
   ],
   "source": [
    "# -*- coding: utf8 -*-\n",
    "\n",
    "from bs4 import BeautifulSoup\n",
    "import urllib2\n",
    "import string\n",
    "\n",
    "class WebWordsFrequency:\n",
    "    def __init__(self, *arg):\n",
    "        self.directory = {}\n",
    "        self.l = []\n",
    "        for url in arg:\n",
    "            if url not in self.l:\n",
    "                self.l.append(url)\n",
    "                \n",
    "    def addURL(self, url):\n",
    "        self.directory = {}\n",
    "        if url not in self.l:\n",
    "            self.l.append(url)\n",
    "                \n",
    "    def removeURL(self, url):\n",
    "        self.directory = {}\n",
    "        if url in self.l:\n",
    "            self.l.remove(url)\n",
    "        \n",
    "    def listURL(self):\n",
    "        for url in self.l:\n",
    "            print url\n",
    "            \n",
    "    def getWordsFrequency(self):\n",
    "        for url in self.l:\n",
    "            WebWordsFrequency.parserURL(self.directory, urllib2.urlopen(url).read())\n",
    "            \n",
    "        return self.directory\n",
    "        \n",
    "    def getMaxFreqencyWords(self):\n",
    "        l = [None]\n",
    "        maxValue = 0\n",
    "        index = 0\n",
    "        \n",
    "        if self.l == []:\n",
    "            return None\n",
    "        \n",
    "        for key, value in self.directory.items():\n",
    "           \n",
    "            if value >= maxValue:\n",
    "\n",
    "                if value > maxValue:\n",
    "                    while index >= 0:\n",
    "                        l.remove(l[index])   \n",
    "                        index -= 1\n",
    "                    maxValue = value\n",
    "                    \n",
    "                l.append(key)\n",
    "                index += 1\n",
    "        \n",
    "        return l\n",
    "                \n",
    "    @staticmethod\n",
    "    def parserURL(directory, source):\n",
    "        soup = BeautifulSoup(source, \"html.parser\")\n",
    "        pureWords = soup.text.replace(\"//\",\"\")\n",
    "\n",
    "        pureWords = WebWordsFrequency.deleteCDATA(pureWords)\n",
    "\n",
    "        scrapList = string.punctuation\n",
    "        for i in range(len(scrapList)):\n",
    "            pureWords = pureWords.replace(scrapList[i],'')\n",
    "\n",
    "        wordCount = pureWords.split()\n",
    "\n",
    "        \n",
    "        for word in wordCount:\n",
    "            if word in directory:\n",
    "                directory[str(word.encode('utf-8'))] +=1\n",
    "            else:\n",
    "                directory[str(word.encode('utf-8'))] = 1\n",
    "\n",
    "        stopFilter = ['a','and','are','as','at','be','but','by','for', \n",
    "                  'if','in','into','is','it','no','not','of','on',\n",
    "                  'or','s','such','t','that','the','their','then',\n",
    "                  'there','these','they','this','to','was','will',\n",
    "                  'with']\n",
    "\n",
    "        for word in directory.keys():\n",
    "            if word in stopFilter:\n",
    "                del directory[word]\n",
    "        \n",
    "        \n",
    "    @staticmethod\n",
    "    def deleteCDATA(pureWords):\n",
    "        count = pureWords.count('<![CDATA[')\n",
    "        while count != 0:\n",
    "\n",
    "            startTagCDATA = pureWords.find('<![CDATA[')\n",
    "            endTagCDATA = pureWords.find(']>')\n",
    "            pureWords = pureWords[0:startTagCDATA] + pureWords[endTagCDATA+1:]\n",
    "            count -=1\n",
    "\n",
    "        return pureWords\n",
    "\n",
    "w1 = WebWordsFrequency('http://www.cnn.com', 'http://www.times.com', 'https://www.amazon.com')\n",
    "w2 = WebWordsFrequency('http://www.cnn.com', 'http://www.times.com')\n",
    "w3 = WebWordsFrequency()\n",
    "w1.listURL()\n",
    "print\n",
    "w2.listURL()\n",
    "print\n",
    "w3.listURL()\n",
    "\n",
    "w3.addURL('http://github.com')\n",
    "w3.listURL()\n",
    "print\n",
    "w1.removeURL('http://www.times.com')\n",
    "w1.listURL()\n",
    "print\n",
    "\n",
    "\n",
    "print w3.getWordsFrequency()\n",
    "print\n",
    "print w3.getMaxFreqencyWords()\n",
    "print\n",
    "w3.removeURL('http://github.com')\n",
    "print\n",
    "print w3.getWordsFrequency()\n",
    "print\n",
    "print w3.getMaxFreqencyWords()"
   ]
  },
  {
   "cell_type": "markdown",
   "metadata": {
    "collapsed": true
   },
   "source": [
    " - 생성자를 재정의 하여 URL을 리스트에 저장을 하고 사전 객체를 하나 만들게 하였습니다.\n",
    " - getWordsFrequency는 해당 인스턴스가 가지고 있는 URL을 기존에 작성했던 파싱 작업을 작업을 하고 얻은 결과는 해당 인스턴스의 사전 형으로 저장하였습니다.\n",
    " - 파싱작업은 클래스 내부에서 처리 하는 것이기 때문에 정적 메소드로 선언하였습니다.\n",
    " - getMaxFreqencyWords는 해당 인스턴스의 URL이 없으면 None을 반환하였습니다.\n",
    " - 또한 사전에서 key값과 value값을 꺼내어 value 값이 기존에 MaxValue 값보다 크거나 같은때 key값을 리스트에 저장 하였습니다.\n",
    " - 이때 큰 경우에는 기존에 저장한 리스트에 원소를 전부 제거를 하고 MaxValue값을 새롭게 설정을 한뒤 key값을 리스트에 저장을 하고 같을 경우에는 리스트에 key만 저장하게 만들었습니다.\n",
    " - addURL은 url이 해당 인스턴스에 리스트 원소로 존재하지 않을 경우 추가하게 하였으며 나중에 getWordsFrequency 결과가 새롭게 나와야 하므로 빈 사전으로 초기화 하였습니다.\n",
    " - removeURL은 url이 해당 인스턴스에 리스트 원소로 존재 하여야 할때 제거 하도록 하였으며 getWordsFrequency 결과 새롭게 바뀔수 있으므로 빈사전으로 초기화 하였습니다.\n",
    " - listURL은 해당 인스턴스에 url을 저장한 인스턴스 객체를 반복문을 돌려 출력하게 만들었습니다."
   ]
  },
  {
   "cell_type": "markdown",
   "metadata": {},
   "source": [
    "####14번 문제\n",
    "\n",
    "13번 문제에서 정의한 WebWordsFrequency 클래스를 상속하여 OrderedWebWordsFrequency 클래스를 정의하고 슈퍼클래스에 정의된 getWordsFrequency() 메소드를 오버라이드 하여 단어 출현 빈도를 내림 차순으로 정렬하여 리스트로 출력하시오.\n",
    "- 리스트 내의 각 원소는 단어와 빈도를 쌍으로 지니는 튜플이다.\n",
    "\n",
    "- getWordFrequence() 메소드에 reverse 라는 인자를 만들고 true 또는 false를 인자로 받을 수 있도록 한다.\n",
    "    - reverse 인자의 디폴트 값은 false 이며, 기본적으로 내림차순으로 정렬한다.\n",
    "    - reverse 인자에 true를 넣으면 오름차순으로 정렬한다.\n",
    "\n",
    "\n",
    "> w4 = OrderedWebWordsFrequency('http://www.times.com', 'https://www.amazon.com', 'https://github.com')\n",
    "\n",
    "> w4.getWordsFrequency()  \n",
    " [('site', 12), ('science', 11), ('hello', 8), ('world', 2), ('program', 1), ('python', 1)]\n",
    "\n",
    "> w4.getWordsFrequency(reverse=true)  \n",
    " [('program', 1), ('python', 1), ('world', 2), ('hello', 8), ('science', 11), ('site', 12)]\n",
    "\n"
   ]
  },
  {
   "cell_type": "code",
   "execution_count": 89,
   "metadata": {
    "collapsed": false
   },
   "outputs": [
    {
     "name": "stdout",
     "output_type": "stream",
     "text": [
      "[('GitHub', 10), ('your', 7), ('projects', 4), ('Sign', 4), ('software', 4), ('more', 4), ('code', 3), ('up', 3), ('you', 3), ('collaboration', 3), ('Enterprise', 2), ('session', 2), ('window', 2), ('Where', 2), ('Powerful', 2), ('refresh', 2), ('teams', 2), ('source', 2), ('out', 2), ('project', 2), ('tools', 2), ('Reload', 2), ('changes', 2), ('one', 2), ('another', 2), ('open', 2), ('from', 2), ('signed', 2), ('Pricing', 2), ('contribute', 2), ('tab', 2), ('You', 2), ('built', 2), ('make', 2), ('development', 2), ('feedback', 1), ('Desktop', 1), ('Frictionless', 1), ('X', 1), ('Public', 1), ('issues', 1), ('help', 1), ('perfect', 1), ('We', 1), ('ease', 1), ('send', 1), ('desktop', 1), ('better', 1), ('systems', 1), ('policy', 1), ('team', 1), ('By', 1), ('Training', 1), ('get', 1), ('Please', 1), ('2015', 1), ('lowercase', 1), ('community', 1), ('report', 1), ('world', 1), ('servers', 1), ('emails', 1), ('Shop', 1), ('Help', 1), ('Simple', 1), ('always', 1), ('try', 1), ('API', 1), ('Skip', 1), ('you\\xe2\\x80\\x99ll', 1), ('went', 1), ('OS', 1), ('Find', 1), ('people', 1), ('Share', 1), ('Create', 1), ('About', 1), ('related', 1), ('\\xc2\\xa9', 1), ('hosted', 1), ('our', 1), ('review', 1), ('content', 1), ('Explore', 1), ('future', 1), ('numeral', 1), ('across', 1), ('Something', 1), ('terms', 1), ('repository', 1), ('This', 1), ('Work', 1), ('communicate', 1), ('free', 1), ('management', 1), ('operating', 1), ('interface', 1), ('Security', 1), ('about', 1), ('starts', 1), ('Contact', 1), ('7mo', 1), ('commit', 1), ('comment', 1), ('repositories', 1), ('Use', 1), ('love', 1), ('features', 1), ('Privacy', 1), ('communication', 1), ('Review', 1), ('powerful', 1), ('integrations', 1), ('private', 1), ('accounts', 1), ('millions', 1), ('Status', 1), ('use', 1), ('service', 1), ('privacy', 1), ('together', 1), ('deploy\\xe2\\x80\\x94all', 1), ('seamless', 1), ('least', 1), ('start', 1), ('way', 1), ('letter', 1), ('clicking', 1), ('collaborators', 1), ('integrate', 1), ('craft', 1), ('Learn', 1), ('account', 1), ('Features', 1), ('World\\xe2\\x80\\x99s', 1), ('\\xc2\\xb7', 1), ('agree', 1), ('Inc', 1), ('seven', 1), ('request', 1), ('Blog', 1), ('native', 1), ('Do', 1), ('Terms', 1), ('occasionally', 1), ('build', 1), ('largest', 1), ('Why', 1), ('Great', 1), ('plans', 1), ('collaborative', 1), ('again', 1), ('Windows', 1), ('applications', 1), ('wrong', 1), ('plan', 1), ('characters', 1), ('branches', 1), ('lines', 1), ('Discover', 1), ('Private', 1), ('Want', 1), ('organization', 1), ('discussion', 1)]\n",
      "\n",
      "[('feedback', 1), ('Desktop', 1), ('Frictionless', 1), ('X', 1), ('Public', 1), ('issues', 1), ('help', 1), ('perfect', 1), ('We', 1), ('ease', 1), ('send', 1), ('desktop', 1), ('better', 1), ('systems', 1), ('policy', 1), ('team', 1), ('By', 1), ('Training', 1), ('get', 1), ('Please', 1), ('2015', 1), ('lowercase', 1), ('community', 1), ('report', 1), ('world', 1), ('servers', 1), ('emails', 1), ('Shop', 1), ('Help', 1), ('Simple', 1), ('always', 1), ('try', 1), ('API', 1), ('Skip', 1), ('you\\xe2\\x80\\x99ll', 1), ('went', 1), ('OS', 1), ('Find', 1), ('people', 1), ('Share', 1), ('Create', 1), ('About', 1), ('related', 1), ('\\xc2\\xa9', 1), ('hosted', 1), ('our', 1), ('review', 1), ('content', 1), ('Explore', 1), ('future', 1), ('numeral', 1), ('across', 1), ('Something', 1), ('terms', 1), ('repository', 1), ('This', 1), ('Work', 1), ('communicate', 1), ('free', 1), ('management', 1), ('operating', 1), ('interface', 1), ('Security', 1), ('about', 1), ('starts', 1), ('Contact', 1), ('7mo', 1), ('commit', 1), ('comment', 1), ('repositories', 1), ('Use', 1), ('love', 1), ('features', 1), ('Privacy', 1), ('communication', 1), ('Review', 1), ('powerful', 1), ('integrations', 1), ('private', 1), ('accounts', 1), ('millions', 1), ('Status', 1), ('use', 1), ('service', 1), ('privacy', 1), ('together', 1), ('deploy\\xe2\\x80\\x94all', 1), ('seamless', 1), ('least', 1), ('start', 1), ('way', 1), ('letter', 1), ('clicking', 1), ('collaborators', 1), ('integrate', 1), ('craft', 1), ('Learn', 1), ('account', 1), ('Features', 1), ('World\\xe2\\x80\\x99s', 1), ('\\xc2\\xb7', 1), ('agree', 1), ('Inc', 1), ('seven', 1), ('request', 1), ('Blog', 1), ('native', 1), ('Do', 1), ('Terms', 1), ('occasionally', 1), ('build', 1), ('largest', 1), ('Why', 1), ('Great', 1), ('plans', 1), ('collaborative', 1), ('again', 1), ('Windows', 1), ('applications', 1), ('wrong', 1), ('plan', 1), ('characters', 1), ('branches', 1), ('lines', 1), ('Discover', 1), ('Private', 1), ('Want', 1), ('organization', 1), ('discussion', 1), ('Enterprise', 2), ('session', 2), ('window', 2), ('Where', 2), ('Powerful', 2), ('refresh', 2), ('teams', 2), ('source', 2), ('out', 2), ('project', 2), ('tools', 2), ('Reload', 2), ('changes', 2), ('one', 2), ('another', 2), ('open', 2), ('from', 2), ('signed', 2), ('Pricing', 2), ('contribute', 2), ('tab', 2), ('You', 2), ('built', 2), ('make', 2), ('development', 2), ('code', 3), ('up', 3), ('you', 3), ('collaboration', 3), ('projects', 4), ('Sign', 4), ('software', 4), ('more', 4), ('your', 7), ('GitHub', 10)]\n"
     ]
    }
   ],
   "source": [
    "# -*- coding: utf8 -*-\n",
    "\n",
    "class OrderedWebWordsFrequenc(WebWordsFrequency):\n",
    "        \n",
    "    def getWordsFrequency(self, reverse = False):\n",
    "        self.newList = []\n",
    "        \n",
    "        for url in self.l:\n",
    "            WebWordsFrequency.parserURL(self.directory, urllib2.urlopen(url).read())\n",
    "\n",
    "        for key, value in self.directory.items():\n",
    "            self.newList.append((key, value))\n",
    "        \n",
    "        self.newList.sort(OrderedWebWordsFrequenc.MyCmp, reverse = not(reverse))\n",
    "        self.directory = {}\n",
    "        \n",
    "        return self.newList\n",
    "    \n",
    "    @staticmethod\n",
    "    def MyCmp(x, y):\n",
    "        return cmp(x[1], y[1])\n",
    "w4 = OrderedWebWordsFrequenc('http://github.com')\n",
    "print w4.getWordsFrequency()\n",
    "print\n",
    "print w4.getWordsFrequency(reverse = True)\n"
   ]
  },
  {
   "cell_type": "markdown",
   "metadata": {
    "collapsed": false
   },
   "source": [
    " - WebWordsFrequency를 상속받아서 클래스를 정의 하였습니다.\n",
    " - getWordsFrequency를 재정의 할때 파싱작업만 다시 하게 설정을 하였습니다.\n",
    " - 또한 newList라는 새로운 리스트 객체를 만들어 사전의 key값과 value을 튜플로 해서 원소로 추가 하였습니다.\n",
    " - list의 sort 함수를 쓸때 리스트 원소인 튜플에 원소중 숫자로 정렬 해야 되기 때문에 MyCmp라는 정적 메소드를 만들어서 정렬 하였습니다."
   ]
  },
  {
   "cell_type": "markdown",
   "metadata": {
    "collapsed": false
   },
   "source": [
    "####15번 문제\n",
    "\n",
    "다음과 같은 코딩이 가능하도록 OrderedWebWordsFrequency 안에 반복자와 관련된 메소드를 추가하시오.\n",
    "\n",
    "\n",
    "> for i in w4:  \n",
    " >       print i  \n",
    " ('site, 12)  \n",
    " ('science', 11)  \n",
    " ('hello', 8)  \n",
    " ('world', 2)  \n",
    " ('program', 1)  \n",
    " ('python', 1)  \n"
   ]
  },
  {
   "cell_type": "code",
   "execution_count": 92,
   "metadata": {
    "collapsed": false,
    "scrolled": true
   },
   "outputs": [
    {
     "name": "stdout",
     "output_type": "stream",
     "text": [
      "('GitHub', 10)\n",
      "('your', 7)\n",
      "('projects', 4)\n",
      "('Sign', 4)\n",
      "('software', 4)\n",
      "('more', 4)\n",
      "('code', 3)\n",
      "('up', 3)\n",
      "('you', 3)\n",
      "('collaboration', 3)\n",
      "('Enterprise', 2)\n",
      "('session', 2)\n",
      "('window', 2)\n",
      "('Where', 2)\n",
      "('Powerful', 2)\n",
      "('refresh', 2)\n",
      "('teams', 2)\n",
      "('source', 2)\n",
      "('out', 2)\n",
      "('project', 2)\n",
      "('tools', 2)\n",
      "('Reload', 2)\n",
      "('changes', 2)\n",
      "('one', 2)\n",
      "('another', 2)\n",
      "('open', 2)\n",
      "('from', 2)\n",
      "('signed', 2)\n",
      "('Pricing', 2)\n",
      "('contribute', 2)\n",
      "('tab', 2)\n",
      "('You', 2)\n",
      "('built', 2)\n",
      "('make', 2)\n",
      "('development', 2)\n",
      "('feedback', 1)\n",
      "('Desktop', 1)\n",
      "('Frictionless', 1)\n",
      "('X', 1)\n",
      "('Public', 1)\n",
      "('issues', 1)\n",
      "('help', 1)\n",
      "('perfect', 1)\n",
      "('We', 1)\n",
      "('ease', 1)\n",
      "('send', 1)\n",
      "('desktop', 1)\n",
      "('better', 1)\n",
      "('systems', 1)\n",
      "('policy', 1)\n",
      "('team', 1)\n",
      "('By', 1)\n",
      "('Training', 1)\n",
      "('get', 1)\n",
      "('Please', 1)\n",
      "('2015', 1)\n",
      "('lowercase', 1)\n",
      "('community', 1)\n",
      "('report', 1)\n",
      "('world', 1)\n",
      "('servers', 1)\n",
      "('emails', 1)\n",
      "('Shop', 1)\n",
      "('Help', 1)\n",
      "('Simple', 1)\n",
      "('always', 1)\n",
      "('try', 1)\n",
      "('API', 1)\n",
      "('Skip', 1)\n",
      "('you\\xe2\\x80\\x99ll', 1)\n",
      "('went', 1)\n",
      "('OS', 1)\n",
      "('Find', 1)\n",
      "('people', 1)\n",
      "('Share', 1)\n",
      "('Create', 1)\n",
      "('About', 1)\n",
      "('related', 1)\n",
      "('\\xc2\\xa9', 1)\n",
      "('hosted', 1)\n",
      "('our', 1)\n",
      "('review', 1)\n",
      "('content', 1)\n",
      "('Explore', 1)\n",
      "('future', 1)\n",
      "('numeral', 1)\n",
      "('across', 1)\n",
      "('Something', 1)\n",
      "('terms', 1)\n",
      "('repository', 1)\n",
      "('This', 1)\n",
      "('Work', 1)\n",
      "('communicate', 1)\n",
      "('free', 1)\n",
      "('management', 1)\n",
      "('operating', 1)\n",
      "('interface', 1)\n",
      "('Security', 1)\n",
      "('about', 1)\n",
      "('starts', 1)\n",
      "('Contact', 1)\n",
      "('7mo', 1)\n",
      "('commit', 1)\n",
      "('comment', 1)\n",
      "('repositories', 1)\n",
      "('Use', 1)\n",
      "('love', 1)\n",
      "('features', 1)\n",
      "('Privacy', 1)\n",
      "('communication', 1)\n",
      "('Review', 1)\n",
      "('powerful', 1)\n",
      "('integrations', 1)\n",
      "('private', 1)\n",
      "('accounts', 1)\n",
      "('millions', 1)\n",
      "('Status', 1)\n",
      "('use', 1)\n",
      "('service', 1)\n",
      "('privacy', 1)\n",
      "('together', 1)\n",
      "('deploy\\xe2\\x80\\x94all', 1)\n",
      "('seamless', 1)\n",
      "('least', 1)\n",
      "('start', 1)\n",
      "('way', 1)\n",
      "('letter', 1)\n",
      "('clicking', 1)\n",
      "('collaborators', 1)\n",
      "('integrate', 1)\n",
      "('craft', 1)\n",
      "('Learn', 1)\n",
      "('account', 1)\n",
      "('Features', 1)\n",
      "('World\\xe2\\x80\\x99s', 1)\n",
      "('\\xc2\\xb7', 1)\n",
      "('agree', 1)\n",
      "('Inc', 1)\n",
      "('seven', 1)\n",
      "('request', 1)\n",
      "('Blog', 1)\n",
      "('native', 1)\n",
      "('Do', 1)\n",
      "('Terms', 1)\n",
      "('occasionally', 1)\n",
      "('build', 1)\n",
      "('largest', 1)\n",
      "('Why', 1)\n",
      "('Great', 1)\n",
      "('plans', 1)\n",
      "('collaborative', 1)\n",
      "('again', 1)\n",
      "('Windows', 1)\n",
      "('applications', 1)\n",
      "('wrong', 1)\n",
      "('plan', 1)\n",
      "('characters', 1)\n",
      "('branches', 1)\n",
      "('lines', 1)\n",
      "('Discover', 1)\n",
      "('Private', 1)\n",
      "('Want', 1)\n",
      "('organization', 1)\n",
      "('discussion', 1)\n"
     ]
    }
   ],
   "source": [
    "class OrderedWebWordsFrequenc(WebWordsFrequency):\n",
    "    \n",
    "    def getWordsFrequency(self, reverse = False):\n",
    "        self.newList = []\n",
    "        \n",
    "        for url in self.l:\n",
    "            WebWordsFrequency.parserURL(self.directory, urllib2.urlopen(url).read())\n",
    "\n",
    "        for key, value in self.directory.items():\n",
    "            self.newList.append((key, value))\n",
    "        \n",
    "        self.newList.sort(OrderedWebWordsFrequenc.MyCmp, reverse = not(reverse))\n",
    "        self.directory = {}\n",
    "        \n",
    "        return self.newList\n",
    "    \n",
    "    @staticmethod\n",
    "    def MyCmp(x, y):\n",
    "        return cmp(x[1], y[1])\n",
    "    \n",
    "    def __iter__(self):\n",
    "        self.getWordsFrequency()\n",
    "        self.count = -1\n",
    "        return self\n",
    "    \n",
    "    def next(self):\n",
    "        self.count += 1\n",
    "        if self.count < len(self.newList):\n",
    "            return self.newList[self.count]\n",
    "        else:\n",
    "            raise StopIteration\n",
    "        \n",
    "    \n",
    "w4 = OrderedWebWordsFrequenc('http://github.com')\n",
    "\n",
    "for i in w4:\n",
    "    print i"
   ]
  },
  {
   "cell_type": "markdown",
   "metadata": {
    "collapsed": true
   },
   "source": [
    "- 반복자를 재정의 하기 위해 __iter__(self)를 재정의 하였습니다.\n",
    "- 해당 함수에는 바로 for문으로 객체를 반복문을 돌릴 때는 생각하여 getWordsFrequency를 호출하고 next 함수를 위해 count나를 멤버 변수를 -1로 초기화 하였습니다.\n",
    "- next는 멤버 변수 count를 1증가 시키고 count가 getWordsFrequency()로 만든 newList의 길이보다 작으면 newList의 count번째 원소를 반환하도록 하고 그렇지 않는 경우 반복문을 정지 시키도록 하였습니다."
   ]
  },
  {
   "cell_type": "markdown",
   "metadata": {},
   "source": [
    "####고찰\n",
    " 이번 마지막 과제를 하면서 파이썬에 대해 기본적인 지식을 알게 되었다. 또한 에러가 발생 되었을때 원인 같은 것을 인터넷에 찾으면서 해당 코드를 작성할 때 주의사항 같은 점도 배울 수 있어서 즐거웠다. 특히 오일러 문제를 해결할때 내가 생각한 코드가 너무 느리게 동작 되어서 어떻게 하면 더 빠르게 돌릴수 있을까하면서 수정을 하다보니까 다양한 방식의 코드 작성법을 알게 되고 모듈로 만들어진 함수를 자주 사용하다 보니 어떤 함수가 어떤 작업을 한다는 점도 알 수 있어서 재미가 있었다. 특히 마지막 웹 파싱에 대한 과제는 하면 할 수록 검색엔진들이 어떻게 URL들의 우선 순위를 정하는지 어느정도 이해가 되었다.  \n",
    " 마지막 과제라 기쁘지만 한편으로는 파이썬에 대해 좀 더 알고 싶어진다."
   ]
  },
  {
   "cell_type": "code",
   "execution_count": null,
   "metadata": {
    "collapsed": true
   },
   "outputs": [],
   "source": []
  }
 ],
 "metadata": {
  "kernelspec": {
   "display_name": "Python 2",
   "language": "python",
   "name": "python2"
  },
  "language_info": {
   "codemirror_mode": {
    "name": "ipython",
    "version": 2
   },
   "file_extension": ".py",
   "mimetype": "text/x-python",
   "name": "python",
   "nbconvert_exporter": "python",
   "pygments_lexer": "ipython2",
   "version": "2.7.9"
  }
 },
 "nbformat": 4,
 "nbformat_minor": 0
}
