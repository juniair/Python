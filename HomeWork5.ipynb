{
 "cells": [
  {
   "cell_type": "markdown",
   "metadata": {},
   "source": [
    "# HomeWork5"
   ]
  },
  {
   "cell_type": "markdown",
   "metadata": {},
   "source": [
    "####1번 문제\n",
    " - 클래스와 모듈의 공통점과 차이점에 대해 설명하시오."
   ]
  },
  {
   "cell_type": "markdown",
   "metadata": {},
   "source": [
    "- **공통점**\n",
    " - 클래스와 모듈은 둘다 자신의 이름공간을 생성을 한다.\n",
    "- **차이점**\n",
    " - 클래스는 클래스 자체의 영역 내에서 이름 공간을 생성한다.\n",
    " - 반면 모듈은 파일 단위로 이름 공간을 구성한다.\n",
    " - 이러한 차이점때문에 두 변수가 모듈을 할당 받을시 두 변수의 ID값은 같지만\n",
    " - 클래스는 ID 값이 다르다."
   ]
  },
  {
   "cell_type": "markdown",
   "metadata": {},
   "source": [
    "####2번 문제\n",
    " - 다형성에 대해 설명하고 다형성을 보여주는 자신만의 파이썬 코드 예제를 제시하시오."
   ]
  },
  {
   "cell_type": "markdown",
   "metadata": {},
   "source": [
    "- 다형성은 상속 관계 내의 다른 클래스들의 인스턴스들이 같은 멤버 함수 호출에 대해 각각 다른 반응을 하도록 하는 기능이다.\n",
    "- 장점으로는 적은 코딩으로 다양한 객체들이 유사한 작업을 수행 시킬수 있고\n",
    "- 적은 코딩을 하기 때문에 코드량이 줄어들며\n",
    "- 코드량이 줄어들어서 코드의 가독성을 높여준다."
   ]
  },
  {
   "cell_type": "code",
   "execution_count": 1,
   "metadata": {
    "collapsed": false
   },
   "outputs": [
    {
     "name": "stdout",
     "output_type": "stream",
     "text": [
      "Ha Ha\n",
      "Kkya Kkya\n",
      "...\n"
     ]
    }
   ],
   "source": [
    "# 다형성 예제\n",
    "\n",
    "class Person:\n",
    "    def LOL(self):\n",
    "        print \"...\"\n",
    "\n",
    "class Man(Person):\n",
    "    def LOL(self):\n",
    "        print \"Ha Ha\"\n",
    "        \n",
    "class Woman(Person):\n",
    "    def LOL(self):\n",
    "        print \"Kkya Kkya\"\n",
    "        \n",
    "class Ghost(Person):\n",
    "    pass\n",
    "\n",
    "for each in (Man(), Woman(), Ghost()):\n",
    "    each.LOL()"
   ]
  },
  {
   "cell_type": "markdown",
   "metadata": {},
   "source": [
    "####3번 문제\n",
    "\n",
    "다음 각 요구사항 모두를 만족시키는 Counter 클래스를 코딩하시오 (정답을 각 요구사항별로 입력할 필요 없이 3번 문제에 대해 1개의 클래스 정의 코드를 제시하면 된다.)\n",
    "\n",
    "- 요구사항 1. 생성자에 count 값과 step 값을 인자로 받을 수 있다.\n",
    " - count: Counter 인스턴스가 지니는 초기 정수 값\n",
    " - step: Counter 인스턴스의 count가 증가되는 증분 (defalt 값: 1)\n",
    "\n",
    "\n",
    "> c = Counter(10)  \n",
    "> d = Counter(10, 2) \n",
    "\n",
    "\n",
    "\n",
    "- 요구사항 2. 다음과 같이 Counter의 인스턴스를 출력을 해주는 __str__() 메소드를 Counter 클래스 내에 구현하시오.\n",
    "\n",
    "\n",
    ">  print c   \n",
    " [Count (step: 1)] 10   \n",
    ">print d  \n",
    " [Count (step: 2)] 10 \n",
    "\n",
    "\n",
    "\n",
    "- 요구사항 3. 다음과 같이 step에 주어진 증분만큼 count를 증가시키는 incr() 메소드를 Counter 클래스 내에 구현하시오.\n",
    "\n",
    "\n",
    "> c.incr()  \n",
    " d.incr()  \n",
    " print c   \n",
    " [Count (step: 1)] 11   \n",
    "print d  \n",
    " [Count (step: 2)] 12 \n",
    "\n",
    "\n",
    "\n",
    "•요구사항 4. Counter 클래스 내에 관련 메소드를 추가하여 인스턴스 객체를 직접 호출(call)할 수 있도록 하시오. 인스턴스 객체를 직접 호출했을 때에 내부적으로 incr() 메소드를 호출하는 방법으로 구현하시오.\n",
    "\n",
    "\n",
    ">c()  \n",
    "d()  \n",
    " print c  \n",
    " [Count (step: 1)] 12  \n",
    "print d  \n",
    " [Count (step: 2)] 14 \n",
    "\n",
    "\n",
    "\n",
    "- 요구사항 5. 다음과 같은 두 개의 산술 연산 (+, -)이 수행될 수 있도록 Counter 클래스 내에 관련 메소드를 추가하시오.\n",
    "\n",
    "\n",
    "> c = c + 5  \n",
    " d = d - 5  \n",
    " print c  \n",
    " [Count (step: 1)] 17  \n",
    " print d  \n",
    " [Count (step: 2)] 9 \n",
    "\n",
    "\n",
    "\n",
    "- 사항 6. 다음과 같은 관계연산 (>, <, ==)이 수행될 수 있도록 Counter 클래스 내에 관련 메소드를 추가하시오.\n",
    "\n",
    "\n",
    "> print c > 10  \n",
    " True  \n",
    "  print d > 10  \n",
    " False  \n",
    " print c < 10  \n",
    " False  \n",
    " print d < 10  \n",
    " True  \n",
    " print c == 17  \n",
    " True  \n",
    " print d != 9  \n",
    " False  \n",
    "\n"
   ]
  },
  {
   "cell_type": "code",
   "execution_count": 2,
   "metadata": {
    "collapsed": false
   },
   "outputs": [
    {
     "name": "stdout",
     "output_type": "stream",
     "text": [
      "[Count(step: 1)] 10\n",
      "[Count(step: 2)] 10\n",
      "\n",
      "[Count(step: 1)] 11\n",
      "[Count(step: 2)] 12\n",
      "\n",
      "[Count(step: 1)] 12\n",
      "[Count(step: 2)] 14\n",
      "\n",
      "[Count(step: 1)] 17\n",
      "[Count(step: 2)] 9\n",
      "\n",
      "True\n",
      "False\n",
      "False\n",
      "True\n",
      "True\n",
      "False\n"
     ]
    }
   ],
   "source": [
    "class Counter:\n",
    "    \n",
    "    def __init__(self, count, step=1):\n",
    "        self.count = count\n",
    "        self.step = step\n",
    "        \n",
    "    def __str__(self):\n",
    "        return '[Count(step: %d)] %d' % (self.step, self.count)\n",
    "    \n",
    "    def incr(self):\n",
    "        self.count += self.step\n",
    "    \n",
    "    def __call__(self):\n",
    "        self.incr()\n",
    "    \n",
    "    def __add__(self, number):\n",
    "        self.count += number\n",
    "        return self\n",
    "    \n",
    "    def __sub__(self, number):\n",
    "        self.count -= number\n",
    "        return self\n",
    "    \n",
    "    def __cmp__(self, other):\n",
    "        return self.count - other\n",
    "        \n",
    "c = Counter(10)\n",
    "d = Counter(10,2)\n",
    "\n",
    "print c\n",
    "print d\n",
    "print\n",
    "\n",
    "c.incr()\n",
    "d.incr()\n",
    "print c\n",
    "print d\n",
    "print\n",
    "\n",
    "c()\n",
    "d()\n",
    "print c\n",
    "print d\n",
    "print\n",
    "\n",
    "c = c + 5\n",
    "d = d - 5\n",
    "print c\n",
    "print d\n",
    "print\n",
    "\n",
    "print c > 10\n",
    "print d > 10\n",
    "print c < 10\n",
    "print d < 10\n",
    "print c == 17\n",
    "print d != 9"
   ]
  },
  {
   "cell_type": "code",
   "execution_count": null,
   "metadata": {
    "collapsed": true
   },
   "outputs": [],
   "source": []
  },
  {
   "cell_type": "markdown",
   "metadata": {},
   "source": [
    "####4번 문제\n",
    "\n",
    "다음은 내장 자료형 list를 서브클래싱하여 만든 MySet 클래스 정의 내용이다. 다음 클래스 정의에서 \\_\\_init\\_\\_(),  \\_\\_str()\\_\\_(),  elimicate_duplicate()의 세 개의 메소드 코드 내용을 자신이 다른 사람에게 가르친다고 생각하며 설명해보시오.\n",
    " - MySet은 집합(Set) 자료형을 정의하려는 의도하에 만들어진 클래스이다.\n"
   ]
  },
  {
   "cell_type": "code",
   "execution_count": 3,
   "metadata": {
    "collapsed": false
   },
   "outputs": [
    {
     "name": "stdout",
     "output_type": "stream",
     "text": [
      "MySet: {1 ,2 ,3}\n",
      "MySet: {2 ,3 ,4 ,5 ,6 ,7 ,8 ,9}\n"
     ]
    }
   ],
   "source": [
    "class MySet(list):\n",
    "    def __init__(self, l):\n",
    "        for e in l:\n",
    "            self.append(e)\n",
    "        MySet.eliminate_duplicate(self)\n",
    "    \n",
    "    def __str__(self):\n",
    "        result = \"MySet: {\"\n",
    "        for e in self:\n",
    "            result = result + str(e) + \" ,\"\n",
    "        result = result[0:len(result)-2] + \"}\"\n",
    "        return result\n",
    "\n",
    "    @staticmethod    \n",
    "    def eliminate_duplicate(l):\n",
    "        s = []\n",
    "        \n",
    "        for e in l:\n",
    "            if e not in s:\n",
    "                s.append(e)\n",
    "        l[:] = []\n",
    "        for e in s:\n",
    "            l.append(e)\n",
    "\n",
    "    \n",
    "if __name__ == \"__main__\":\n",
    "    s = MySet([1, 2, 2, 3])\n",
    "    print s\n",
    "    t = MySet([2, 3, 4, 5, 6, 7, 8, 8, 8, 8, 8, 9])\n",
    "    print t"
   ]
  },
  {
   "cell_type": "markdown",
   "metadata": {},
   "source": [
    "- MySet 클래스는 list라는 파이썬에서 제공하는 클래스를 상속을 받습니다.\n",
    "- 이 상태에서 's = MySet([1, 2, 2, 3])' 호출을 하면 생성자를 통해 MySet을 생성하는데 여기서 MySet에 리스트를 넣게 되면 부모인 list 클래스의 생성자에서 이 리스트 값을 우선적으로 생성을 합니다.\n",
    "- 이렇게 되는 이유를 쉽게 표현을 하면 여러분이 DNA는 부모님의 DNA로 이루어져 있습니다.\n",
    "- 그렇기 때문에 여러분의 DNA가 생성이 될려면 부모님의 DNA가 생성이 되어 있어야합니다.\n",
    "- 이처럼 클래스도 역시 상속을 받게 되어 애당 클래스를 호출을 하면 부모를 생성한 뒤 자식을 생성하게 됩니다.\n",
    "- 그렇기 때문에 \\_\\_init\\_\\_()에서 self.append(l)이 가능 한 이유는 MySet이라는 자식이 list라는 부모의 DNA를 물려 받았기 때문에 가능해지는 것입니다. 여기서 l은 인스턴스를 만들때 넣은 리스트 값입니다.\n",
    "- 처음 인스턴스가 생성이 되면 \\_\\_init\\_\\_()이 호출하게 되고 for문을 통해 self.append()가 가능한 이유는 MySet 클래스의 부모인 list 클래스의 기능과 변수를 물려받게 되어 list 클래스의 기능도 self를 통해 사용할수 있게 됩니다.\n",
    "- 반복문을 마치고 eliminate_duplicate()을 호출하게 되는데 여기서 eliminate_duplicate()함수 정의 위에 보면 @staticmethod라고 작성이 되었습니다.\n",
    "- 이 문장은 정적 함수라는 뜻인데 이렇게 정의를 해놓으면 해당 메소드는 MySet의 인스턴스를 여러개 생성해도 메모리상에 오직 하나의 메소드만이 할당이 되어 있습니다.\n",
    "- 그렇기 때문에 s와 t는 eliminate_duplicate()가 저장되어 있는 같은 메모리 번지를 가르키고 있는 상태가 됩니다.\n",
    "- 이런식으로 작성을 할 때는 클래스 내부에서 작업을 수행해야 될때 쓰는 것이 좋습니다.\n",
    "- 이 메서드를 분석하면 처음에 생성자에서 반복문이 끝나고 인스턴스를 인자로 넘겨줍니다.\n",
    "- 이 안에 메서드 s는 리스트인데 인자 값 l에서 원소를 하나씩 꺼내서 e에 넣고 반복문에서 e가 현재 s에 존재하지 않으면 e에 있는 값을 s에 추가합니다.\n",
    "- 해당 작업이 끝나고 받은 인스턴스 l을 빈 리스트로 초기화 해준둔 다시 인스턴스 l에게 s값을 하나씩 추가하여 숫자 중복이 없는 리스트로 만들어 줍니다.\n",
    "- \\_\\_str()\\_\\_는 print나 str() 내장함수 호출에 대응 되는 메소드를 재정의 하는 것입니다.\n",
    "- 이 메소드는 result에 초기 값을 넣은뒤 반복문으로 리스트의 원소를 e에 하나씩 넘겨주면서 result에 리스트에 있는 원소가 무엇이이 문자열 식으로 넣어 주고 그뒤 맨마지막에 ' ,' 이분을 지우기 위해 슬라이싱 연선으로 하여 제거후 다시 넣어 줍니다.\n",
    "- 작업이 끝나면 result를 반환을 합니다."
   ]
  },
  {
   "cell_type": "markdown",
   "metadata": {
    "collapsed": false
   },
   "source": [
    "####5번 문제\n",
    "\n",
    "4번 문제에 정의된 MySet 클래스에 메소드를 추가하여 다음 각 요구사항 모두를 만족시키는 코딩을 제시하시오\n",
    "- 정답을 각 요구사항별로 입력할 필요 없이 요구사항 3개 전체에 대해 1개의 MySet 클래스 정의 코드를 제시하고 주석등으로 해당 코드를 설명한다.\n",
    "\n",
    "- 요구사항 1. | 연산으로 두 집합의 합집합을 반환한다.\n",
    "\n",
    "\n",
    "> u = s | t  \n",
    "> print u  \n",
    "> MySet: {1, 2, 3, 4, 5, 6, 7, 8, 9} \n",
    "\n",
    "\n",
    "\n",
    "- 요구사항 2. & 연산으로 두 집합의 교집합을 반환한다.\n",
    "\n",
    "\n",
    "> u = s & t  \n",
    "> print u  \n",
    " MySet: {2, 3} \n",
    "\n",
    "\n",
    "\n",
    "•요구사항 3. - 연산으로 두 집합의 차집합을 반환한다.\n",
    "\n",
    "\n",
    "> s = MySet([1, 2, 3])  \n",
    " > t = MySet([3, 4, 5])  \n",
    " > u = s - t  \n",
    " > print u  \n",
    " MySet: {1} \n",
    "\n"
   ]
  },
  {
   "cell_type": "code",
   "execution_count": 4,
   "metadata": {
    "collapsed": false
   },
   "outputs": [
    {
     "name": "stdout",
     "output_type": "stream",
     "text": [
      "MySet: {1 ,2 ,3}\n",
      "MySet: {2 ,3 ,4 ,5 ,6 ,7 ,8 ,9}\n",
      "MySet: {1 ,2 ,3}\n",
      "MySet: {1 ,2 ,3 ,4 ,5 ,6 ,7 ,8 ,9}\n",
      "MySet: {2 ,3}\n",
      "MySet: {1}\n"
     ]
    }
   ],
   "source": [
    "class MySet(list):\n",
    "    def __init__(self, l):\n",
    "        for e in l:\n",
    "            self.append(e)\n",
    "        MySet.eliminate_duplicate(self)\n",
    "    \n",
    "    def __str__(self):\n",
    "        result = \"MySet: {\"\n",
    "        for e in self:\n",
    "            result = result + str(e) + \" ,\"\n",
    "        result = result[0:len(result)-2] + \"}\"\n",
    "        return result\n",
    "\n",
    "    @staticmethod    \n",
    "    def eliminate_duplicate(l):\n",
    "        s = []\n",
    "        \n",
    "        for e in l:\n",
    "            if e not in s:\n",
    "                s.append(e)\n",
    "        l[:] = []\n",
    "        for e in s:\n",
    "            l.append(e)\n",
    "    \n",
    "    \"\"\" \n",
    "    '|'에 대한 연산자 오버라이딩을 사용하기 위해 __or__()를 사용했으며\n",
    "    인자값으로 자신의 인스턴스와 다른 인스턴스 클래스를 넣었다.\n",
    "    \"\"\"\n",
    "    def __or__(self, other):  \n",
    "        \n",
    "        l = MySet([]) # l에 MySet 클래스를 인스턴스로 할당 한다.\n",
    "        \n",
    "        # 자신의 인스턴스와 다른 인스턴스 객체를 반복문원 원소로 사용한다.\n",
    "        for instance in self, other: \n",
    "            for e in instance: # MySet의 인스턴스객체 에 있는 리스트 원소를 하나씩 반복한다.\n",
    "\n",
    "                if e not in l: # 리스트 l에 해당 원소가 없으면 추가한다.\n",
    "                    l.append(e);\n",
    "        \n",
    "    \n",
    "        \n",
    "        l.sort()# 값을 정렬 한다.\n",
    "        \n",
    "        return l # 인스턴스를 반환한다.\n",
    "    \n",
    "    \"\"\" \n",
    "    '&'에 대한 연산자 오버라이딩을 사용하기 위해 __and__()를 사용했으며\n",
    "    인자값으로 자신의 인스턴스와 다른 인스턴스 클래스를 넣었다.\n",
    "    \"\"\"\n",
    "    def __and__(self, other):\n",
    "        \n",
    "        l = MySet([]) # l에 MySet 클래스를 인스턴스로 할당 한다.\n",
    "        \n",
    "        for e in other: # 다른 인스턴스 객체를 원소를 하나씩 꺼내서 반복한다.\n",
    "                \n",
    "            if e in self: # 원소 e가 자신의 인스턴스에 존재한다면\n",
    "                l.append(e);# 인스턴스 객체 l에 원소 e값은 추가한다.\n",
    "                    \n",
    "        return l # 인스턴스 객체 l을 반환한다.\n",
    "    \n",
    "    \n",
    "    \"\"\" \n",
    "    '-'에 대한 연산자 오버라이딩을 사용하기 위해 __sub__()를 사용했으며\n",
    "    인자값으로 자신의 인스턴스와 다른 인스턴스 클래스를 넣었다.\n",
    "    \"\"\"\n",
    "    def __sub__(self, other):\n",
    "        \n",
    "        l = MySet([]) # l에 MySet 클래스를 인스턴스로 할당 한다.\n",
    "        \n",
    "        # 자신의 인스턴스와 다른 인스턴스 객체를 반복문원 원소로 사용한다.\n",
    "        for instance in self, other: \n",
    "            for e in instance: # MySet의 인스턴스객체 에 있는 리스트 원소를 하나씩 반복한다.\n",
    "                \n",
    "                # e 값이 l에 존재하지 않고 다른 인스턴스 객체에 존재 하지 않느 ㄴ겨우\n",
    "                if (e not in l) and (e not in other):\n",
    "                    l.append(e)# l에 원소 e 값을 추가한다.\n",
    "            \n",
    "        return l # 인스턴스 객체 l 값을 반환한다.\n",
    "if __name__ == \"__main__\":\n",
    "    s = MySet([1, 2, 2, 3])\n",
    "    print s\n",
    "    t = MySet([2, 3, 4, 5, 6, 7, 8, 8, 8, 8, 8, 9])\n",
    "    print t\n",
    "    u = s|t\n",
    "    print s\n",
    "    print u\n",
    "    u = s & t\n",
    "    print u\n",
    "    u = s - t\n",
    "    print u"
   ]
  },
  {
   "cell_type": "markdown",
   "metadata": {},
   "source": [
    "####6번 문제\n",
    "\n",
    "5번 문제에서 정의한 MySet 클래스에 대해 다음 예제를 수행하면 오류없이 올바르게 동작하는 것을 확인할 수 있다. 다음 예제 내에 있는 len(), bool() 내장함수와 in 키워드 사용 예제가 별다른 메소드 정의를 하지 않았는 데도 올바르게 수행되는 이유를 설명하시오.\n"
   ]
  },
  {
   "cell_type": "code",
   "execution_count": 5,
   "metadata": {
    "collapsed": false
   },
   "outputs": [
    {
     "name": "stdout",
     "output_type": "stream",
     "text": [
      "6\n",
      "True\n",
      "True\n"
     ]
    }
   ],
   "source": [
    "s = MySet([1, 2, 3, 4, 5, 6])\n",
    "\n",
    "print len(s)\n",
    "print bool(s)\n",
    "print 2 in s"
   ]
  },
  {
   "cell_type": "markdown",
   "metadata": {},
   "source": [
    "- MySet 클래스는 list라는 클래스를 상속 받고 있다.\n",
    "- 이렇게 선언이 되었을 경우 list 클래스가 가지고 있는 모든 내용을 상속을 받는다.\n",
    "- 그렇기 때문에 내장 함수 len() 호출하게 되면 list 클래스에 있는 연산자 재정의가 된 \\_\\_len\\_\\_()가 있으므로 해당 인스턴스는 list에 있는 \\_\\_len\\_\\_() 호출하게 된다.\n",
    "- 내장 함수 bool()의 비교자는 x.__cmp__(y)로 정의가 되어 있다. 그렇기 때문에 MySet을 놓게 되면 x에는 MySet이 들어 가고 y에는 기본값 None으로 설정이 되어 cmp로 비교를 한다.\n",
    "- in 키워드 같은 경우 MySet에 부모가 list 클래스 이므로 list에 포함이 되어있느지 비교가 가능하다"
   ]
  },
  {
   "cell_type": "markdown",
   "metadata": {},
   "source": [
    "#### 7번 문제\n",
    " - 프로젝트 오일러 문제 16\n",
    " - 2^1000의 각 자리수를 모두 더하면 얼마입니까?"
   ]
  },
  {
   "cell_type": "code",
   "execution_count": 6,
   "metadata": {
    "collapsed": false
   },
   "outputs": [
    {
     "name": "stdout",
     "output_type": "stream",
     "text": [
      "1366\n"
     ]
    }
   ],
   "source": [
    "result = 0\n",
    "num = str(pow(2,1000))\n",
    "\n",
    "for i in xrange(len(num)):\n",
    "    result += int(num[i])\n",
    "    \n",
    "print result"
   ]
  },
  {
   "cell_type": "markdown",
   "metadata": {},
   "source": [
    "- 문자열로 2의 1000제곱을 num값에 넣고 문자열의 길이 반복문을 돌렸습니다.\n",
    "- 문제에서 각 자리수를 모두 더하는 것이므로 문자열에 있는 문자를 하나씩 int형으로 바꾸어 result에 누적하여 출력하게 만들었습니다.\n"
   ]
  },
  {
   "cell_type": "markdown",
   "metadata": {},
   "source": [
    "#### 8번 문제\n",
    " - 프로젝트 오일러 문제 17\n",
    " - 1부터 1,000까지 영어로 썼을 때는 모두 몇 개의 글자를 사용해야 할까요?"
   ]
  },
  {
   "cell_type": "code",
   "execution_count": 17,
   "metadata": {
    "collapsed": false,
    "slideshow": {
     "slide_type": "-"
    }
   },
   "outputs": [
    {
     "name": "stdout",
     "output_type": "stream",
     "text": [
      "21124\n"
     ]
    }
   ],
   "source": [
    "def wordLegth(n):\n",
    "    s = \"\" \n",
    "    \n",
    "    if n == 1000: \n",
    "        s += words1[n / 1000] + words1000 \n",
    "        n = n % 1000 \n",
    "        \n",
    "    if n > 99: \n",
    "        s += words1[n / 100] + words100 \n",
    "        n = n % 100 \n",
    "        if n > 0: \n",
    "            s += \"and\" \n",
    "            \n",
    "    if n >= 20: \n",
    "        s += words20[n / 10] \n",
    "        n = n % 10 \n",
    "        \n",
    "    s += words1[n] \n",
    "    return s \n",
    "\n",
    "words1000 = 'thousand' \n",
    "words100 = 'hundred' \n",
    "words20 = ('', '', 'twenty', 'thirty', 'forty', 'fifty', 'sixty', \n",
    "            'seventy', 'eighty', 'ninety') \n",
    "words1 = ('', 'one', 'two', 'three', 'four', 'five', 'six', 'seven', 'eight', \n",
    "           'nine', 'ten', 'eleven', 'twelve', 'thirteen', 'fourteen', 'fifteen', \n",
    "           'sixteen', 'seventeen', 'eighteen', 'nineteen')\n",
    "\n",
    "result = 0;\n",
    "\n",
    "for num in range(1,1001): \n",
    "    result += len(wordLegth(num))\n",
    "\n",
    "print result"
   ]
  },
  {
   "cell_type": "markdown",
   "metadata": {},
   "source": []
  },
  {
   "cell_type": "markdown",
   "metadata": {},
   "source": [
    "#### 9번 문제\n",
    " - 프로젝트 오일러 문제 18\n",
    " - 다음 삼각형에서 합이 최대가 되는 경로를 찾아서 그 합을 구하세요. \n",
    ">13  \n",
    "14 75  \n",
    "15 95 64  \n",
    "16 17 47 82  \n",
    "17 18 35 87 10  \n",
    "18 20 04 82 47 65  \n",
    "19 19 01 23 75 03 34  \n",
    "20 88 02 77 73 07 63 67  \n",
    "21 99 65 04 28 06 16 70 92  \n",
    "22 41 41 26 56 83 40 80 70 33  \n",
    "23 41 48 72 33 47 32 37 16 94 29  \n",
    "24 53 71 44 65 25 43 91 52 97 51 14  \n",
    "25 70 11 33 28 77 73 17 78 39 68 17 57  \n",
    "26 91 71 52 38 17 14 91 43 58 50 27 29 48  \n",
    "27 63 66 04 68 89 53 67 30 73 16 69 87 40 31  \n",
    "28 04 62 98 27 23 09 70 98 73 93 38 53 60 04 23  \n",
    "\n"
   ]
  },
  {
   "cell_type": "code",
   "execution_count": 32,
   "metadata": {
    "collapsed": false
   },
   "outputs": [
    {
     "name": "stdout",
     "output_type": "stream",
     "text": [
      "[1074]\n"
     ]
    }
   ],
   "source": [
    "def make_line(line):\n",
    "    return [int(x) for x in line.split(' ') if x]\n",
    "\n",
    "m = \"\"\"75 \n",
    "95 64 \n",
    "17 47 82 \n",
    "18 35 87 10 \n",
    "20 04 82 47 65 \n",
    "19 01 23 75 03 34 \n",
    "88 02 77 73 07 63 67 \n",
    "99 65 04 28 06 16 70 92 \n",
    "41 41 26 56 83 40 80 70 33 \n",
    "41 48 72 33 47 32 37 16 94 29 \n",
    "53 71 44 65 25 43 91 52 97 51 14 \n",
    "70 11 33 28 77 73 17 78 39 68 17 57 \n",
    "91 71 52 38 17 14 91 43 58 50 27 29 48 \n",
    "63 66 04 68 89 53 67 30 73 16 69 87 40 31 \n",
    "04 62 98 27 23 09 70 98 73 93 38 53 60 04 23 \"\"\" \n",
    "\n",
    "lines = m.split('\\n')\n",
    "num = [make_line(line) for line in lines]\n",
    "length = len(num)\n",
    "\n",
    "f = num[-1]\n",
    "for i in range(length-2, -1, -1):\n",
    "    zip1 = map(lambda x:x[0] + x[1], zip(f, num[i]))\n",
    "    zip2 = map(lambda x:x[0] + x[1], zip(f[1:], num[i]))\n",
    "    f = list(map(max, zip(zip1, zip2)))\n",
    "    \n",
    "\n",
    "print f"
   ]
  },
  {
   "cell_type": "markdown",
   "metadata": {},
   "source": [
    "- 우선 개행문자를 split으로 제거합니다.\n",
    "- 리스트 내포방식으로 make_line을 호출하여 한줄당 리스트에 원소로 만들었습니다.\n",
    "- 리스트의 길이를 저장하고 f는 리스트 num에 맨 마지막 원소 리스트를 초기 값으로 설정합니다.\n",
    "- 맨 아래부터 검색하기 위해 반복문의 범위를 길이보다 2개 작개 시작하여 0이 될때까지 1씩 감소 시켰습니다.\n",
    "- 내장함수 zip을 사용하여 map에 None을 lambda 함수에서 처리하지 않게 하였습니다.\n",
    "- f를 리스트로 만드는데 zip1과 zip2의 원소를 하나씩 비교하여 큰 원소들만 f에 원소로 저장하게 하였습니다.\n",
    "\n",
    "- 반복문이 끝나면 문제에서 주어진 값을 출력합니다.\n"
   ]
  },
  {
   "cell_type": "markdown",
   "metadata": {},
   "source": [
    "#### 10번 문제\n",
    " - 프로젝트 오일러 문제 19\n",
    " - 20세기 (1901년 1월 1일 ~ 2000년 12월 31일) 에서, 매월 1일이 일요일인 경우는 총 몇 번입니까?"
   ]
  },
  {
   "cell_type": "code",
   "execution_count": 26,
   "metadata": {
    "collapsed": false
   },
   "outputs": [
    {
     "name": "stdout",
     "output_type": "stream",
     "text": [
      "171\n"
     ]
    }
   ],
   "source": [
    "import datetime\n",
    "\n",
    "result = 0\n",
    "time = datetime.date(1901, 1, 1)\n",
    "while time.year <= 2000:\n",
    "    \n",
    "    if time.day == 1 and time.weekday() == 6:\n",
    "        result += 1\n",
    "        \n",
    "    time = time + datetime.timedelta(days=1)\n",
    "\n",
    "print result"
   ]
  },
  {
   "cell_type": "markdown",
   "metadata": {},
   "source": [
    "- datetime이라는 모듈을 활용하여 작성했습니다.\n",
    "- datetime에 date라는 클래스에 생성자에 1901년 1월 1일로 초지치로 설정합니다.\n",
    "- while문으로 time,year가 2000이하 일때까지 반복하게 조건을 설정 했습니다.\n",
    "- time 인스턴스에 변수 day가 1이고 그 날짜가 일요일(6)이면 result를 1증가 시킵니다.\n",
    "- 그렇지 않거나 위 작업이 끝나면 time을 timedelta 클래스에 생성자를 days 값을 1로 설정하여 time을 다음날로 이동하게 합니다."
   ]
  },
  {
   "cell_type": "markdown",
   "metadata": {},
   "source": [
    "#### 11번 문제\n",
    " 프로젝트 오일러 문제 20\n",
    " - 100!의 자리수를 모두 더하면 얼마 입니까?"
   ]
  },
  {
   "cell_type": "code",
   "execution_count": 38,
   "metadata": {
    "collapsed": false
   },
   "outputs": [
    {
     "name": "stdout",
     "output_type": "stream",
     "text": [
      "648\n"
     ]
    }
   ],
   "source": [
    "import math\n",
    "\n",
    "result = 0\n",
    "number_string = str(math.factorial(100))\n",
    "\n",
    "for i in range(len(number_string)):\n",
    "        result += int(number_string[i])\n",
    "        \n",
    "print result"
   ]
  },
  {
   "cell_type": "markdown",
   "metadata": {},
   "source": [
    "- math 모듈로 팩토리얼 함수를 사용할수 있게 import 하였습니다.\n",
    "- factorial함수로 100!을 계산하여 얻은 결과 값을 문자열로 바꾸어 저장합니다.\n",
    "- 반복문을 문자열 길이-1 만큼 반복합니다.\n",
    "- 각 자리 수를 result에 누적 하여 반복문이 끝나고 result에 결과 값을 출력합니다."
   ]
  },
  {
   "cell_type": "markdown",
   "metadata": {},
   "source": [
    "#### 12번 문제\n",
    " 프로젝트 오일러 문제 21\n",
    " - 10000 이하의 친화수들을 모두 찾아서 그 합을 구하세요."
   ]
  },
  {
   "cell_type": "code",
   "execution_count": 41,
   "metadata": {
    "collapsed": false
   },
   "outputs": [
    {
     "ename": "TypeError",
     "evalue": "unsupported operand type(s) for -: 'NoneType' and 'int'",
     "output_type": "error",
     "traceback": [
      "\u001b[1;31m---------------------------------------------------------------------------\u001b[0m",
      "\u001b[1;31mTypeError\u001b[0m                                 Traceback (most recent call last)",
      "\u001b[1;32m<ipython-input-41-ca42fa12056d>\u001b[0m in \u001b[0;36m<module>\u001b[1;34m()\u001b[0m\n\u001b[0;32m     17\u001b[0m \u001b[1;32mfor\u001b[0m \u001b[0mi\u001b[0m \u001b[1;32min\u001b[0m \u001b[0mrange\u001b[0m\u001b[1;33m(\u001b[0m\u001b[1;36m1\u001b[0m\u001b[1;33m,\u001b[0m \u001b[0mlimit\u001b[0m\u001b[1;33m+\u001b[0m\u001b[1;36m1\u001b[0m\u001b[1;33m)\u001b[0m\u001b[1;33m:\u001b[0m\u001b[1;33m\u001b[0m\u001b[0m\n\u001b[0;32m     18\u001b[0m \u001b[1;33m\u001b[0m\u001b[0m\n\u001b[1;32m---> 19\u001b[1;33m     \u001b[0mx\u001b[0m \u001b[1;33m=\u001b[0m \u001b[0mfind_friend\u001b[0m\u001b[1;33m(\u001b[0m\u001b[0mi\u001b[0m\u001b[1;33m)\u001b[0m\u001b[1;33m\u001b[0m\u001b[0m\n\u001b[0m\u001b[0;32m     20\u001b[0m     \u001b[1;32mif\u001b[0m \u001b[1;33m(\u001b[0m\u001b[0mx\u001b[0m \u001b[1;33m!=\u001b[0m \u001b[0mNone\u001b[0m\u001b[1;33m)\u001b[0m \u001b[1;32mand\u001b[0m \u001b[1;33m(\u001b[0m\u001b[0mx\u001b[0m \u001b[1;33m!=\u001b[0m \u001b[0mi\u001b[0m\u001b[1;33m)\u001b[0m \u001b[1;32mand\u001b[0m \u001b[1;33m(\u001b[0m\u001b[0mx\u001b[0m \u001b[1;33m<=\u001b[0m \u001b[0mlimit\u001b[0m\u001b[1;33m)\u001b[0m\u001b[1;33m:\u001b[0m\u001b[1;33m\u001b[0m\u001b[0m\n\u001b[0;32m     21\u001b[0m         \u001b[0ml\u001b[0m\u001b[1;33m.\u001b[0m\u001b[0madd\u001b[0m\u001b[1;33m(\u001b[0m\u001b[0mx\u001b[0m\u001b[1;33m)\u001b[0m\u001b[1;33m\u001b[0m\u001b[0m\n",
      "\u001b[1;32m<ipython-input-41-ca42fa12056d>\u001b[0m in \u001b[0;36mfind_friend\u001b[1;34m(number)\u001b[0m\n\u001b[0;32m      6\u001b[0m \u001b[1;33m\u001b[0m\u001b[0m\n\u001b[0;32m      7\u001b[0m \u001b[1;32mdef\u001b[0m \u001b[0mfind_friend\u001b[0m\u001b[1;33m(\u001b[0m\u001b[0mnumber\u001b[0m\u001b[1;33m)\u001b[0m\u001b[1;33m:\u001b[0m\u001b[1;33m\u001b[0m\u001b[0m\n\u001b[1;32m----> 8\u001b[1;33m         \u001b[0mx\u001b[0m \u001b[1;33m=\u001b[0m \u001b[0msum_of_divisor\u001b[0m\u001b[1;33m(\u001b[0m\u001b[0mnumber\u001b[0m\u001b[1;33m)\u001b[0m \u001b[1;33m-\u001b[0m \u001b[0mnumber\u001b[0m\u001b[1;33m\u001b[0m\u001b[0m\n\u001b[0m\u001b[0;32m      9\u001b[0m         \u001b[1;32mif\u001b[0m \u001b[0msum_of_divisor\u001b[0m\u001b[1;33m(\u001b[0m\u001b[0mx\u001b[0m\u001b[1;33m)\u001b[0m \u001b[1;33m-\u001b[0m \u001b[0mx\u001b[0m \u001b[1;33m==\u001b[0m \u001b[0mnumber\u001b[0m\u001b[1;33m:\u001b[0m\u001b[1;33m\u001b[0m\u001b[0m\n\u001b[0;32m     10\u001b[0m             \u001b[1;32mreturn\u001b[0m \u001b[0mx\u001b[0m\u001b[1;33m\u001b[0m\u001b[0m\n",
      "\u001b[1;31mTypeError\u001b[0m: unsupported operand type(s) for -: 'NoneType' and 'int'"
     ]
    }
   ],
   "source": [
    "import math\n",
    "def isPrime(number):\n",
    "        integerRange=math.floor(math.sqrt(number))\n",
    "        x=3\n",
    "        if number==2:\n",
    "            return True\n",
    "        \n",
    "        if number%2 == 0 or number == 1:\n",
    "            return False\n",
    "        \n",
    "        while x <= integerRange:\n",
    "            if number%x == 0:\n",
    "                return False\n",
    "            x+=2\n",
    "        return True\n",
    "\n",
    "def sum_of_divisor(number):\n",
    "    \n",
    "    result = 0\n",
    "\n",
    "    for x in xrange(number):\n",
    "        if isPrime(x):\n",
    "            result += x\n",
    "    \n",
    "\n",
    "\n",
    "def find_friend(number):\n",
    "        x = sum_of_divisor(number) - number\n",
    "        if sum_of_divisor(x) - x == number:\n",
    "            return x\n",
    "        return None\n",
    "\n",
    "\n",
    "s = set()\n",
    "limit = 10000\n",
    "\n",
    "for i in range(1, limit+1):\n",
    "    \n",
    "    x = find_friend(i)\n",
    "    if (x != None) and (x != i) and (x <= limit):\n",
    "        l.add(x)\n",
    "        l.add(i)\n",
    "        "
   ]
  },
  {
   "cell_type": "code",
   "execution_count": null,
   "metadata": {
    "collapsed": true
   },
   "outputs": [],
   "source": []
  }
 ],
 "metadata": {
  "kernelspec": {
   "display_name": "Python 2",
   "language": "python",
   "name": "python2"
  },
  "language_info": {
   "codemirror_mode": {
    "name": "ipython",
    "version": 2
   },
   "file_extension": ".py",
   "mimetype": "text/x-python",
   "name": "python",
   "nbconvert_exporter": "python",
   "pygments_lexer": "ipython2",
   "version": "2.7.9"
  }
 },
 "nbformat": 4,
 "nbformat_minor": 0
}
