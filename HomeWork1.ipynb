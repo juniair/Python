{
 "cells": [
  {
   "cell_type": "markdown",
   "metadata": {},
   "source": [
    "#HOMEWORK1"
   ]
  },
  {
   "cell_type": "markdown",
   "metadata": {},
   "source": [
    "####1.  a=\"Hello Python\" 문자열을 Slicing과 연결 연산자 (+)를 사용하여 \"Python Hello\"로 변경하시오.  \n",
    "####[주의] a 변수 자체에 \"Python Hello\" 문자열이 저장되어야 함."
   ]
  },
  {
   "cell_type": "code",
   "execution_count": 1,
   "metadata": {
    "collapsed": false
   },
   "outputs": [
    {
     "name": "stdout",
     "output_type": "stream",
     "text": [
      "Python Hello\n"
     ]
    }
   ],
   "source": [
    "a=\"Hello Python\"\n",
    "a=a[6:12] + \" \" + a[0:5]\n",
    "print a"
   ]
  },
  {
   "cell_type": "markdown",
   "metadata": {},
   "source": [
    "해설 : 슬라이싱으로 해당 영역을 자르고 '+'연산자로 공백을 연결하여 \"Hello Python\"을 \"Python Hello\"로 변경하였습니다."
   ]
  },
  {
   "cell_type": "markdown",
   "metadata": {},
   "source": [
    "####2. b=\"Hello Python World\" 문자열을 Slicing과 연결 연산자 (+)를 사용하여 \"World Python Hello\"로 변경하시오.  \n",
    "[주의] b 변수 자체에 \"Python Hello\" 문자열이 저장되어야 함"
   ]
  },
  {
   "cell_type": "code",
   "execution_count": 2,
   "metadata": {
    "collapsed": false
   },
   "outputs": [
    {
     "name": "stdout",
     "output_type": "stream",
     "text": [
      "World Python Hello\n"
     ]
    }
   ],
   "source": [
    "b=\"Hello Python World\"\n",
    "b=b[6:12]+\" \"+b[0:5]\n",
    "print \"World \" + b"
   ]
  },
  {
   "cell_type": "markdown",
   "metadata": {},
   "source": [
    "해설 : 슬라이싱과 '+'연산자로 객체 b에 'Python Hello'를 저장후 문자열 World와 객체b를 연결연산자(+)로 하여 출력 하였습니다."
   ]
  },
  {
   "cell_type": "markdown",
   "metadata": {},
   "source": [
    "####3. c=\"Hello\"를 \"olleH\"로 변경하시오.  \n",
    "[주의] c 변수 자체에 \"olleH\" 문자열이 저장되어야 함"
   ]
  },
  {
   "cell_type": "code",
   "execution_count": 3,
   "metadata": {
    "collapsed": false
   },
   "outputs": [
    {
     "name": "stdout",
     "output_type": "stream",
     "text": [
      "olleH\n"
     ]
    }
   ],
   "source": [
    "c=\"Hello\"\n",
    "c=c[::-1]\n",
    "print c"
   ]
  },
  {
   "cell_type": "markdown",
   "metadata": {},
   "source": [
    "해설 : 객체 c를 슬라이싱을 역순으로 저장하게 하여 출력 하였습니다."
   ]
  },
  {
   "cell_type": "markdown",
   "metadata": {},
   "source": [
    "####4. s=\"python\"에 대해 다음 문제를 풀어보시오.\n",
    "    1)s[0], s[0][0], s[0][0][0]은 각각 어떤 값이 나오는지 확인하고 그 이유를 나름대로 설명해 보시오.\n",
    "    2)s[-100], s[100]은 값이 나오는지 에러가 나오는지 확인하고 그 결과에 대한 이유를 나름대로 설명해 보시오.\n",
    "    3)s[-100, 100]은 값이 나오는지 에러가 나오는지 확인하고 그 결과에 대한 이유를 나름대로 설명해 보시오.\n",
    "    4)s[1:-1]의 결과를 확인하고 그 결과에 대한 이유를 정확하게 설명하시오.\n",
    "    5)s[3:-3]의 결과를 확인하고 그 결과에 대한 이유를 정확하게 설명하시오."
   ]
  },
  {
   "cell_type": "code",
   "execution_count": 35,
   "metadata": {
    "collapsed": false
   },
   "outputs": [
    {
     "name": "stdout",
     "output_type": "stream",
     "text": [
      " 1)\n",
      "s[0] = p\n",
      "s[0][0] = p\n",
      "s[0][0][0] = p\n"
     ]
    }
   ],
   "source": [
    "s=\"python\"\n",
    "\n",
    "#1)\n",
    "print \"1)\"\n",
    "print \"s[0] = \" + s[0]\n",
    "print \"s[0][0] = \" + s[0][0]\n",
    "print \"s[0][0][0] = \" + s[0][0][0]"
   ]
  },
  {
   "cell_type": "markdown",
   "metadata": {
    "collapsed": true
   },
   "source": [
    "해설 : s[0]은 s 문자열에 첫번째 인덱스값을 나타내므로 p가 됩니다. s[0][0]은 일반적인 배열에서 2차원에 첫번째열 첫번째행에 인덱스에 들어 있는 값을 나타내므로 p를 나타냅니다. 마지막으로 s[0][0][0]는 배열에서 3차원배열에 첫번째 깊이에 첫번째 행 그리고 첫번째 열에 인덱에 들어 있는 값을 나타내므로 p를 나타냅니다."
   ]
  },
  {
   "cell_type": "code",
   "execution_count": 5,
   "metadata": {
    "collapsed": false
   },
   "outputs": [
    {
     "name": "stdout",
     "output_type": "stream",
     "text": [
      "2)\n"
     ]
    },
    {
     "ename": "IndexError",
     "evalue": "string index out of range",
     "output_type": "error",
     "traceback": [
      "\u001b[1;31m---------------------------------------------------------------------------\u001b[0m",
      "\u001b[1;31mIndexError\u001b[0m                                Traceback (most recent call last)",
      "\u001b[1;32m<ipython-input-5-cd054d5651f3>\u001b[0m in \u001b[0;36m<module>\u001b[1;34m()\u001b[0m\n\u001b[0;32m      1\u001b[0m \u001b[1;31m#2)\u001b[0m\u001b[1;33m\u001b[0m\u001b[1;33m\u001b[0m\u001b[0m\n\u001b[0;32m      2\u001b[0m \u001b[1;32mprint\u001b[0m \u001b[1;34m\"2)\"\u001b[0m\u001b[1;33m\u001b[0m\u001b[0m\n\u001b[1;32m----> 3\u001b[1;33m \u001b[1;32mprint\u001b[0m \u001b[1;34m\"s[-100] = \"\u001b[0m \u001b[1;33m+\u001b[0m \u001b[0ms\u001b[0m\u001b[1;33m[\u001b[0m\u001b[1;33m-\u001b[0m\u001b[1;36m100\u001b[0m\u001b[1;33m]\u001b[0m\u001b[1;33m\u001b[0m\u001b[0m\n\u001b[0m",
      "\u001b[1;31mIndexError\u001b[0m: string index out of range"
     ]
    }
   ],
   "source": [
    "#2)\n",
    "print \"2)\"\n",
    "print \"s[-100] = \" + s[-100]"
   ]
  },
  {
   "cell_type": "markdown",
   "metadata": {
    "collapsed": true
   },
   "source": [
    "해설 : 현재 출력되는 문자역의 인덱스는 100번째 인덱스를 출력 하는 것이다.  \n",
    "    그러나 100번째 인덱스는 문자열 s의 인덱스 범위를 넘었기 때문에 오류가 발생하였습니다."
   ]
  },
  {
   "cell_type": "code",
   "execution_count": 6,
   "metadata": {
    "collapsed": false
   },
   "outputs": [
    {
     "ename": "IndexError",
     "evalue": "string index out of range",
     "output_type": "error",
     "traceback": [
      "\u001b[1;31m---------------------------------------------------------------------------\u001b[0m",
      "\u001b[1;31mIndexError\u001b[0m                                Traceback (most recent call last)",
      "\u001b[1;32m<ipython-input-6-bafb2caa799f>\u001b[0m in \u001b[0;36m<module>\u001b[1;34m()\u001b[0m\n\u001b[1;32m----> 1\u001b[1;33m \u001b[1;32mprint\u001b[0m \u001b[1;34m\"s[100] = \"\u001b[0m \u001b[1;33m+\u001b[0m \u001b[0ms\u001b[0m\u001b[1;33m[\u001b[0m\u001b[1;36m100\u001b[0m\u001b[1;33m]\u001b[0m\u001b[1;33m\u001b[0m\u001b[0m\n\u001b[0m",
      "\u001b[1;31mIndexError\u001b[0m: string index out of range"
     ]
    }
   ],
   "source": [
    "print \"s[100] = \" + s[100]"
   ]
  },
  {
   "cell_type": "markdown",
   "metadata": {
    "collapsed": true
   },
   "source": [
    "해설 : 현재 출력되는 문자역의 인덱스는 100번째 인덱스를 출력 하는 것이다.  \n",
    "    그러나 100번째 인덱스는 문자열 s의 인덱스 범위를 넘었기 때문에 오류가 발생하였습니다."
   ]
  },
  {
   "cell_type": "code",
   "execution_count": 51,
   "metadata": {
    "collapsed": false
   },
   "outputs": [
    {
     "name": "stdout",
     "output_type": "stream",
     "text": [
      "3)\n",
      "결과값은"
     ]
    },
    {
     "ename": "TypeError",
     "evalue": "string indices must be integers, not tuple",
     "output_type": "error",
     "traceback": [
      "\u001b[1;31m---------------------------------------------------------------------------\u001b[0m",
      "\u001b[1;31mTypeError\u001b[0m                                 Traceback (most recent call last)",
      "\u001b[1;32m<ipython-input-51-4077832348cd>\u001b[0m in \u001b[0;36m<module>\u001b[1;34m()\u001b[0m\n\u001b[0;32m      1\u001b[0m \u001b[1;31m#3)\u001b[0m\u001b[1;33m\u001b[0m\u001b[1;33m\u001b[0m\u001b[0m\n\u001b[0;32m      2\u001b[0m \u001b[1;32mprint\u001b[0m \u001b[1;34m\"3)\"\u001b[0m\u001b[1;33m\u001b[0m\u001b[0m\n\u001b[1;32m----> 3\u001b[1;33m \u001b[1;32mprint\u001b[0m \u001b[1;34m'결과값은'\u001b[0m\u001b[1;33m,\u001b[0m\u001b[0ms\u001b[0m\u001b[1;33m[\u001b[0m\u001b[1;33m-\u001b[0m\u001b[1;36m100\u001b[0m\u001b[1;33m,\u001b[0m\u001b[1;36m100\u001b[0m\u001b[1;33m]\u001b[0m\u001b[1;33m,\u001b[0m\u001b[1;34m'입니다.'\u001b[0m\u001b[1;33m\u001b[0m\u001b[0m\n\u001b[0m",
      "\u001b[1;31mTypeError\u001b[0m: string indices must be integers, not tuple"
     ]
    }
   ],
   "source": [
    "#3)\n",
    "print \"3)\"\n",
    "print '결과값은',s[-100,100],'입니다.'"
   ]
  },
  {
   "cell_type": "markdown",
   "metadata": {
    "collapsed": true
   },
   "source": [
    "해설 : 오류를 해석하면 문자역의 인덱스들은 반드시 정수형들이어야 한다. 또는 튜플형식이아니다 라는 거다. 첫번째 인덱스로 인식할 경우 콤마(',')가 되어 있어서 정수형으로 해석이 안된 것이고 튜플로 인식인 안된 겄은 콜론(':')으로 해야되는 데 콤마로 되었기 때문이라고 생각이 됩니다."
   ]
  },
  {
   "cell_type": "code",
   "execution_count": 48,
   "metadata": {
    "collapsed": false
   },
   "outputs": [
    {
     "name": "stdout",
     "output_type": "stream",
     "text": [
      " 4)\n",
      "결과값은 ytho 입니다.\n"
     ]
    }
   ],
   "source": [
    "#4)\n",
    "print \"4)\"\n",
    "print '결과값은',s[1:-1],'입니다.'"
   ]
  },
  {
   "cell_type": "markdown",
   "metadata": {
    "collapsed": true
   },
   "source": [
    "해설 : s[1:-1]은 s[1]부터 s[-1]이전 까지 출력을 하게 됩니다. 이때 s[-1]은 s[5]와 동일한 값입니다. 그러므로 s[1:-1]은 s[1:5]와 동일하게 되고 이 값은 s[1]부터 s[5]이전까지 출력을 하게 되어 'ython'이 나옵니다."
   ]
  },
  {
   "cell_type": "code",
   "execution_count": 52,
   "metadata": {
    "collapsed": false
   },
   "outputs": [
    {
     "name": "stdout",
     "output_type": "stream",
     "text": [
      " 5)\n",
      "결과값  입니다.\n"
     ]
    }
   ],
   "source": [
    "#5)\n",
    "print \"5)\"\n",
    "print '결과값',s[3:-3],'입니다.'"
   ]
  },
  {
   "cell_type": "markdown",
   "metadata": {
    "collapsed": true
   },
   "source": [
    "해설 : s[3:-3]은 s[3]부터 s[-3]이전 까지 출력을 하게 됩니다. 이때 s[-3]은 s[3]와 동일한 값입니다. 그러므로 s[3:-3]은 s[3:3]와 동일하게 되는데 s[3]은 'h'이고 s[-3]도 'h'인데 'h'부터 'h'이전에 것을 출력을 하게 되면 빈 문자를 반환하게 되어 아무것도 출력이 안되게 됩니다."
   ]
  },
  {
   "cell_type": "markdown",
   "metadata": {},
   "source": [
    "####5. for문을 활용하여 1부터 100사이의 홀수를 출력하시오."
   ]
  },
  {
   "cell_type": "code",
   "execution_count": 53,
   "metadata": {
    "collapsed": false
   },
   "outputs": [
    {
     "name": "stdout",
     "output_type": "stream",
     "text": [
      "1 3 5 7 9 11 13 15 17 19 21 23 25 27 29 31 33 35 37 39 41 43 45 47 49 51 53 55 57 59 61 63 65 67 69 71 73 75 77 79 81 83 85 87 89 91 93 95 97 99\n"
     ]
    }
   ],
   "source": [
    "for i in range(1,101,2):\n",
    "    print i,"
   ]
  },
  {
   "cell_type": "markdown",
   "metadata": {},
   "source": [
    "해설 : for문으로 i에 값을 넣어서 반복하여 출력을 한다. 이때 range로 1부터 100사이에서 홀수만 출력해야하므로 step 값을 2로 하여 홀수를 출력하게 하였습니다."
   ]
  },
  {
   "cell_type": "markdown",
   "metadata": {},
   "source": [
    "####6. while문을 활용하여 1부터 100사이의 짝수의 합을 계산하여 출력하시오."
   ]
  },
  {
   "cell_type": "code",
   "execution_count": 54,
   "metadata": {
    "collapsed": false
   },
   "outputs": [
    {
     "name": "stdout",
     "output_type": "stream",
     "text": [
      "2550\n"
     ]
    }
   ],
   "source": [
    "count = 1\n",
    "sum = 0\n",
    "\n",
    "while count < 101:\n",
    "    if count%2 == 0:\n",
    "        sum += count\n",
    "    count+=1\n",
    "    \n",
    "print sum"
   ]
  },
  {
   "cell_type": "markdown",
   "metadata": {},
   "source": [
    "해설 : while문에 빠져나오는 조건으로 count가 101보다 크거나 같을때 하였고 while문 내부에서는 count 값이 짝수이면 sum에 count 값을 누적시킨 후 1을 증가 시켰습니다."
   ]
  },
  {
   "cell_type": "markdown",
   "metadata": {
    "collapsed": true
   },
   "source": [
    "####7.사용자로 부터 임의의 정수를 입력받고, 해당 숫자를 역순으로 출력하는 프로그램을 작성하시오.\n",
    "\n",
    "[실행 예]  \n",
    "  정수를 입력하세요: 3125  \n",
    "  숫자 역순은 5213 입니다.\n"
   ]
  },
  {
   "cell_type": "code",
   "execution_count": 19,
   "metadata": {
    "collapsed": false
   },
   "outputs": [
    {
     "name": "stdout",
     "output_type": "stream",
     "text": [
      "Integer: 3123\n",
      "Reverce integer is 3213\n"
     ]
    }
   ],
   "source": [
    "def digitCountForInteger(number):\n",
    "        digitCount = -1\n",
    "        while number!=0:\n",
    "            number/=10\n",
    "            digitCount+=1\n",
    "        return digitCount\n",
    "\n",
    "num = input(\"Integer: \")\n",
    "result = 0\n",
    "while num!=0:\n",
    "    result = result + ((num%10) * pow(10,digitCountForInteger(num)))\n",
    "    num/=10\n",
    "print 'Reverce integer is', result"
   ]
  },
  {
   "cell_type": "markdown",
   "metadata": {
    "collapsed": true
   },
   "source": [
    "해설 : 역순으로 출력하기 위해 입력 받은 정수 num를 result에 더하고 입력 받은 정수는 10으로 나누어 몫을 num에 새롭게 할당을 합니다.  \n",
    "이때 result에 더할시 나머지의 자리 수를 최상위 자리수로 만들기위해 pow매소드를 사용했습니다.  pow메소드에 들어갈 제곱수인자는 digitCountForInteger 현재 num값을 활용하여 제곱수를 얻어 인자로 활용했습니다."
   ]
  },
  {
   "cell_type": "markdown",
   "metadata": {},
   "source": [
    "####8.사용자로 부터 정수를 입력받아서 1부터 그 사이에 존재하는 소수 (Prime number)를 출력하는 파이썬 프로그램을 작성하시오."
   ]
  },
  {
   "cell_type": "code",
   "execution_count": 9,
   "metadata": {
    "collapsed": false
   },
   "outputs": [
    {
     "name": "stdout",
     "output_type": "stream",
     "text": [
      "Integer: 51\n",
      " Prim number list\n",
      "2 3 5 7 11 13 17 19 23 29 31 37 41 43 47\n"
     ]
    }
   ],
   "source": [
    "import math\n",
    "def isPrime(number):\n",
    "        integerRange=math.floor(math.sqrt(number))\n",
    "        x=3\n",
    "        if number==2:\n",
    "            return True\n",
    "        \n",
    "        if number%2 == 0 or number == 1:\n",
    "            return False\n",
    "        \n",
    "        while x <= integerRange:\n",
    "            if number%x == 0:\n",
    "                return False\n",
    "            x+=2\n",
    "        \n",
    "        \"\"\"\n",
    "        for x in range(3,integerRange+1,2):\n",
    "            if number%x == 0:\n",
    "                return False\n",
    "        \"\"\"\n",
    "        return True\n",
    "\n",
    "number=input(\"Integer: \")\n",
    "print 'Prim number list'\n",
    "for x in range(1, number+1):\n",
    "    if isPrime(x):\n",
    "        print x,\n"
   ]
  },
  {
   "cell_type": "markdown",
   "metadata": {
    "collapsed": true
   },
   "source": [
    "해설 : 소수를 구하는 기존에 알고리즘을 java형식의 코드로 작성을 하면 다음과 같습니다.\n",
    ">Java형식 코드\n",
    "``````{.java}\n",
    "boolean isPrime(int number)\n",
    "{  \n",
    "    if(number == 1)\n",
    "        return false;\n",
    "    for(int i = 2; i<n-1; i++)\n",
    "    {\n",
    "        if(number%i == 0)\n",
    "            return false;\n",
    "    }\n",
    "    return true;\n",
    "}\n",
    "```\n",
    "\n",
    "그러나 위에 정의된 `isPrime()`함수는 어짜피 **2를 제외한 나머지 짝수는 전부 소수가 아니기 때문**에 while문안에서는 **x를 3부터 number까지 2씩 뛰면서 수행 하기 때문에 연산 횟수를 절반으로 줄였습니다.** 여기서 더 줄이기 위해 현재 수행할 정수의 루트값을 이용하여 소수판별을 하였습니다.예를 들어 16이 있으면 16의 약수는 다음과 같습니다.  \n",
    "1 2 4 8 16\n",
    "이런 형식으로 앞뒤가 대칭인 형식으로 나옵니다. 이때 4는 16의 제곱근입니다. 여기서 1부터 4까지 정수를 그룹 A라고 하고 4부터 16까지 정수를 그룹B라는 분류가 생깁니다.  \n",
    "**만약 그룹A 중에 하나가 16에 약수라면 A에 곱해져서 16이 되는 수는 그룹B에 존재하게 됩니다. 그렇기 때문에 만약 그룹A의 모든 정수가 16의 약수가 아니라면 그룹B에도 16의 약수가 존재하지 않게 됩니다.**   \n",
    "그러므로 정수 N이 소수인지 판별할때 2부터 루트N-1까지 검사만 해도 소수인지 판별을 할수 있게 됩니다.  이렇게 작성을하면 기존에 코드에 비해 단위 수행시간이 1/4로 줄게 됩니다.  \n",
    "\n",
    "위 방식을 사용하여 boolean 타입을 반환 하는 `isPrime()`함수를 정의하여 for문으로 1부터 입력 받은 정수까지 반복하여 `isPrime()`에서 True 값이 나온 x만 출력하게 하였습니다."
   ]
  },
  {
   "cell_type": "markdown",
   "metadata": {
    "collapsed": true
   },
   "source": [
    "## 오일러문제"
   ]
  },
  {
   "cell_type": "markdown",
   "metadata": {},
   "source": [
    "####1. 1000보다 작은 자연수 중에서 3 또는 5의 배수를 모두 더하면 얼마일까요?"
   ]
  },
  {
   "cell_type": "code",
   "execution_count": 16,
   "metadata": {
    "collapsed": false
   },
   "outputs": [
    {
     "name": "stdout",
     "output_type": "stream",
     "text": [
      "233168\n"
     ]
    }
   ],
   "source": [
    "list = range(1,1000)\n",
    "caseSum = 0\n",
    "\n",
    "for element in list:\n",
    "    if element%3 == 0 or element%5 == 0:\n",
    "        caseSum += element\n",
    "print caseSum"
   ]
  },
  {
   "cell_type": "markdown",
   "metadata": {},
   "source": [
    "해설 : `range()`함수를 이용하여 1부터 999까지의 정수를 리스트에 저장을 하고 for문으로 list의 값중에서 3또는 5의 배수에 만족하는 element를 caseSum에 누적하여 출력하였습니다."
   ]
  },
  {
   "cell_type": "markdown",
   "metadata": {},
   "source": [
    "####2. 피보나치 수열에서 4백만 이하이면서 짝수인 항의 합"
   ]
  },
  {
   "cell_type": "code",
   "execution_count": 1,
   "metadata": {
    "collapsed": false
   },
   "outputs": [
    {
     "name": "stdout",
     "output_type": "stream",
     "text": [
      "4613732\n"
     ]
    }
   ],
   "source": [
    "previousValue = 1\n",
    "currentValue  = 2\n",
    "caseSum = 0\n",
    "\n",
    "while currentValue <= 4000000:\n",
    "    \n",
    "    if currentValue%2 == 0:\n",
    "        caseSum += currentValue\n",
    "    \n",
    "    previousValue, currentValue = currentValue, previousValue+currentValue\n",
    "    \n",
    "print caseSum"
   ]
  },
  {
   "cell_type": "markdown",
   "metadata": {},
   "source": [
    "해설 : previousValuet에 1을 할당하고 currentValue에 2를 할당을 합니다. 피보나치 수열에서 다음 n=1번째 값은 n-1번째와 n번째 값을 더한 값이기 때문에 while문으로 currentValue에 값이 4백만 이하인동안 반복합니다.  \n",
    "반복하는 동안 currentValue가 짝수이면 caseSum에 누적을 하고 그렇지 않거나 caseSum에 누적연산을 끝내고 previsouValue에는 currentValue 값을 할당하고 currentValue에는 previousValue와 currentValue에 있는 값을 더하여 할당을 합니다.  \n",
    "while 조건이 False가 나오게 되면 누적합을 출력합니다."
   ]
  },
  {
   "cell_type": "markdown",
   "metadata": {},
   "source": [
    "####3. 600851475143의 소인수 중에서 가장 큰 수를 구하세요."
   ]
  },
  {
   "cell_type": "code",
   "execution_count": 12,
   "metadata": {
    "collapsed": false
   },
   "outputs": [
    {
     "name": "stdout",
     "output_type": "stream",
     "text": [
      " 6857\n"
     ]
    }
   ],
   "source": [
    "target=600851475143\n",
    "x=2\n",
    "while x < target:\n",
    "    while target%x == 0:\n",
    "        target/=x\n",
    "    x+=1\n",
    "             \n",
    "print target\n"
   ]
  },
  {
   "cell_type": "markdown",
   "metadata": {},
   "source": [
    "해설  \n",
    "소인수분해를 해야 되는 소인수 분해는 소수들의 곱으로 이루어진 값으로 인수 분해를 하는 것입니다.  \n",
    "우선 바깥 while 문으로 현재 target값이 현재 x값보다 작을때 까지 수행을 합니다. 안쪽 while문은 현재 target값이 현재 x값으로 나눈 나머지가 0이 아닐때까지 수행을 합니다.  \n",
    " 이때 안쪽 while문에서는 target에 현재 target에 현재 x값을 나눈 몫을 새롭게 할당을 합니다.\n",
    "이렇게 하는 이유는 나머지가 0이 안되는 순간 현재 x값으로 나눌수 있는 인수분해가 다 끝났고 그 값만큼 나누어진 나머지가 다른 x로 나눌수 있는 가능성을 갖는 target이 되기 때문입니다.  \n",
    "이런식으로 반복하게 되면 x와 target값이 일치하게 되는 구간이 발생하게 되면 결국 그 target값을 소수가 되므로 소인수중에 가장 큰 수가 되게 되어 출력을 하게 됩니다."
   ]
  },
  {
   "cell_type": "markdown",
   "metadata": {},
   "source": [
    "###소감문\n",
    "이번 실습과제를 통하여 python은 재미있는 언어였다. 그러나 몇가지 불편한 점과 문제점이 있었다.  \n",
    "불편한 점은 아직 C, C++ 그리고 java로만 작성하다보니까 제어문에 괄호와 문단을 구분하는 중괄호를 사용을 못해서 불편했다. 괄호가 있어야 어디까지가 해당 제어문에 몸체이고 어디까지가 하나의 조건인지 보기가 내 입장에서는 편하기 때문이다.\n",
    "소수 찾기 문제에서 for문에서 컨테이너로 `range()`를 사용시 `math.floor(math.sqrt())`를 사용하여 얻은 값을 이용을 하였을때   \n",
    "`range() integer end argument expected, got float.`   \n",
    "라고 TypeError메시지가 나왔다. 이것을 생각하고 유추해보는 계산이 될때 float 타입으로 계산이 되는 것이 아닌가 생각이 든다. 또한 프로젝트 오일러문제에서 600851475143값을 `range()`에도 오버플로우가 나온것을 봐서 `range()`함수는 int형 범위까지만 되는 것으로 보인다.  \n",
    "만약 long타입까지 되는 `range()`가 없다면 개선되야 될 점이 많을것으로 보인다.\n",
    "하지만 사용자 함수에서 여러개의 값을 `return`한다는 것은 코드량이 적어진다는 것은 좋은 점이지만 함수명을 작성할때 그 함수가 어떤 값을 resturn하는 함수인지 함수명으로 작성할때 복잡하게 보일것 같다는 생각이 든다.\n",
    "아직 python이 나온지 얼마 안되었기때문에 조금 더 지나면 아주 좋은 언어가 될것이라고 생각한다."
   ]
  }
 ],
 "metadata": {
  "kernelspec": {
   "display_name": "Python 2",
   "language": "python",
   "name": "python2"
  },
  "language_info": {
   "codemirror_mode": {
    "name": "ipython",
    "version": 2
   },
   "file_extension": ".py",
   "mimetype": "text/x-python",
   "name": "python",
   "nbconvert_exporter": "python",
   "pygments_lexer": "ipython2",
   "version": "2.7.9"
  }
 },
 "nbformat": 4,
 "nbformat_minor": 0
}
