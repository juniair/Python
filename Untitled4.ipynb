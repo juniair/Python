{
 "cells": [
  {
   "cell_type": "code",
   "execution_count": 3,
   "metadata": {
    "collapsed": false
   },
   "outputs": [
    {
     "name": "stdout",
     "output_type": "stream",
     "text": [
      ".git : Directory\n",
      ".gitattributes : file\n",
      ".gitignore : file\n",
      ".ipynb_checkpoints : Directory\n",
      "access.txt : file\n",
      "developer.apple.com.html : file\n",
      "example : Directory\n",
      "Hamlet.ipynb : file\n",
      "hamlet.txt : file\n",
      "HomeWork1.ipynb : file\n",
      "Homework2.ipynb : file\n",
      "Homework3.ipynb : file\n",
      "HomeWork4.ipynb : file\n",
      "HomeWork5.ipynb : file\n",
      "mymath.py : file\n",
      "mymath.pyc : file\n",
      "pickle.txt : file\n",
      "README.md : file\n",
      "s.txt : file\n",
      "s1.txt : file\n",
      "s2.txt : file\n",
      "s3.txt : file\n",
      "temp : Directory\n",
      "temp2 : Directory\n",
      "Untitled.ipynb : file\n",
      "Untitled1.ipynb : file\n",
      "Untitled2.ipynb : file\n",
      "Untitled3.ipynb : file\n",
      "Untitled4.ipynb : file\n",
      "url : Directory\n",
      "�ǽ�1.ipynb : file\n",
      "���� ����� ����.ipynb : file\n"
     ]
    }
   ],
   "source": [
    "import os\n",
    "def filetype(fpath):\n",
    "    print fpath, ':',\n",
    "    if os.path.isfile(fpath):\n",
    "        print 'Regular file'\n",
    "    if os.path.isdir(fpath):\n",
    "        print 'Directory'\n",
    "    if os.path.islink(fpath):\n",
    "        print 'Symbolic link'\n",
    "        \n",
    "flist = os.listdir('.')\n",
    "for fname in flist:\n",
    "    filetype(fname)"
   ]
  },
  {
   "cell_type": "code",
   "execution_count": 3,
   "metadata": {
    "collapsed": false
   },
   "outputs": [
    {
     "name": "stdout",
     "output_type": "stream",
     "text": [
      "!\"#$%&'()*+,-./:;<=>?@[\\]^_`{|}~\n"
     ]
    }
   ],
   "source": [
    "print string.punctuation"
   ]
  },
  {
   "cell_type": "code",
   "execution_count": 5,
   "metadata": {
    "collapsed": false
   },
   "outputs": [
    {
     "name": "stdout",
     "output_type": "stream",
     "text": [
      "__main__\n"
     ]
    }
   ],
   "source": [
    "print __name__"
   ]
  },
  {
   "cell_type": "code",
   "execution_count": 14,
   "metadata": {
    "collapsed": false
   },
   "outputs": [
    {
     "name": "stdout",
     "output_type": "stream",
     "text": [
      "It is not 'mymath' working space\n"
     ]
    }
   ],
   "source": [
    "import mymath"
   ]
  },
  {
   "cell_type": "code",
   "execution_count": 21,
   "metadata": {
    "collapsed": false
   },
   "outputs": [
    {
     "name": "stdout",
     "output_type": "stream",
     "text": [
      "Birthday Wed Dec 09 18:29:40 2015\n",
      "Sleeping for 3 sec\n",
      "Deathday Wed Dec 09 18:29:43 2015\n"
     ]
    }
   ],
   "source": [
    "from time import ctime, sleep\n",
    "\n",
    "class Life:\n",
    "    def __init__(self):              # 생성자\n",
    "        self.birth = ctime()         # 현재시간에 대한 문자열을 얻는다.\n",
    "        print 'Birthday', self.birth # 현재 시간 출력\n",
    "    def __del__(self):               # 소멸자\n",
    "        print 'Deathday', ctime()    # 소멸 시간 출력 \n",
    "\n",
    "def test():\n",
    "    mylife = Life()\n",
    "    print 'Sleeping for 3 sec'\n",
    "    \n",
    "\n",
    "test()"
   ]
  },
  {
   "cell_type": "code",
   "execution_count": 24,
   "metadata": {
    "canopy_exercise": {
     "cell_type": "<None>"
    },
    "collapsed": false
   },
   "outputs": [
    {
     "data": {
      "text/plain": [
       "\"I'm an animal! - Miauuu\""
      ]
     },
     "execution_count": 24,
     "metadata": {},
     "output_type": "execute_result"
    }
   ],
   "source": [
    "from abc import *\n",
    "\n",
    "class Animal:\n",
    "    __metaclass__ = ABCMeta\n",
    "    \n",
    "    @abstractmethod\n",
    "    def say_something(self):\n",
    "        return \"I'm an animal!\"\n",
    "    \n",
    "class Cat(Animal):\n",
    "    def say_something(self):\n",
    "        s = super(Cat, self).say_something()\n",
    "        return \"%s - %s\" % (s, \"Miauuu\")\n",
    "    \n",
    "c = Cat()\n",
    "c.say_something()"
   ]
  },
  {
   "cell_type": "code",
   "execution_count": 25,
   "metadata": {
    "collapsed": false
   },
   "outputs": [
    {
     "name": "stdout",
     "output_type": "stream",
     "text": [
      "(0, 1)\n"
     ]
    }
   ],
   "source": [
    "print divmod(1,2)"
   ]
  },
  {
   "cell_type": "code",
   "execution_count": 50,
   "metadata": {
    "collapsed": false
   },
   "outputs": [
    {
     "name": "stdout",
     "output_type": "stream",
     "text": [
      "10\n",
      "1\n",
      "16\n"
     ]
    },
    {
     "ename": "IndexError",
     "evalue": "20",
     "output_type": "error",
     "traceback": [
      "\u001b[1;31m---------------------------------------------------------------------------\u001b[0m",
      "\u001b[1;31mIndexError\u001b[0m                                Traceback (most recent call last)",
      "\u001b[1;32m<ipython-input-50-78c6c0117c4f>\u001b[0m in \u001b[0;36m<module>\u001b[1;34m()\u001b[0m\n\u001b[0;32m     13\u001b[0m \u001b[1;32mprint\u001b[0m \u001b[0ms1\u001b[0m\u001b[1;33m[\u001b[0m\u001b[1;36m1\u001b[0m\u001b[1;33m]\u001b[0m \u001b[1;31m#s1.__getitem__(1)\u001b[0m\u001b[1;33m\u001b[0m\u001b[0m\n\u001b[0;32m     14\u001b[0m \u001b[1;32mprint\u001b[0m \u001b[0ms1\u001b[0m\u001b[1;33m[\u001b[0m\u001b[1;36m4\u001b[0m\u001b[1;33m]\u001b[0m\u001b[1;33m\u001b[0m\u001b[0m\n\u001b[1;32m---> 15\u001b[1;33m \u001b[1;32mprint\u001b[0m \u001b[0ms1\u001b[0m\u001b[1;33m[\u001b[0m\u001b[1;36m20\u001b[0m\u001b[1;33m]\u001b[0m\u001b[1;33m\u001b[0m\u001b[0m\n\u001b[0m",
      "\u001b[1;32m<ipython-input-50-78c6c0117c4f>\u001b[0m in \u001b[0;36m__getitem__\u001b[1;34m(self, k)\u001b[0m\n\u001b[0;32m      6\u001b[0m     \u001b[1;32mdef\u001b[0m \u001b[0m__getitem__\u001b[0m\u001b[1;33m(\u001b[0m\u001b[0mself\u001b[0m\u001b[1;33m,\u001b[0m \u001b[0mk\u001b[0m\u001b[1;33m)\u001b[0m\u001b[1;33m:\u001b[0m\u001b[1;33m\u001b[0m\u001b[0m\n\u001b[0;32m      7\u001b[0m         \u001b[1;32mif\u001b[0m \u001b[0mk\u001b[0m \u001b[1;33m<\u001b[0m \u001b[1;36m0\u001b[0m \u001b[1;32mor\u001b[0m \u001b[0mself\u001b[0m\u001b[1;33m.\u001b[0m\u001b[0mend\u001b[0m \u001b[1;33m<=\u001b[0m \u001b[0mk\u001b[0m\u001b[1;33m:\u001b[0m\u001b[1;33m\u001b[0m\u001b[0m\n\u001b[1;32m----> 8\u001b[1;33m             \u001b[1;32mraise\u001b[0m \u001b[0mIndexError\u001b[0m\u001b[1;33m,\u001b[0m \u001b[0mk\u001b[0m\u001b[1;33m\u001b[0m\u001b[0m\n\u001b[0m\u001b[0;32m      9\u001b[0m         \u001b[1;32mreturn\u001b[0m \u001b[0mk\u001b[0m \u001b[1;33m*\u001b[0m \u001b[0mk\u001b[0m\u001b[1;33m\u001b[0m\u001b[0m\n\u001b[0;32m     10\u001b[0m \u001b[1;33m\u001b[0m\u001b[0m\n",
      "\u001b[1;31mIndexError\u001b[0m: 20"
     ]
    }
   ],
   "source": [
    "class Square:\n",
    "    def __init__(self, end):\n",
    "        self.end = end\n",
    "    def __len__(self):\n",
    "        return self.end\n",
    "    def __getitem__(self, k):\n",
    "        if k < 0 or self.end <= k: \n",
    "            raise IndexError, k\n",
    "        return k * k\n",
    "    \n",
    "s1 = Square(10)\n",
    "print len(s1) # s1.__len__()\n",
    "print s1[1] #s1.__getitem__(1)\n",
    "print s1[4]\n",
    "print s1[20]\n"
   ]
  },
  {
   "cell_type": "code",
   "execution_count": 52,
   "metadata": {
    "collapsed": false
   },
   "outputs": [
    {
     "name": "stdout",
     "output_type": "stream",
     "text": [
      "0 1 4 9 16 25 36 49 64 81\n"
     ]
    }
   ],
   "source": [
    "for x in s1:\n",
    "    print x,"
   ]
  },
  {
   "cell_type": "code",
   "execution_count": 54,
   "metadata": {
    "collapsed": false
   },
   "outputs": [
    {
     "name": "stdout",
     "output_type": "stream",
     "text": [
      "[0, 1, 4, 9, 16, 25, 36, 49, 64, 81]\n",
      "(0, 1, 4, 9, 16, 25, 36, 49, 64, 81)\n"
     ]
    }
   ],
   "source": [
    "print list(s1)\n",
    "print tuple(s1)"
   ]
  },
  {
   "cell_type": "code",
   "execution_count": 62,
   "metadata": {
    "collapsed": false
   },
   "outputs": [
    {
     "name": "stdout",
     "output_type": "stream",
     "text": [
      "{1:a, day:light, night:darkness}\n",
      "light\n",
      "darkness\n",
      "3\n"
     ]
    }
   ],
   "source": [
    "class MyDict:\n",
    "    def __init__(self, d = None):\n",
    "        if d == None: \n",
    "            d = {}\n",
    "        self.d = d\n",
    "    def __getitem__(self, k): #key\n",
    "        return self.d[k]\n",
    "    def __setitem__(self, k, v):\n",
    "        self.d[k] = v\n",
    "    def __len__(self):\n",
    "        return len(self.d)\n",
    "    def __str__(self):\n",
    "        result = \"{\"\n",
    "        for key, value in self.d.items():\n",
    "            result = result + str(key) + \":\" + str(value) + \", \"\n",
    "        result = result[0:len(result)-2] + \"}\"\n",
    "        return result\n",
    "    \n",
    "m = MyDict({1:'a'})            #__init__호출\n",
    "m['day'] = 'light'      #__setitem__호출\n",
    "m['night'] = 'darkness' #__setitem__호출 \n",
    "print m\n",
    "print m['day']          #__getitem__호출\n",
    "print m['night']        #__getitem__호출\n",
    "print len(m)            #__len__호출\n"
   ]
  },
  {
   "cell_type": "code",
   "execution_count": 74,
   "metadata": {
    "collapsed": false
   },
   "outputs": [
    {
     "name": "stdout",
     "output_type": "stream",
     "text": [
      "[4, 5]\n",
      "[1, 2, 3, 4, 5]\n",
      "5\n",
      "4\n",
      "[1, 2, 3]\n"
     ]
    }
   ],
   "source": [
    "class Stack(list):\n",
    "    push = list.append\n",
    "    \n",
    "s = Stack()\n",
    "\n",
    "s.push(4)\n",
    "s.push(5)\n",
    "print s\n",
    "s = Stack([1,2,3])\n",
    "s.push(4)\n",
    "s.push(5)\n",
    "print s\n",
    "print s.pop()\n",
    "print s.pop()\n",
    "print s"
   ]
  },
  {
   "cell_type": "code",
   "execution_count": 44,
   "metadata": {
    "collapsed": false,
    "scrolled": true
   },
   "outputs": [
    {
     "name": "stdout",
     "output_type": "stream",
     "text": [
      "<type 'file'>\n"
     ]
    }
   ],
   "source": [
    "f = open(\"s.txt\")\n",
    "\n",
    "print type(f)"
   ]
  },
  {
   "cell_type": "code",
   "execution_count": 49,
   "metadata": {
    "collapsed": false
   },
   "outputs": [
    {
     "name": "stdout",
     "output_type": "stream",
     "text": [
      "<type 'xrange'>\n"
     ]
    }
   ],
   "source": [
    "print type(xrange(30))"
   ]
  },
  {
   "cell_type": "code",
   "execution_count": 50,
   "metadata": {
    "collapsed": true
   },
   "outputs": [],
   "source": [
    "xrange?"
   ]
  },
  {
   "cell_type": "code",
   "execution_count": null,
   "metadata": {
    "collapsed": true
   },
   "outputs": [],
   "source": []
  }
 ],
 "metadata": {
  "kernelspec": {
   "display_name": "Python 2",
   "language": "python",
   "name": "python2"
  },
  "language_info": {
   "codemirror_mode": {
    "name": "ipython",
    "version": 2
   },
   "file_extension": ".py",
   "mimetype": "text/x-python",
   "name": "python",
   "nbconvert_exporter": "python",
   "pygments_lexer": "ipython2",
   "version": "2.7.10"
  }
 },
 "nbformat": 4,
 "nbformat_minor": 0
}
