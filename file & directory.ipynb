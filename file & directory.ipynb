{
 "cells": [
  {
   "cell_type": "code",
   "execution_count": 7,
   "metadata": {
    "collapsed": false
   },
   "outputs": [
    {
     "name": "stdout",
     "output_type": "stream",
     "text": [
      "['.git', '.gitattributes', '.gitignore', '.ipynb_checkpoints', 'file & directory.ipynb', 'hamlet.txt', 'HomeWork1.ipynb', 'Homework2.ipynb', 'Homework3.ipynb', 'pickle.txt', 'pickle2.txt', 'test.ipynb', '\\xbd\\xc7\\xbd\\xc01.ipynb', '\\xc6\\xc4\\xc0\\xcf \\xc0\\xd4\\xc3\\xe2\\xb7\\xc2 \\xbf\\xac\\xbd\\xc0.ipynb']\n",
      "\n",
      "['.ipynb_checkpoints', 'aaa', 'BeautifulSoup-3.2.1', 'beautifulsoup4-4.4.1.tar', 'beautifulsoup4-4.4.1.tar.gz', 'ComputerSystem', 'dist', 'GoLang', 'html2text-master', 'mytest', 'PPT', 'ProjectEuler', 'Python', 'python-e-learning-master', 'TEST', 'tre']\n"
     ]
    }
   ],
   "source": [
    "import os\n",
    "\n",
    "print unicode(os.listdir('.'))\n",
    "print\n",
    "\n",
    "print unicode(os.listdir('../'))"
   ]
  },
  {
   "cell_type": "code",
   "execution_count": 6,
   "metadata": {
    "collapsed": false
   },
   "outputs": [
    {
     "name": "stdout",
     "output_type": "stream",
     "text": [
      ".git : Directory\n",
      ".gitattributes : Regular file\n",
      ".gitignore : Regular file\n",
      ".ipynb_checkpoints : Directory\n",
      "file & directory.ipynb : Regular file\n",
      "hamlet.txt : Regular file\n",
      "HomeWork1.ipynb : Regular file\n",
      "Homework2.ipynb : Regular file\n",
      "Homework3.ipynb : Regular file\n",
      "pickle.txt : Regular file\n",
      "pickle2.txt : Regular file\n",
      "test.ipynb : Regular file\n",
      "�ǽ�1.ipynb : Regular file\n",
      "���� ����� ����.ipynb : Regular file\n"
     ]
    }
   ],
   "source": [
    "import os\n",
    "def filetype(fpath):\n",
    "    print fpath, ':',\n",
    "    if os.path.isfile(fpath):\n",
    "        print 'Regular file'\n",
    "    if os.path.isdir(fpath):\n",
    "        print 'Directory'\n",
    "    if os.path.islink(fpath):\n",
    "        print 'Symbolic link'\n",
    "        \n",
    "flist = os.listdir('.')\n",
    "for fname in flist:\n",
    "    filetype(fname)"
   ]
  },
  {
   "cell_type": "code",
   "execution_count": 8,
   "metadata": {
    "collapsed": false
   },
   "outputs": [
    {
     "name": "stdout",
     "output_type": "stream",
     "text": [
      ".git : Exists R W X\n",
      ".gitattributes : Exists R W X\n",
      ".gitignore : Exists R W X\n",
      ".ipynb_checkpoints : Exists R W X\n",
      "file & directory.ipynb : Exists R W X\n",
      "hamlet.txt : Exists R W X\n",
      "HomeWork1.ipynb : Exists R W X\n",
      "Homework2.ipynb : Exists R W X\n",
      "Homework3.ipynb : Exists R W X\n",
      "pickle.txt : Exists R W X\n",
      "pickle2.txt : Exists R W X\n",
      "test.ipynb : Exists R W X\n",
      "�ǽ�1.ipynb : Exists R W X\n",
      "���� ����� ����.ipynb : Exists R W X\n"
     ]
    }
   ],
   "source": [
    "#파일 접근자 확인법\n",
    "import os\n",
    "def fileaccess(fpath):\n",
    "    print fpath, ':',\n",
    "    if os.access(fpath, os.F_OK): \n",
    "        print 'Exists',\n",
    "    else: \n",
    "        return\n",
    "    if os.access(fpath, os.R_OK): \n",
    "        print 'R',\n",
    "    if os.access(fpath, os.W_OK): \n",
    "        print 'W',\n",
    "    if os.access(fpath, os.X_OK): \n",
    "        print 'X',\n",
    "    print \n",
    "    \n",
    "flist = os.listdir('.')\n",
    "for fname in flist:\n",
    "    fileaccess(fname)\n"
   ]
  },
  {
   "cell_type": "code",
   "execution_count": 9,
   "metadata": {
    "collapsed": false
   },
   "outputs": [
    {
     "name": "stdout",
     "output_type": "stream",
     "text": [
      "\\\n"
     ]
    }
   ],
   "source": [
    "print os.sep"
   ]
  },
  {
   "cell_type": "code",
   "execution_count": 12,
   "metadata": {
    "collapsed": false
   },
   "outputs": [
    {
     "name": "stdout",
     "output_type": "stream",
     "text": [
      "True\n"
     ]
    }
   ],
   "source": [
    "os.rename('t1.txt', 'example/t1.txt') # 현재 작업 디렉토리의 t1.txt를 example에 t1.txt이름으로 옮긴다.\n",
    "print os.access('example/t1.txt', os.F_OK)\n"
   ]
  },
  {
   "cell_type": "code",
   "execution_count": 13,
   "metadata": {
    "collapsed": false
   },
   "outputs": [
    {
     "name": "stdout",
     "output_type": "stream",
     "text": [
      "C:\\Users\\junia\\Documents\\GitHub\\Python\n"
     ]
    }
   ],
   "source": [
    "print os.getcwd()"
   ]
  },
  {
   "cell_type": "code",
   "execution_count": 14,
   "metadata": {
    "collapsed": false
   },
   "outputs": [
    {
     "name": "stdout",
     "output_type": "stream",
     "text": [
      "False\n",
      "False\n",
      "False\n"
     ]
    }
   ],
   "source": [
    "import os\n",
    "\n",
    "os.mkdir('temp')        # 0755 기본 모드(rwxr-xr-x)로 만들어짐\n",
    "os.mkdir('temp2', 0700) # 0700 모드(rwx------)로 만들어짐\n",
    "os.makedirs('temp/level1/level2') #0755 기본 모드, 중간에 필요한 디렉토리도 모두생성\n",
    "\n",
    "print os.access('/Users/yhhan/Public/temp', os.F_OK)\n",
    "print os.access('/Users/yhhan/Public/temp2', os.F_OK)\n",
    "print os.access('/Users/yhhan/Public/temp/level1/level2', os.F_OK)\n"
   ]
  },
  {
   "cell_type": "code",
   "execution_count": 18,
   "metadata": {
    "collapsed": false
   },
   "outputs": [
    {
     "name": "stdout",
     "output_type": "stream",
     "text": [
      "191733\n",
      "196195\n"
     ]
    }
   ],
   "source": [
    "f = open('hamlet.txt')\n",
    "print len(f.read())\n",
    "f.close()\n",
    "print os.path.getsize('hamlet.txt')"
   ]
  },
  {
   "cell_type": "code",
   "execution_count": null,
   "metadata": {
    "collapsed": true
   },
   "outputs": [],
   "source": []
  }
 ],
 "metadata": {
  "kernelspec": {
   "display_name": "Python 2",
   "language": "python",
   "name": "python2"
  },
  "language_info": {
   "codemirror_mode": {
    "name": "ipython",
    "version": 2
   },
   "file_extension": ".py",
   "mimetype": "text/x-python",
   "name": "python",
   "nbconvert_exporter": "python",
   "pygments_lexer": "ipython2",
   "version": "2.7.9"
  }
 },
 "nbformat": 4,
 "nbformat_minor": 0
}
