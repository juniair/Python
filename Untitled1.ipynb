{
 "cells": [
  {
   "cell_type": "code",
   "execution_count": 8,
   "metadata": {
    "collapsed": false
   },
   "outputs": [
    {
     "name": "stdout",
     "output_type": "stream",
     "text": [
      "[1, 2, 3, 'spam', 4, 5]\n",
      "\n",
      "<class '__main__.MyList'>\n",
      "[1, 2, 3, 5]\n"
     ]
    }
   ],
   "source": [
    "class MyList(list):\n",
    "    def __sub__(self, other):\n",
    "        for x in other:\n",
    "            \n",
    "            if x in self:\n",
    "                self.remove(x)\n",
    "        return self\n",
    "\n",
    "    \n",
    "L = MyList([1,2,3,'spam',4,5])\n",
    "print L\n",
    "print \n",
    "\n",
    "L = L - ['spam',4]\n",
    "print L"
   ]
  },
  {
   "cell_type": "code",
   "execution_count": null,
   "metadata": {
    "collapsed": true
   },
   "outputs": [],
   "source": []
  }
 ],
 "metadata": {
  "kernelspec": {
   "display_name": "Python 2",
   "language": "python",
   "name": "python2"
  },
  "language_info": {
   "codemirror_mode": {
    "name": "ipython",
    "version": 2
   },
   "file_extension": ".py",
   "mimetype": "text/x-python",
   "name": "python",
   "nbconvert_exporter": "python",
   "pygments_lexer": "ipython2",
   "version": "2.7.9"
  }
 },
 "nbformat": 4,
 "nbformat_minor": 0
}
